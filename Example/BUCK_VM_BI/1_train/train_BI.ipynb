{
 "cells": [
  {
   "cell_type": "markdown",
   "id": "8508da4b",
   "metadata": {},
   "source": [
    "# Voltage Mode Buck with Behaviour Imitation (BI)  \n"
   ]
  },
  {
   "cell_type": "markdown",
   "id": "7df0267b",
   "metadata": {},
   "source": [
    "## 📝Revisoin History\n",
    "\n",
    "- **2025-06-29** Initial release.\n"
   ]
  },
  {
   "cell_type": "markdown",
   "metadata": {},
   "source": [
    "## 📁 Directories\n",
    "```\n",
    "PyTorch2LTspice/\n",
    "├── PyTorch2LTspice/\n",
    "│   └── PyTorch2LTspice.py\n",
    "└── Example/\n",
    "    └── BUCK_VM_BI/\n",
    "        └── 1_train/\n",
    "            ├── BUCK_VM_BI_gym1.asc             # LTspice schematics\n",
    "            ├── BUCK_VM_BI_gym2.asc             # LTspice schematics\n",
    "            ├── *BUCK_VM_BI_param.txt           # Parameter file for LTspice simulation (backup from last LTSpice simulation)\n",
    "            ├── *BUCK_VM_BI_nn.sp               # Actor subcircuit file (backup from last LTSpice simulation)\n",
    "            ├── *actor_final.pth                # Actor PyTorch model (backup from last LTSpice simulation)\n",
    "            └── *gym                            # Working directly for the training\n",
    "                ├── *log.csv                    # Log file of the simulation\n",
    "                ├── *loss_plot.html             # Reward plot\n",
    "                ├── *BUKC_VM_BI_param_epXX.txt  # Parameter file for each episode\n",
    "                ├── *BUKC_VM_BI_nn_epXX.sp      # Actor subcircuit file for each episode\n",
    "                ├── *actor_epXX.pth             # Actor model for each episode\n",
    "                ├── *actor_epXX.pth             # Actor model for each episode\n",
    "* Files/Directory created by this notebook.\n",
    "```"
   ]
  },
  {
   "cell_type": "markdown",
   "id": "91097687",
   "metadata": {},
   "source": [
    "## ⚔️ LTspice Training Circuit"
   ]
  },
  {
   "cell_type": "markdown",
   "id": "cae993ea",
   "metadata": {},
   "source": [
    "### Gym1\n",
    "![BUCK_VM_BI_gym1.png](.\\BUCK_VM_BI_gym1.png)\n",
    "\n",
    "### Gym2\n",
    "![BUCK_VM_BI_gym2.png](.\\BUCK_VM_BI_gym2.png)"
   ]
  },
  {
   "cell_type": "markdown",
   "id": "54965b25",
   "metadata": {},
   "source": [
    "## 📗Import Libraries"
   ]
  },
  {
   "cell_type": "code",
   "execution_count": null,
   "id": "78e2441b-3307-4f28-a96f-4fda5e4c667c",
   "metadata": {},
   "outputs": [],
   "source": [
    "import os\n",
    "import shutil\n",
    "import sys\n",
    "import numpy as np\n",
    "import pandas as pd\n",
    "import torch\n",
    "from torch import nn, optim\n",
    "from PyLTSpice import SimRunner, RawRead, LTspice\n",
    "sys.path.insert(0, os.path.join(os.getcwd(), '..', '..', '..', 'PyTorch2LTspice'))\n",
    "from PyTorch2LTspice import export_model_to_ltspice\n",
    "from datetime import datetime\n",
    "import plotly.graph_objects as go\n",
    "import ipywidgets as widgets\n",
    "from IPython.display import display, clear_output, HTML"
   ]
  },
  {
   "cell_type": "markdown",
   "id": "b7d9576f",
   "metadata": {},
   "source": [
    "## ⚙️Configuration"
   ]
  },
  {
   "cell_type": "code",
   "execution_count": null,
   "id": "dc7dbb01-c5df-43d9-9ca9-d22c863f43cd",
   "metadata": {},
   "outputs": [],
   "source": [
    "# Model IO count\n",
    "NNIN=19\n",
    "NNOUT=1"
   ]
  },
  {
   "cell_type": "code",
   "execution_count": null,
   "id": "d8369334-5bc0-4862-b46d-6af93c5cae33",
   "metadata": {},
   "outputs": [],
   "source": [
    "# Hyperparameters\n",
    "STEPS_PER_EPISODE = 2048    \n",
    "EPOCH             = 200\n",
    "SIM_TIMEOUT       = 500   #LTSPICE timeout time (sec)"
   ]
  },
  {
   "cell_type": "code",
   "execution_count": null,
   "id": "4d277e61-03ef-418b-8cc7-f746aa83560b",
   "metadata": {},
   "outputs": [],
   "source": [
    "# File/Directory\n",
    "ASCFILE1 = 'BUCK_VM_BI_gym1.asc'\n",
    "ASCFILE2 = 'BUCK_VM_BI_gym2.asc'\n",
    "NNFILE = 'BUCK_VM_BI_nn.sp'\n",
    "PARAMFILE = 'BUCK_VM_BI_param.txt'\n",
    "WORKDIR = './gym'\n",
    "MODEL_ACTOR = 'actor_final.pth'\n",
    "#create WORKDIR if it doesn't exist\n",
    "os.makedirs(WORKDIR, exist_ok=True)"
   ]
  },
  {
   "cell_type": "markdown",
   "id": "a627f0ed",
   "metadata": {},
   "source": [
    "## 🧩Helping Functions"
   ]
  },
  {
   "cell_type": "markdown",
   "id": "1ed4b961",
   "metadata": {},
   "source": [
    "### Helping function to create parameter file"
   ]
  },
  {
   "cell_type": "code",
   "execution_count": null,
   "id": "bca93bd5-accc-4bcc-9c3d-6ac8663d35a9",
   "metadata": {},
   "outputs": [],
   "source": [
    "def generate_param_file(params, filename):\n",
    "    with open(filename, 'w', encoding='utf-8') as f:\n",
    "        for name, value in params.items():\n",
    "            f.write(f\".param {name}={value}\\n\")\n",
    "        f.write(f\".include {NNFILE}\\n\")\n",
    "        f.write(\"X99 NNin1 NNin2 NNin3 NNin4 NNin5 NNin6 NNin7 NNin8 NNin9 NNin10 NNin11 NNin12 NNin13 NNin14 NNin15 NNin16 NNin17 NNin18 NNin19 NNout1 ActorSubckt\\n\")\n",
    "        f.write(\".save V(ctrlclk) V(NNin1) V(NNin2) V(NNin3) V(NNin4) V(NNin5) V(NNin6) V(NNin7) V(NNin8) V(NNin9) V(NNin10) V(NNin11) V(NNin12) V(NNin13) V(NNin14) V(NNin15) V(NNin16) V(NNin17) V(NNin18) V(NNin19) V(NNout1) V(NNpwm)\\n\")\n"
   ]
  },
  {
   "cell_type": "markdown",
   "id": "31bb982d",
   "metadata": {},
   "source": [
    "Helping functions to create parameter"
   ]
  },
  {
   "cell_type": "code",
   "execution_count": null,
   "id": "d7b20470",
   "metadata": {},
   "outputs": [],
   "source": [
    "def generate_params_random():\n",
    "    return {\n",
    "        'vin':  np.random.uniform(150, 250),\n",
    "        'ro':   np.random.uniform(5, 80),\n",
    "        'Lo':   np.random.uniform(20e-6, 100e-6),\n",
    "        'vref': np.random.uniform(50, 150),\n",
    "        'fsw':  50e3,\n",
    "        'VMAX': 250,\n",
    "        'STEPS': STEPS_PER_EPISODE\n",
    "    }\n"
   ]
  },
  {
   "cell_type": "markdown",
   "id": "95197b47-c24e-409b-8559-7c892ad09df4",
   "metadata": {},
   "source": [
    "## 🧩Create Actor Networks\n",
    "Loads .pth file if MODEL_ACTOR files exists. Otherwise creates new network."
   ]
  },
  {
   "cell_type": "code",
   "execution_count": null,
   "id": "3430133c-fcaa-403f-bfee-b36c55ad8906",
   "metadata": {},
   "outputs": [],
   "source": [
    "class Actor(nn.Module):\n",
    "    def __init__(self, input_dim=19, hidden1=32, hidden2=16, output_dim=1):\n",
    "        super().__init__()\n",
    "        self.model = nn.Sequential(\n",
    "            nn.Linear(input_dim, hidden1), nn.ReLU(),\n",
    "            nn.Linear(hidden1, hidden2), nn.ReLU(),\n",
    "            nn.Linear(hidden2, output_dim),\n",
    "            nn.Sigmoid()\n",
    "        )\n",
    "\n",
    "    def forward(self, x):\n",
    "        return self.model(x)\n",
    "\n",
    "\n",
    "# Instantiate networks and optimizers\n",
    "device = torch.device('cpu')\n",
    "actor  = Actor().to(device)\n",
    "optimizer  = optim.Adam(actor.parameters(), lr=1e-4)\n",
    "loss_fn = nn.MSELoss()\n",
    "\n",
    "\n",
    "# Load saved models if available\n",
    "if os.path.exists(MODEL_ACTOR):\n",
    "    #actor.load_state_dict(torch.load(MODEL_ACTOR, map_location=device, weights_only=False))\n",
    "    actor.load_state_dict(torch.load(MODEL_ACTOR, map_location=device))\n",
    "    print(f\"Loaded saved actor model from {MODEL_ACTOR}\")\n",
    "else:\n",
    "    torch.save(actor.state_dict(), MODEL_ACTOR)\n",
    "    print(f\"Created new actor model and saved to {MODEL_ACTOR}\")"
   ]
  },
  {
   "cell_type": "markdown",
   "id": "27505284-f2f5-4230-8d30-099ec1b6407e",
   "metadata": {},
   "source": [
    "## 🧩LTSpice execution routine "
   ]
  },
  {
   "cell_type": "markdown",
   "id": "2064be99",
   "metadata": {},
   "source": [
    "Helping function to extract Status/Action data from .RAW file.\n",
    "Stops data extraction once duty output gets out of range. "
   ]
  },
  {
   "cell_type": "code",
   "execution_count": null,
   "id": "7f511915",
   "metadata": {},
   "outputs": [],
   "source": [
    "def extract_data(df, clk_col='V(ctrlclk)', threshold=0.5):\n",
    "    clk = df[clk_col].values\n",
    "\n",
    "    # Check if the clock starts at high level\n",
    "    if clk[0] > threshold:\n",
    "        raise ValueError(\"Clock started with Level Hi\")\n",
    "\n",
    "    indices = []\n",
    "    state = 'LOW'\n",
    "\n",
    "    for i in range(1, len(clk)):\n",
    "        if state == 'LOW' and clk[i - 1] <= threshold and clk[i] > threshold:\n",
    "            state = 'HIGH'  # Rising edge detected\n",
    "        elif state == 'HIGH' and clk[i - 1] > threshold and clk[i] <= threshold:\n",
    "            # Falling edge detected\n",
    "            indices.append(i)\n",
    "            state = 'LOW'\n",
    "    df_falling_edges = df.iloc[indices].reset_index(drop=True)\n",
    "    return df_falling_edges"
   ]
  },
  {
   "cell_type": "markdown",
   "id": "fdaf3292",
   "metadata": {},
   "source": [
    "LTspice execution"
   ]
  },
  {
   "cell_type": "code",
   "execution_count": null,
   "id": "4a030e9a-e689-44fe-adfe-e3632faf0643",
   "metadata": {},
   "outputs": [],
   "source": [
    "def run_episode(asc_file, work_dir):\n",
    "    # 1) Create PyLTspice SimRunner instance\n",
    "    runner = SimRunner(output_folder=work_dir, simulator=LTspice)\n",
    "    netlist = runner.create_netlist(asc_file)\n",
    "    \n",
    "    # 2) Run simulation\n",
    "    raw, log = runner.run_now(netlist, timeout=SIM_TIMEOUT)\n",
    "    raw_data = RawRead(raw)\n",
    "    df = raw_data.to_dataframe()\n",
    "    df = extract_data(df)\n",
    "\n",
    "    # 3) Extract states, actions\n",
    "    x_data  = df[[f'V(nnin{i+1})' for i in range(19)]].values[:-1]\n",
    "    y_data = df['V(nnpwm)'].values[:-1]\n",
    "    y_pred = df['V(nnout1)'].values[:-1]\n",
    "\n",
    "    # 4) Crean PyLTspice files\n",
    "    runner.cleanup_files()\n",
    "\n",
    "    return x_data, y_data, y_pred, df"
   ]
  },
  {
   "cell_type": "markdown",
   "id": "4b8feba4-ca9a-41ef-846d-c059e9f36219",
   "metadata": {},
   "source": [
    "## 🧩BI Update Step"
   ]
  },
  {
   "cell_type": "code",
   "execution_count": null,
   "id": "9ff40ebe",
   "metadata": {},
   "outputs": [],
   "source": [
    "def bi_update(x_data, y_data, epochs=200):\n",
    "    \n",
    "    x_tensor  = torch.tensor(x_data,  dtype=torch.float32, device=device)\n",
    "    y_tensor = torch.tensor(y_data, dtype=torch.float32, device=device).reshape(-1, 1)\n",
    "\n",
    "    losses = []\n",
    "    for epoch in range(epochs):\n",
    "        optimizer.zero_grad()\n",
    "        y_pred = actor(x_tensor)\n",
    "        loss = loss_fn(y_pred, y_tensor)\n",
    "        loss.backward()\n",
    "        optimizer.step()\n",
    "        \n",
    "        losses.append(loss.item())\n",
    "        if epoch % 20 == 0:\n",
    "            print(f\"Epoch {epoch}, Loss: {loss.item():.6f}\")\n",
    "\n",
    "    return (loss.item())"
   ]
  },
  {
   "cell_type": "markdown",
   "id": "260c0a58",
   "metadata": {},
   "source": [
    "## 📉Training Status Plot "
   ]
  },
  {
   "cell_type": "code",
   "execution_count": null,
   "id": "491793e9",
   "metadata": {},
   "outputs": [],
   "source": [
    "fig_loss = go.FigureWidget()\n",
    "fig_loss.add_trace(go.Scatter(x=[], y=[], mode='lines+markers', name='loss actor', yaxis='y1'))\n",
    "fig_loss.update_layout(xaxis=dict(title='Episode'), yaxis=dict(title='loss',type='log'), legend=dict(x=0, y=1.2, orientation='h'))\n",
    "\n",
    "fig_nn = go.FigureWidget()\n",
    "fig_nn.add_trace(go.Scatter(x=[], y=[], name='nnin1(Vo/Vmax)', yaxis='y1', mode='lines+markers'))\n",
    "fig_nn.add_trace(go.Scatter(x=[], y=[], name='nnin17(Vref/Vmax)', yaxis='y1', mode='lines'))\n",
    "fig_nn.add_trace(go.Scatter(x=[], y=[], name='nnpwm', yaxis='y1', mode='lines+markers'))\n",
    "fig_nn.add_trace(go.Scatter(x=[], y=[], name='nnout1', yaxis='y1', mode='lines+markers'))\n",
    "fig_nn.update_layout(xaxis=dict(title='Step'), yaxis=dict(title='NNIO'))\n",
    "fig_nn.update_layout(legend=dict(orientation=\"h\", x=0.5, y=-0.3, xanchor='center', yanchor='top'),height=500)\n",
    "t = list(range(STEPS_PER_EPISODE)) \n",
    "for i in range(4):\n",
    "    fig_nn.data[i].x = t\n",
    "\n"
   ]
  },
  {
   "cell_type": "markdown",
   "id": "211a0c59-e1b0-4236-b107-2bcf54db47e3",
   "metadata": {},
   "source": [
    "## ♻️Training Loop"
   ]
  },
  {
   "cell_type": "code",
   "execution_count": null,
   "id": "1be38d90",
   "metadata": {},
   "outputs": [],
   "source": [
    "#reload or newly create log.csv\n",
    "if os.path.exists(\"./gym/log.csv\"):\n",
    "    summary_df = pd.read_csv(\"./gym/log.csv\") \n",
    "else:\n",
    "    summary_df = pd.DataFrame(columns=['episode','sim time','loss_actor','vin','ro','Lo','vref','fsw','std','steps','epoch','Vout/Vin','Iout/Icrit'])\n",
    "\n",
    "\n",
    "def train_loop(base_ep, num_ep, param_fn, asc_file):        \n",
    "    # Remove episode data from summary_df from base_ep onwards\n",
    "    global summary_df\n",
    "    summary_df = summary_df[summary_df['episode'] < base_ep].reset_index(drop=True)\n",
    "\n",
    "    # Main loop\n",
    "    for ep in range(base_ep , base_ep+num_ep):\n",
    "        try:\n",
    "            sim_time = datetime.now().strftime('%Y-%m-%d %H:%M:%S')\n",
    "            print(f\">>> {sim_time}\")\n",
    "\n",
    "            # 1) Save actor files\n",
    "            torch.save(actor.state_dict(), WORKDIR+f\"/actor_ep{ep}.pth\")\n",
    "            torch.save(actor.state_dict(), MODEL_ACTOR)\n",
    "\n",
    "            # 2) Export current actor to SPICE subckt\n",
    "            export_model_to_ltspice(actor.model, filename=NNFILE, subckt_name='ActorSubckt', verbose=False)\n",
    "            shutil.copy2(NNFILE, WORKDIR)\n",
    "            name, ext = os.path.splitext(NNFILE)   \n",
    "            shutil.copy2(NNFILE, f\"{WORKDIR}/{name}_ep{ep}{ext}\")   \n",
    "            \n",
    "            # 3) Generate Parameter file\n",
    "            params = param_fn()\n",
    "            generate_param_file(params, PARAMFILE)\n",
    "            shutil.copy2(PARAMFILE, WORKDIR)\n",
    "            name, ext = os.path.splitext(PARAMFILE)   \n",
    "            shutil.copy2(PARAMFILE, f\"{WORKDIR}/{name}_ep{ep}{ext}\")   \n",
    "            \n",
    "            # 4) Run one full episode in LTspice\n",
    "            vout_vin = params['vref'] / params['vin']\n",
    "            iout_icrit = params['vref'] / params['ro'] / (0.5 * params['vref'] * (params['vin'] - params['vref']) / params['fsw'] / 0.0002 / params['vin'])\n",
    "            print(f\"[Ep{ep}/{base_ep+num_ep-1}] Vout/Vin:{vout_vin:.2f}, Iout/Icrit:{iout_icrit:.3f}\")   #L=200uH\n",
    "            x_data, y_data, y_pred, df = run_episode(asc_file, WORKDIR)\n",
    "\n",
    "            # 5) Perform \n",
    "            loss_actor = bi_update(x_data, y_data, epochs=EPOCH)\n",
    "            \n",
    "            # 8) Update&Save episode graph\n",
    "            fig_nn.data[0].y = df['V(nnin1)']\n",
    "            fig_nn.data[1].y = df['V(nnin17)']\n",
    "            fig_nn.data[2].y = df['V(nnpwm)']\n",
    "            fig_nn.data[3].y = df['V(nnout1)']\n",
    "            fig_nn.update_layout(title_text=f\"Ep{ep}: Vout/Vin={vout_vin:.2f}, Iout/Icrit={iout_icrit:.2f}\")\n",
    "\n",
    "            # 9) Append summary\n",
    "            summary_df.loc[len(summary_df)] = {\n",
    "                'episode':      ep,\n",
    "                'sim time':     sim_time,\n",
    "                'loss_actor':   loss_actor,\n",
    "                'vin':          params['vin'],\n",
    "                'ro':           params['ro'],\n",
    "                'Lo':           params['Lo'],\n",
    "                'vref':         params['vref'],\n",
    "                'fsw':          params['fsw'],\n",
    "                'steps':        STEPS_PER_EPISODE,\n",
    "                'epoch':        EPOCH,\n",
    "                'Vout/Vin':     vout_vin,\n",
    "                'Iout/Icrit':   iout_icrit\n",
    "            }\n",
    "\n",
    "            # 10) Update/Save learning curve plot\n",
    "            fig_loss.data[0].x = summary_df['episode']\n",
    "            fig_loss.data[0].y = summary_df['loss_actor']\n",
    "            loss_html_path = os.path.join(WORKDIR, \"loss_plot.html\")\n",
    "            fig_loss.write_html(loss_html_path, include_plotlyjs='cdn')\n",
    "\n",
    "\n",
    "            # 12) Save summary to CSV\n",
    "            episode_csv = os.path.join(WORKDIR, 'log.csv')\n",
    "            summary_df.to_csv(episode_csv, index=False)    \n",
    "\n",
    "            # 13) Save actor files\n",
    "            torch.save(actor.state_dict(), MODEL_ACTOR)\n",
    "\n",
    "        except Exception as e:\n",
    "            print(f\"[Ep{ep}/{base_ep+num_ep-1}] ERROR: Failed with exception: {e}\")\n",
    "            continue\n",
    "\n"
   ]
  },
  {
   "cell_type": "markdown",
   "id": "2f7d39ed",
   "metadata": {},
   "source": [
    "##  🧠Training Display"
   ]
  },
  {
   "cell_type": "code",
   "execution_count": null,
   "id": "66860446",
   "metadata": {},
   "outputs": [],
   "source": [
    "display(fig_loss)\n",
    "display(fig_nn)"
   ]
  },
  {
   "cell_type": "markdown",
   "id": "b79c1e63",
   "metadata": {},
   "source": [
    "##  🧠Training Steps(Example)"
   ]
  },
  {
   "cell_type": "code",
   "execution_count": null,
   "id": "15cd6a28",
   "metadata": {},
   "outputs": [],
   "source": [
    "train_loop(1,300,generate_params_random,ASCFILE1)"
   ]
  },
  {
   "cell_type": "code",
   "execution_count": null,
   "id": "8c574c20",
   "metadata": {},
   "outputs": [],
   "source": [
    "train_loop(201,200,generate_params_random,ASCFILE2)"
   ]
  },
  {
   "cell_type": "code",
   "execution_count": null,
   "id": "31476abb",
   "metadata": {},
   "outputs": [],
   "source": []
  }
 ],
 "metadata": {
  "kernelspec": {
   "display_name": "Python 3",
   "language": "python",
   "name": "python3"
  },
  "language_info": {
   "codemirror_mode": {
    "name": "ipython",
    "version": 3
   },
   "file_extension": ".py",
   "mimetype": "text/x-python",
   "name": "python",
   "nbconvert_exporter": "python",
   "pygments_lexer": "ipython3",
   "version": "3.13.4"
  }
 },
 "nbformat": 4,
 "nbformat_minor": 5
}
