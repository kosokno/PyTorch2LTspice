{
 "cells": [
  {
   "cell_type": "markdown",
   "id": "6b224dd2",
   "metadata": {},
   "source": [
    "# ModelGen: PyTorch → LTspice Model Generator"
   ]
  },
  {
   "cell_type": "markdown",
   "id": "6255334b",
   "metadata": {},
   "source": [
    "This notebook is a utility tool for generating PyTorch models from simple switch-based definitions,\n",
    "automatically converting them into standalone `.py` classes and LTspice subcircuits `.sp`, and then \n",
    "running parity checks between PyTorch and LTspice outputs.\n",
    "\n",
    "---\n",
    "\n",
    "## Features\n",
    "\n",
    "1. **Switch-based model definition**  \n",
    "   - Models are defined with `nn.Sequential` presets using a simple `make_model()` function.  \n",
    "   - Users only need to add a new `elif` block to register their own model.  \n",
    "   - Supports:\n",
    "     - Pure MLP (no recurrent cells)  \n",
    "     - Models with `RNNCell`, `GRUCell`, `LSTMCell` at any layer  \n",
    "     - Stacked recurrent cells  \n",
    "\n",
    "2. **Automatic code generation**  \n",
    "   - From a given `nn.Sequential`, the notebook generates a PyTorch class (`<NAME>`) with:\n",
    "     - `step(x, state)` for stateful execution  \n",
    "     - `forward(x)` for stateless execution  \n",
    "   - The code is saved as a `.py` file in the same directory.\n",
    "\n",
    "3. **LTspice subcircuit export**  \n",
    "   - The generated model class (not the original `Sequential`) is exported to a `.sp` file.  \n",
    "   - Input/output ports: `NNIN1..NNIN9`, `NNOUT1..NNOUT2`.  \n",
    "   - Hidden ports (`HIN*`, `HOUT*`, `CIN*`, `COUT*`) are included automatically if recurrent cells exist.  \n",
    "   - The `.py` and `.sp` files are always created as a **pair**.\n",
    "\n",
    "4. **Parity check utilities**  \n",
    "   - LTspice is run with a selected `.asc` environment (e.g., `env_buck_9x2.asc`).  \n",
    "   - Observations from LTspice are passed to the PyTorch model.  \n",
    "   - PyTorch outputs are compared with LTspice outputs (`NNOUT*`).  \n",
    "   - MAE/MSE metrics can be printed and plotted.\n",
    "\n",
    "---\n"
   ]
  },
  {
   "cell_type": "markdown",
   "id": "2d20ace2",
   "metadata": {},
   "source": [
    "## Change Log:\n",
    "\n",
    "2025-09-21, Initial Version\n",
    "\n",
    "---"
   ]
  },
  {
   "cell_type": "code",
   "execution_count": 1,
   "id": "da34d8d6",
   "metadata": {},
   "outputs": [],
   "source": [
    "import importlib\n",
    "import importlib.util\n",
    "import os\n",
    "import shutil\n",
    "import sys\n",
    "import textwrap\n",
    "from pathlib import Path\n",
    "from typing import Any, Dict, List, Optional, Tuple\n",
    "\n",
    "import numpy as np\n",
    "import plotly.graph_objects as go\n",
    "import torch\n",
    "from torch import nn\n",
    "\n",
    "from PyLTSpice import LTspice, RawRead, SimRunner\n",
    "\n",
    "sys.path.insert(0, os.path.join(os.getcwd(), '..', '..', 'PyTorch2LTspice'))\n",
    "from PyTorch2LTspice import export_model_to_ltspice\n"
   ]
  },
  {
   "cell_type": "markdown",
   "id": "602efcf5",
   "metadata": {},
   "source": [
    "---\n",
    "## Configuration"
   ]
  },
  {
   "cell_type": "code",
   "execution_count": 2,
   "id": "2eb302a7",
   "metadata": {},
   "outputs": [],
   "source": [
    "# Environment configuration\n",
    "ENV_NAME = \"env_buck_9x2\"              # Select environment file here\n",
    "ENV_CONFIG = {\n",
    "    \"env_buck_9x1\":  {\"in\": 9, \"out\": 1},\n",
    "    \"env_buck_9x2\":  {\"in\": 9, \"out\": 2},\n",
    "    # Add more environments as needed\n",
    "}\n",
    "\n",
    "# Model configuration\n",
    "MODEL_NAME = \"mlp\"                     # \"mlp\"/\"rnn_linear\"/\"gru_linear\"/\"linear_lstm_linear\"\n",
    "MODEL_CONFIG = {\n",
    "    \"mlp\":  {\"clk_needed\": False},\n",
    "    \"rnn_linear\":  {\"clk_needed\": True},\n",
    "    \"gru_linear\":  {\"clk_needed\": True},\n",
    "    \"linear_lstm_linear\":  {\"clk_needed\": True},\n",
    "    # Add more models as needed\n",
    "}\n",
    "SUBCKT_NAME = MODEL_NAME                      # Sub-circuit name in LTspice\n",
    "\n",
    "\n",
    "# LTspice simulation configuration\n",
    "SIM_STEP = 200                         # Nnumber of time steps to run in LTSpice \n",
    "SIM_TIMEOUT = 300                      # Timeout therhold in seconds\n",
    "\n",
    "# Working directory for pyLTspice\n",
    "NOTEBOOK_DIR = Path.cwd()\n",
    "ENVDIR  = NOTEBOOK_DIR / \"env\"\n",
    "OUTDIR  = NOTEBOOK_DIR / \"env\"         # save at same directory as .asc file\n",
    "WORKDIR = NOTEBOOK_DIR / \"tmp\" \n",
    "WORKDIR.mkdir(exist_ok=True)"
   ]
  },
  {
   "cell_type": "markdown",
   "id": "cd24be7c",
   "metadata": {},
   "source": [
    "---\n",
    "## Model Definition"
   ]
  },
  {
   "cell_type": "code",
   "execution_count": 3,
   "id": "3430133c-fcaa-403f-bfee-b36c55ad8906",
   "metadata": {},
   "outputs": [],
   "source": [
    "def make_model(model_name: str) -> nn.Sequential:\n",
    "    if model_name == \"mlp\":\n",
    "        return nn.Sequential(\n",
    "            nn.Linear(ENV_CONFIG[ENV_NAME][\"in\"], 32),\n",
    "            nn.ReLU(),\n",
    "            nn.Linear(32, 32),\n",
    "            nn.ReLU(),\n",
    "            nn.Linear(32, ENV_CONFIG[ENV_NAME][\"out\"]),\n",
    "            nn.Tanh(),\n",
    "        )\n",
    "    elif model_name == \"rnn_linear\":\n",
    "        return nn.Sequential(\n",
    "            nn.RNNCell(ENV_CONFIG[ENV_NAME][\"in\"], 32),\n",
    "            nn.Linear(32, ENV_CONFIG[ENV_NAME][\"out\"]),\n",
    "            nn.Tanh(),\n",
    "        )\n",
    "    elif model_name == \"gru_linear\":\n",
    "        return nn.Sequential(\n",
    "            nn.GRUCell(ENV_CONFIG[ENV_NAME][\"in\"], 32),\n",
    "            nn.Linear(32, ENV_CONFIG[ENV_NAME][\"out\"]),\n",
    "            nn.Tanh(),\n",
    "        )\n",
    "    elif model_name == \"linear_lstm_linear\":\n",
    "        return nn.Sequential(\n",
    "            nn.Linear(ENV_CONFIG[ENV_NAME][\"in\"], 32),\n",
    "            nn.Tanh(),\n",
    "            nn.LSTMCell(32, 32),\n",
    "            nn.Linear(32, ENV_CONFIG[ENV_NAME][\"out\"]),\n",
    "            nn.Tanh(),\n",
    "        )\n",
    "    # Example extension for stacked LSTM cells:\n",
    "    # elif model_name == \"stacked_lstm\":\n",
    "    #     return nn.Sequential(\n",
    "    #         nn.LSTMCell(ENV_CONFIG[ENV_NAME][\"in\"], 32),\n",
    "    #         nn.LSTMCell(32, 32),\n",
    "    #         nn.Linear(32, ENV_CONFIG[ENV_NAME][\"out\"]),\n",
    "    #         nn.Tanh(),\n",
    "    #     )\n",
    "    else:\n",
    "        raise ValueError(f\"Unknown model preset: {model_name}\")\n"
   ]
  },
  {
   "cell_type": "markdown",
   "id": "29dcadc1",
   "metadata": {},
   "source": [
    "---\n",
    "## PyTorch Code Generator"
   ]
  },
  {
   "cell_type": "code",
   "execution_count": 4,
   "id": "ac03a7a6",
   "metadata": {},
   "outputs": [],
   "source": [
    "SUPPORTED_LAYERS: Dict[type, str] = {\n",
    "    nn.Linear: \"nn.Linear\",\n",
    "    nn.ReLU: \"nn.ReLU\",\n",
    "    nn.Sigmoid: \"nn.Sigmoid\",\n",
    "    nn.Tanh: \"nn.Tanh\",\n",
    "    nn.RNNCell: \"nn.RNNCell\",\n",
    "    nn.GRUCell: \"nn.GRUCell\",\n",
    "    nn.LSTMCell: \"nn.LSTMCell\",\n",
    "}\n",
    "CELL_TYPES = (nn.RNNCell, nn.GRUCell, nn.LSTMCell)\n",
    "\n",
    "\n",
    "def _layer_to_ctor_line(layer: nn.Module, idx: int) -> str:\n",
    "    prefix = f\"self.l{idx} = \"\n",
    "    if isinstance(layer, nn.Linear):\n",
    "        bias_flag = layer.bias is not None\n",
    "        return f\"{prefix}nn.Linear({layer.in_features}, {layer.out_features}, bias={bias_flag})\"\n",
    "    if isinstance(layer, nn.ReLU):\n",
    "        return f\"{prefix}nn.ReLU(inplace={layer.inplace})\"\n",
    "    if isinstance(layer, nn.Sigmoid):\n",
    "        return f\"{prefix}nn.Sigmoid()\"\n",
    "    if isinstance(layer, nn.Tanh):\n",
    "        return f\"{prefix}nn.Tanh()\"\n",
    "    if isinstance(layer, nn.RNNCell):\n",
    "        bias_flag = bool(layer.bias)\n",
    "        return (\n",
    "            f\"{prefix}nn.RNNCell({layer.input_size}, {layer.hidden_size}, \"\n",
    "            f\"nonlinearity={repr(layer.nonlinearity)}, bias={bias_flag})\"\n",
    "        )\n",
    "    if isinstance(layer, nn.GRUCell):\n",
    "        bias_flag = bool(layer.bias)\n",
    "        return f\"{prefix}nn.GRUCell({layer.input_size}, {layer.hidden_size}, bias={bias_flag})\"\n",
    "    if isinstance(layer, nn.LSTMCell):\n",
    "        bias_flag = bool(layer.bias)\n",
    "        return f\"{prefix}nn.LSTMCell({layer.input_size}, {layer.hidden_size}, bias={bias_flag})\"\n",
    "    raise ValueError(f\"Unsupported layer for code generation: {type(layer)}\")\n",
    "\n",
    "\n",
    "def generate_model_code_from_sequential(name: str, seq: nn.Sequential) -> Tuple[str, str]:\n",
    "    class_name = f\"{name}\".replace('-', '_')\n",
    "    ctor_lines: List[str] = []\n",
    "    model_lines: List[str] = [\"                self.model = nn.Sequential(\"]\n",
    "    cell_indices: List[int] = []\n",
    "\n",
    "    for idx, layer in enumerate(seq):\n",
    "        if type(layer) not in SUPPORTED_LAYERS:\n",
    "            raise TypeError(f\"Layer type {type(layer)} is not supported.\")\n",
    "        ctor_lines.append(f\"                {_layer_to_ctor_line(layer, idx)}\")\n",
    "        suffix = ',' if idx < len(seq) - 1 else ''\n",
    "        model_lines.append(f\"                    self.l{idx}{suffix}\")\n",
    "        if isinstance(layer, CELL_TYPES):\n",
    "            cell_indices.append(idx)\n",
    "\n",
    "    model_lines.append(\"                )\")\n",
    "    ctor_block = \"\\n\".join(ctor_lines)\n",
    "    model_block = \"\\n\".join(model_lines)\n",
    "    cell_idx_literal = ', '.join(str(i) for i in cell_indices)\n",
    "\n",
    "    code = textwrap.dedent(\n",
    "        f\"\"\"\n",
    "        import torch\n",
    "        import torch.nn as nn\n",
    "        from typing import Any, List, Optional, Tuple\n",
    "\n",
    "        class {class_name}(nn.Module):\n",
    "            def __init__(self):\n",
    "                super().__init__()\n",
    "{ctor_block}\n",
    "{model_block}\n",
    "                self._cells = [{cell_idx_literal}]\n",
    "                self._num_layers = {len(seq)}\n",
    "\n",
    "            def _prepare_state_list(self, state: Optional[List[Any]]) -> List[Any]:\n",
    "                if not self._cells:\n",
    "                    return []\n",
    "                if state is None:\n",
    "                    return [None] * len(self._cells)\n",
    "                state_list = list(state)\n",
    "                if len(state_list) != len(self._cells):\n",
    "                    raise ValueError(f\"Expected {{len(self._cells)}} state entries, got {{len(state_list)}}.\")\n",
    "                return state_list\n",
    "\n",
    "            def step(self, x: torch.Tensor, state: Optional[List[Any]]):\n",
    "                if x.dim() != 2:\n",
    "                    raise ValueError(\"step expects a 2D tensor shaped (B, D).\")\n",
    "                current = x\n",
    "                state_list = self._prepare_state_list(state)\n",
    "                next_states: List[Any] = []\n",
    "                cell_ptr = 0\n",
    "                for layer_idx in range(self._num_layers):\n",
    "                    layer = getattr(self, f\"l{{layer_idx}}\")\n",
    "                    if layer_idx in self._cells:\n",
    "                        prev = state_list[cell_ptr]\n",
    "                        if isinstance(layer, nn.LSTMCell):\n",
    "                            if prev is None:\n",
    "                                h_prev = current.new_zeros((current.size(0), layer.hidden_size))\n",
    "                                c_prev = current.new_zeros((current.size(0), layer.hidden_size))\n",
    "                            else:\n",
    "                                h_prev, c_prev = prev\n",
    "                            h, c = layer(current, (h_prev, c_prev))\n",
    "                            current = h\n",
    "                            next_states.append((h, c))\n",
    "                        else:\n",
    "                            if prev is None:\n",
    "                                h_prev = current.new_zeros((current.size(0), layer.hidden_size))\n",
    "                            else:\n",
    "                                h_prev = prev\n",
    "                            h = layer(current, h_prev)\n",
    "                            current = h\n",
    "                            next_states.append(h)\n",
    "                        cell_ptr += 1\n",
    "                    else:\n",
    "                        current = layer(current)\n",
    "                return current, next_states if self._cells else None\n",
    "\n",
    "            def forward(self, x: torch.Tensor, state: Optional[List[Any]] = None):\n",
    "                if not self._cells:\n",
    "                    if x.dim() == 1:\n",
    "                        return self.model(x.unsqueeze(0)).squeeze(0)\n",
    "                    if x.dim() == 2:\n",
    "                        return self.model(x)\n",
    "                    if x.dim() == 3:\n",
    "                        b, t, f = x.shape\n",
    "                        y = self.model(x.reshape(b * t, f))\n",
    "                        return y.reshape(b, t, -1)\n",
    "                    raise ValueError(\"MLP forward expects tensors with rank 1, 2, or 3.\")\n",
    "\n",
    "                if x.dim() == 1:\n",
    "                    out, _ = self.step(x.unsqueeze(0), state)\n",
    "                    return out.squeeze(0)\n",
    "\n",
    "                if x.dim() == 2:\n",
    "                    state_in = state\n",
    "                    outputs: List[torch.Tensor] = []\n",
    "                    for t in range(x.size(0)):\n",
    "                        step_input = x[t].unsqueeze(0)\n",
    "                        out, state_in = self.step(step_input, state_in)\n",
    "                        outputs.append(out)\n",
    "                    return torch.cat(outputs, dim=0)\n",
    "\n",
    "                if x.dim() == 3:\n",
    "                    state_in = state\n",
    "                    outputs: List[torch.Tensor] = []\n",
    "                    for t in range(x.size(1)):\n",
    "                        step_input = x[:, t, :]\n",
    "                        out, state_in = self.step(step_input, state_in)\n",
    "                        outputs.append(out.unsqueeze(1))\n",
    "                    return torch.cat(outputs, dim=1)\n",
    "\n",
    "                raise ValueError(\"RNN forward expects tensors with rank 1, 2, or 3.\")\n",
    "        \"\"\"\n",
    "    ).strip()\n",
    "    return class_name, code\n",
    "\n",
    "\n",
    "def save_model_code(code: str, out_name: str) -> Path:\n",
    "    \"\"\"Write generated code under ENVDIR and return the file path.\"\"\"\n",
    "    ENVDIR.mkdir(parents=True, exist_ok=True)\n",
    "    py_path = ENVDIR / f\"{out_name}.py\"\n",
    "    py_path.write_text(code, encoding='utf-8')\n",
    "    return py_path\n",
    "\n",
    "\n",
    "def import_or_reload_generated(py_path: Path, class_name: str):\n",
    "    module_name = py_path.stem\n",
    "    importlib.invalidate_caches()\n",
    "    if module_name in sys.modules:\n",
    "        module = importlib.reload(sys.modules[module_name])\n",
    "    else:\n",
    "        spec = importlib.util.spec_from_file_location(module_name, str(py_path))\n",
    "        module = importlib.util.module_from_spec(spec)\n",
    "        assert spec.loader is not None\n",
    "        spec.loader.exec_module(module)\n",
    "        sys.modules[module_name] = module\n",
    "    return getattr(module, class_name)\n",
    "\n"
   ]
  },
  {
   "cell_type": "markdown",
   "id": "9d42671e",
   "metadata": {},
   "source": [
    "---\n",
    "## LTspice data extractor"
   ]
  },
  {
   "cell_type": "code",
   "execution_count": 5,
   "id": "b316207e",
   "metadata": {},
   "outputs": [],
   "source": [
    "# Helping Function to extract observation data from LTSpice\n",
    "def extract_data(df, clk_col='V(ctrlclk)', threshold=0.5):\n",
    "    clk = df[clk_col].values\n",
    "\n",
    "    # Check if the clock starts at high level\n",
    "    if clk[0] > threshold:\n",
    "        raise ValueError(\"Clock started with Level Hi\")\n",
    "\n",
    "    indices = []\n",
    "    state = 'LOW'\n",
    "\n",
    "    for i in range(1, len(clk)):\n",
    "        if state == 'LOW' and clk[i - 1] <= threshold and clk[i] > threshold:\n",
    "            state = 'HIGH'  # Rising edge detected\n",
    "        elif state == 'HIGH' and clk[i - 1] > threshold and clk[i] <= threshold:\n",
    "            # Falling edge detected\n",
    "            indices.append(i)\n",
    "            state = 'LOW'\n",
    "    df_falling_edges = df.iloc[indices].reset_index(drop=True)\n",
    "    return df_falling_edges"
   ]
  },
  {
   "cell_type": "markdown",
   "id": "0e23ca84",
   "metadata": {},
   "source": [
    "---\n",
    "## Step0) Global variables for Step1-3"
   ]
  },
  {
   "cell_type": "code",
   "execution_count": 6,
   "id": "96bfc2c1",
   "metadata": {},
   "outputs": [],
   "source": [
    "DEVICE = torch.device('cpu')"
   ]
  },
  {
   "cell_type": "markdown",
   "id": "bf0b1d5e",
   "metadata": {},
   "source": [
    "---\n",
    "## Step1) Create Python code and LTspice sub-circuit"
   ]
  },
  {
   "cell_type": "code",
   "execution_count": 7,
   "id": "69f55f21",
   "metadata": {},
   "outputs": [],
   "source": [
    "def step1() -> nn.modules:\n",
    "    # Select input sequential model\n",
    "    seq = make_model(MODEL_NAME)\n",
    "\n",
    "    # Generate & Save python code\n",
    "    class_name, code = generate_model_code_from_sequential(MODEL_NAME, seq)\n",
    "    py_path = save_model_code(code, PY_FILENAME)\n",
    "\n",
    "    # Import and instantiate the generated class\n",
    "    GenClass = import_or_reload_generated(py_path, class_name)\n",
    "    actor  = GenClass().to(DEVICE)\n",
    "\n",
    "    # Export LTSpice sub-circuit\n",
    "    export_model_to_ltspice(actor.model, filename=f\"{OUTDIR}/{SP_FILENAME}.sp\", subckt_name=SUBCKT_NAME, verbose=False)\n",
    "\n",
    "    return actor\n"
   ]
  },
  {
   "cell_type": "markdown",
   "id": "a467d605",
   "metadata": {},
   "source": [
    "## Step2) Run Simulation on LTspice and Python"
   ]
  },
  {
   "cell_type": "code",
   "execution_count": 8,
   "id": "90f47b63",
   "metadata": {},
   "outputs": [],
   "source": [
    "def step2(module):\n",
    "    # 0) Create parameter file\n",
    "    with open(f\"{ENVDIR}/{ENV_NAME}_param.txt\", 'w', encoding='utf-8') as f:\n",
    "        f.write(f\".param STEPS={SIM_STEP}\\n\")\n",
    "        nn_inputs = ' '.join(f'NNin{i+1}' for i in range(ENV_CONFIG[ENV_NAME][\"in\"]))\n",
    "        nn_outputs = ' '.join(f'NNout{i+1}' for i in range(ENV_CONFIG[ENV_NAME][\"out\"]))\n",
    "        CELL_TYPES = (nn.RNNCell, nn.GRUCell, nn.LSTMCell)\n",
    "        ports = \" \".join(p for p in [nn_inputs, (\"ctrlclk\" if MODEL_CONFIG[MODEL_NAME][\"clk_needed\"] else \"\"), nn_outputs] if p)\n",
    "        f.write(f\"X99 {ports} {SUBCKT_NAME}\\n\")\n",
    "        f.write(f\".include {SP_FILENAME}.sp\\n\")\n",
    "\n",
    "    # 1) Create PyLTspice SimRunner instance at WORKDIR\n",
    "    shutil.copy2(f\"{OUTDIR}/{SP_FILENAME}.sp\", f\"{WORKDIR}/\")  \n",
    "    shutil.copy2(f\"{ENVDIR}/{ENV_NAME}_param.txt\", f\"{WORKDIR}/\")  \n",
    "    runner = SimRunner(output_folder=WORKDIR, simulator=LTspice)\n",
    "    netlist = runner.create_netlist(f\"{ENVDIR}/{ENV_NAME}.asc\")\n",
    "        \n",
    "    # 2) Run LTSpice simulation\n",
    "    raw, log = runner.run_now(netlist, timeout=SIM_TIMEOUT)\n",
    "    raw_data = RawRead(raw)\n",
    "    df = raw_data.to_dataframe()\n",
    "    df = extract_data(df)\n",
    "\n",
    "    # 3) Extract states, actions\n",
    "    states  = df[[f'V(nnin{i+1})' for i in range(ENV_CONFIG[ENV_NAME][\"in\"])]].values[:-1]          # S[t]\n",
    "    actions  = df[[f'V(nnout{i+1})' for i in range(ENV_CONFIG[ENV_NAME][\"out\"])]].values[:-1]       # A[t]\n",
    "\n",
    "    # 4) Clean PyLTspice files\n",
    "    runner.cleanup_files()\n",
    "    os.remove(f\"{ENVDIR}/{ENV_NAME}.net\")\n",
    "    os.remove(f\"{WORKDIR}/{SP_FILENAME}.sp\")\n",
    "    os.remove(f\"{WORKDIR}/{ENV_NAME}_param.txt\")\n",
    "\n",
    "    # 5) Calculate PyTorch output using observation from LTspice\n",
    "    states_t  = torch.tensor(states,  dtype=torch.float32, device=DEVICE)\n",
    "    with torch.no_grad():\n",
    "        actions_py = actor(states_t).cpu().numpy()\n",
    "        if actions_py.ndim == 1:\n",
    "            actions_py = actions_py.reshape(-1, ENV_CONFIG[ENV_NAME][\"out\"])\n",
    "\n",
    "    return actions, actions_py\n"
   ]
  },
  {
   "cell_type": "markdown",
   "id": "dfc1262c",
   "metadata": {},
   "source": [
    "## Step3) Compare outputs from PyTorch and LTspice"
   ]
  },
  {
   "cell_type": "code",
   "execution_count": 9,
   "id": "244756d1",
   "metadata": {},
   "outputs": [],
   "source": [
    "def step3(actions, actions_py):\n",
    "    #Plot Scatter graph\n",
    "    fig = go.Figure()\n",
    "    ltspice_y = np.asarray(actions)\n",
    "    pytorch_y = np.asarray(actions_py)\n",
    "    samples = ltspice_y.shape[0]\n",
    "    x_axis = np.arange(samples)\n",
    "    for idx in range(ltspice_y.shape[1]):\n",
    "        fig.add_trace(go.Scatter(\n",
    "            x=x_axis,\n",
    "            y=ltspice_y[:, idx],\n",
    "            mode='markers',\n",
    "            name=f'NNOUT{idx + 1}(LTspice)'\n",
    "        ))\n",
    "        fig.add_trace(go.Scatter(\n",
    "            x=x_axis,\n",
    "            y=pytorch_y[:, idx],\n",
    "            mode='markers',\n",
    "            name=f'NNOUT{idx + 1}(PyTorch)'\n",
    "        ))\n",
    "    fig.update_layout(\n",
    "        title=f\"ENV={ENV_NAME}<br>MODEL={MODEL_NAME}\",\n",
    "        xaxis_title='Sample index',\n",
    "        yaxis_title='Output'\n",
    "    )\n",
    "    fig.show()\n",
    "\n",
    "    #Print MAE/MSE \n",
    "    diff = actions - actions_py\n",
    "    mae_per_output = np.mean(np.abs(diff), axis=0)\n",
    "    mse_per_output = np.mean(diff ** 2, axis=0)\n",
    "    for idx, (mae_val, mse_val) in enumerate(zip(mae_per_output, mse_per_output), start=1):\n",
    "        print(f\"  NNOUT{idx}: MAE={mae_val:.6f}, MSE={mse_val:.6f}\")"
   ]
  },
  {
   "cell_type": "markdown",
   "id": "8d698651",
   "metadata": {},
   "source": [
    "---\n",
    "## Execution"
   ]
  },
  {
   "cell_type": "code",
   "execution_count": 10,
   "id": "a6e9e370",
   "metadata": {},
   "outputs": [
    {
     "data": {
      "application/vnd.plotly.v1+json": {
       "config": {
        "plotlyServerURL": "https://plot.ly"
       },
       "data": [
        {
         "mode": "markers",
         "name": "NNOUT1(LTspice)",
         "type": "scatter",
         "x": {
          "bdata": "AAABAAIAAwAEAAUABgAHAAgACQAKAAsADAANAA4ADwAQABEAEgATABQAFQAWABcAGAAZABoAGwAcAB0AHgAfACAAIQAiACMAJAAlACYAJwAoACkAKgArACwALQAuAC8AMAAxADIAMwA0ADUANgA3ADgAOQA6ADsAPAA9AD4APwBAAEEAQgBDAEQARQBGAEcASABJAEoASwBMAE0ATgBPAFAAUQBSAFMAVABVAFYAVwBYAFkAWgBbAFwAXQBeAF8AYABhAGIAYwBkAGUAZgBnAGgAaQBqAGsAbABtAG4AbwBwAHEAcgBzAHQAdQB2AHcAeAB5AHoAewB8AH0AfgB/AIAAgQCCAIMAhACFAIYAhwCIAIkAigCLAIwAjQCOAI8AkACRAJIAkwCUAJUAlgCXAJgAmQCaAJsAnACdAJ4AnwCgAKEAogCjAKQApQCmAKcAqACpAKoAqwCsAK0ArgCvALAAsQCyALMAtAC1ALYAtwC4ALkAugC7ALwAvQC+AL8AwADBAMIAwwDEAMUAxgDHAA==",
          "dtype": "i2"
         },
         "y": {
          "bdata": "vL8wvka7ML54tzC+q7Mwvt2vML4PrDC+QqgwvnSkML6moDC+2ZwwvguZML49lTC+cJEwvqKNML7UiTC+B4YwvjmCML5rfjC+nXowvtB2ML4CczC+NG8wvmdrML6ZZzC+y2Mwvv1fML4wXDC+31kwvsRXML6pVTC+jlMwvnNRML5YTzC+PU0wviJLML4HSTC+7EYwvtFEML62QjC+m0AwvoA+ML5lPDC+Sjowvi84ML4TNjC++DMwvt0xML7CLzC+py0wvowrML5xKTC+VicwvjslML4gIzC+BSEwvq0eML6OGzC+bxgwvlAVML4xEjC+Eg8wvvMLML7UCDC+tQUwvpYCML53/y++WPwvvjn5L74a9i+++/IvvtvvL7687C++nekvvn7mL75f4y++QOAvviHdL74C2i++49YvvsTTL76k0C++hc0vvmbKL75Hxy++KMQvvgnBL77qvS++y7ovvqu3L76MtC++bbEvvk6uL74vqy++EKgvvvGkL77RoS++sp4vvpObL750mC++VZUvvguSL75Tji++nIovvuWGL74tgy++dn8vvr97L74HeC++UHQvvphwL77hbC++KmkvvnJlL767YS++A14vvkxaL76VVi++3VIvviZPL75uSy++t0cvvv9DL75IQC++kDwvvtk4L74iNS++ajEvvrMtL777KS++RCYvvowiL77VHi++HRsvvmYXL76uEy++9w8vvj8ML76ICC++0AQvvhkBL75h/S6+qfkuvvL1Lr468i6+g+4uvsvqLr4U5y6+XOMuvqTfLr7t2y6+Ndguvn7ULr7G0C6+D80uvlfJLr6fxS6+6MEuvjC+Lr54ui6+wbYuvgmzLr5Sry6+mqsuvuKnLr4rpC6+c6AuvrucLr4EmS6+TJUuvpSRLr7djS6+JYouvoGGLr7ngi6+TH8uvrF7Lr4WeC6+fHQuvuFwLr5GbS6+q2kuvhBmLr51Yi6+214uvkBbLr6lVy6+ClQuvm9QLr7UTC6+OkkuvhRKLr7PTC6+iU8uvrdLLr4SRS6+bj4uvso3Lr4lMS6+gSouvt0jLr4=",
          "dtype": "f4"
         }
        },
        {
         "mode": "markers",
         "name": "NNOUT1(PyTorch)",
         "type": "scatter",
         "x": {
          "bdata": "AAABAAIAAwAEAAUABgAHAAgACQAKAAsADAANAA4ADwAQABEAEgATABQAFQAWABcAGAAZABoAGwAcAB0AHgAfACAAIQAiACMAJAAlACYAJwAoACkAKgArACwALQAuAC8AMAAxADIAMwA0ADUANgA3ADgAOQA6ADsAPAA9AD4APwBAAEEAQgBDAEQARQBGAEcASABJAEoASwBMAE0ATgBPAFAAUQBSAFMAVABVAFYAVwBYAFkAWgBbAFwAXQBeAF8AYABhAGIAYwBkAGUAZgBnAGgAaQBqAGsAbABtAG4AbwBwAHEAcgBzAHQAdQB2AHcAeAB5AHoAewB8AH0AfgB/AIAAgQCCAIMAhACFAIYAhwCIAIkAigCLAIwAjQCOAI8AkACRAJIAkwCUAJUAlgCXAJgAmQCaAJsAnACdAJ4AnwCgAKEAogCjAKQApQCmAKcAqACpAKoAqwCsAK0ArgCvALAAsQCyALMAtAC1ALYAtwC4ALkAugC7ALwAvQC+AL8AwADBAMIAwwDEAMUAxgDHAA==",
          "dtype": "i2"
         },
         "y": {
          "bdata": "l78wviG7ML5UtzC+hrMwvrivML7sqzC+Hqgwvk+kML6BoDC+tZwwvueYML4ZlTC+S5Ewvn2NML6wiTC+4oUwvhSCML5GfjC+eXowvqp2ML7dcjC+D28wvkJrML51ZzC+pmMwvthfML4KXDC+ulkwvqBXML6EVTC+aVMwvk5RML40TzC+GE0wvvxKML7iSDC+xkYwvqxEML6RQjC+dkAwvlo+ML5BPDC+JTowvgk4ML7uNTC+0jMwvrgxML6dLzC+gy0wvmYrML5NKTC+MScwvhUlML76IjC+3yAwvogeML5pGzC+SRgwvisVML4MEjC+7A4wvs0LML6vCDC+jwUwvnACML5Q/y++MvwvvhT5L7709S++1fIvvrbvL76W7C++eOkvvlnmL7454y++GuAvvvrcL77c2S++vdYvvp7TL75/0C++X80vvkDKL74hxy++AsQvvuPAL77DvS++pLovvoW3L75ntC++R7EvvieuL74Kqy++6qcvvsqkL76qoS++jJ4vvm2bL75NmC++LpUvvuWRL74tji++doovvr+GL74Igy++T38vvph7L77gdy++KnQvvnJwL766bC++A2kvvkxlL76VYS++3l0vviVaL75vVi++t1Ivvv9OL75ISy++kEcvvtlDL74hQC++ajwvvrM4L776NC++RDEvvowtL77VKS++HSYvvmUiL76uHi++9hovvj8XL76IEy++0A8vvhkML75hCC++qQQvvvIAL745/S6+gvkuvsz1Lr4T8i6+XO4uvqTqLr7t5i6+NuMuvn7fLr7H2y6+DtguvljULr6f0C6+6MwuvjDJLr54xS6+wcEuvgm+Lr5Sui6+mLYuvuKyLr4pry6+c6suvrqnLr4DpC6+S6AuvpScLr7cmC6+JZUuvmyRLr61jS6+/okuvlmGLr7Agi6+JH8uvop7Lr7vdy6+VHQuvrpwLr4fbS6+g2kuvullLr5OYi6+s14uvhdbLr59Vy6+4lMuvkhQLr6tTC6+EUkuvupJLr6mTC6+X08uvo9LLr7sRC6+Rj4uvqI3Lr7+MC6+WSouvrYjLr4=",
          "dtype": "f4"
         }
        },
        {
         "mode": "markers",
         "name": "NNOUT2(LTspice)",
         "type": "scatter",
         "x": {
          "bdata": "AAABAAIAAwAEAAUABgAHAAgACQAKAAsADAANAA4ADwAQABEAEgATABQAFQAWABcAGAAZABoAGwAcAB0AHgAfACAAIQAiACMAJAAlACYAJwAoACkAKgArACwALQAuAC8AMAAxADIAMwA0ADUANgA3ADgAOQA6ADsAPAA9AD4APwBAAEEAQgBDAEQARQBGAEcASABJAEoASwBMAE0ATgBPAFAAUQBSAFMAVABVAFYAVwBYAFkAWgBbAFwAXQBeAF8AYABhAGIAYwBkAGUAZgBnAGgAaQBqAGsAbABtAG4AbwBwAHEAcgBzAHQAdQB2AHcAeAB5AHoAewB8AH0AfgB/AIAAgQCCAIMAhACFAIYAhwCIAIkAigCLAIwAjQCOAI8AkACRAJIAkwCUAJUAlgCXAJgAmQCaAJsAnACdAJ4AnwCgAKEAogCjAKQApQCmAKcAqACpAKoAqwCsAK0ArgCvALAAsQCyALMAtAC1ALYAtwC4ALkAugC7ALwAvQC+AL8AwADBAMIAwwDEAMUAxgDHAA==",
          "dtype": "i2"
         },
         "y": {
          "bdata": "kf3dvYr73b1Y+N29JfXdvfPx3b3A7t29juvdvVvo3b0p5d299uHdvcTe3b2R2929X9jdvSzV3b360d29x87dvZXL3b1iyN29MMXdvf3B3b3Lvt29mLvdvWa43b0ztd29AbLdvc6u3b2cq929aqzdvcit3b0lr929g7DdveGx3b0+s929nLTdvfm13b1Xt929tbjdvRK63b1wu929zbzdvSu+3b2Jv9295sDdvUTC3b2hw929/8TdvV3G3b26x929GMndvXXK3b3Ty929Mc3dvY7O3b3sz929SdHdvRzS3b0l0d29LtDdvTfP3b1Azt29Sc3dvVLM3b1by929ZMrdvWzJ3b11yN29fsfdvYfG3b2Qxd29mcTdvaLD3b2rwt29tMHdvb3A3b3Gv929z77dvde93b3gvN296bvdvfK63b37ud29BLndvQ243b0Wt929H7bdvSi13b0xtN29OrPdvUKy3b1Lsd29VLDdvV2v3b1mrt29b63dvXis3b2Bq929iqrdvZOp3b2cqN29pKfdvR2l3b2Snt29BpjdvXuR3b3wit29ZITdvdl93b1Od929wnDdvTdq3b2sY929IF3dvZVW3b0KUN29fkndvfNC3b1oPN293DXdvVEv3b3FKN29OiLdva8b3b0jFd29mA7dvQ0I3b2BAd299vrcvWr03L3f7dy9U+fcvcjg3L092ty9sdPcvSbN3L2axty9D8DcvYO53L34sty9bKzcveGl3L1Wn9y9ypjcvT+S3L2zi9y9KIXcvZx+3L0ReNy9hXHcvfpq3L1uZNy9413cvVdX3L3MUNy9QErcvbVD3L0pPdy9nTbcvRIw3L2GKdy9+yLcvW8c3L3kFdy9WA/cvcwI3L1BAty9tfvbvSr1272e7tu9E+jbvYfh27372tu9cNTbvWfM2726w9u9DbvbvWCy272zqdu9BqHbvVmY272sj9u9/4bbvVJ+272lddu9+GzbvUtk272eW9u98VLbvURK272XQdu96jjbvZMs272zHtu90xDbvRH62r1739q95sTavVCq2r26j9q9JHXavY5a2r0=",
          "dtype": "f4"
         }
        },
        {
         "mode": "markers",
         "name": "NNOUT2(PyTorch)",
         "type": "scatter",
         "x": {
          "bdata": "AAABAAIAAwAEAAUABgAHAAgACQAKAAsADAANAA4ADwAQABEAEgATABQAFQAWABcAGAAZABoAGwAcAB0AHgAfACAAIQAiACMAJAAlACYAJwAoACkAKgArACwALQAuAC8AMAAxADIAMwA0ADUANgA3ADgAOQA6ADsAPAA9AD4APwBAAEEAQgBDAEQARQBGAEcASABJAEoASwBMAE0ATgBPAFAAUQBSAFMAVABVAFYAVwBYAFkAWgBbAFwAXQBeAF8AYABhAGIAYwBkAGUAZgBnAGgAaQBqAGsAbABtAG4AbwBwAHEAcgBzAHQAdQB2AHcAeAB5AHoAewB8AH0AfgB/AIAAgQCCAIMAhACFAIYAhwCIAIkAigCLAIwAjQCOAI8AkACRAJIAkwCUAJUAlgCXAJgAmQCaAJsAnACdAJ4AnwCgAKEAogCjAKQApQCmAKcAqACpAKoAqwCsAK0ArgCvALAAsQCyALMAtAC1ALYAtwC4ALkAugC7ALwAvQC+AL8AwADBAMIAwwDEAMUAxgDHAA==",
          "dtype": "i2"
         },
         "y": {
          "bdata": "XP3dvVT73b0i+N298PTdvb7x3b2L7t29WevdvSbo3b305N29wOHdvY/e3b1d2929KtjdvffU3b3E0d29ks7dvWDL3b0tyN29+8TdvcjB3b2Vvt29Y7vdvTG43b3+tN29zLHdvZmu3b1nq929NazdvZSt3b3xrt29TrDdvayx3b0Js929Z7Tdvca13b0jt929gLjdvd253b08u929mbzdvfe93b1Uv929s8DdvRDC3b1sw929ysTdvSjG3b2Gx92948jdvUHK3b2fy929+8zdvVrO3b24z929FdHdvejR3b3w0N29+s/dvQPP3b0Lzt29Fc3dvR7M3b0my929MMrdvTjJ3b1CyN29TMfdvVTG3b1dxd29ZMTdvW7D3b13wt29gMHdvYnA3b2Rv929m77dvaS93b2tvN29tbvdvb+63b3Iud290bjdvdq33b3itt2967XdvfS03b39s929BrPdvRCy3b0Ysd29IbDdvSuv3b0zrt29PK3dvUas3b1Nq929V6rdvV+p3b1pqN29cqfdve2k3b1jnt291pfdvUuR3b2/it29NITdvah93b0ed929k3DdvQdq3b18Y9298VzdvWVW3b3bT929T0ndvcNC3b04PN29rDXdvSIv3b2VKN29CyLdvX8b3b31FN29aA7dvd0H3b1SAd29x/rcvTv03L2w7dy9JefcvZng3L0N2ty9gtPcvffM3L1rxty937/cvVW53L3Jsty9PqzcvbKl3L0nn9y9m5jcvRCS3L2Ei9y9+YTcvW5+3L3hd9y9V3Hcvctq3L1AZNy9tF3cvSlX3L2eUNy9EUrcvYdD3L37PNy9cDbcveMv3L1ZKdy9zSLcvUIc3L22Fdy9Kw/cvZ8I3L0TAty9iPvbvfz0271x7tu95efbvVnh273O2tu9QtTbvTrM272Nw9u94LrbvTSy272Hqdu92qDbvSyY271/j9u904bbvSZ+2714ddu9zGzbvR9k271yW9u9xVLbvRhK271rQdu9vzjbvWgs272KHtu9qRDbver52r1V39q9vsTavSiq2r2Sj9q9/XTavWda2r0=",
          "dtype": "f4"
         }
        }
       ],
       "layout": {
        "template": {
         "data": {
          "bar": [
           {
            "error_x": {
             "color": "#2a3f5f"
            },
            "error_y": {
             "color": "#2a3f5f"
            },
            "marker": {
             "line": {
              "color": "#E5ECF6",
              "width": 0.5
             },
             "pattern": {
              "fillmode": "overlay",
              "size": 10,
              "solidity": 0.2
             }
            },
            "type": "bar"
           }
          ],
          "barpolar": [
           {
            "marker": {
             "line": {
              "color": "#E5ECF6",
              "width": 0.5
             },
             "pattern": {
              "fillmode": "overlay",
              "size": 10,
              "solidity": 0.2
             }
            },
            "type": "barpolar"
           }
          ],
          "carpet": [
           {
            "aaxis": {
             "endlinecolor": "#2a3f5f",
             "gridcolor": "white",
             "linecolor": "white",
             "minorgridcolor": "white",
             "startlinecolor": "#2a3f5f"
            },
            "baxis": {
             "endlinecolor": "#2a3f5f",
             "gridcolor": "white",
             "linecolor": "white",
             "minorgridcolor": "white",
             "startlinecolor": "#2a3f5f"
            },
            "type": "carpet"
           }
          ],
          "choropleth": [
           {
            "colorbar": {
             "outlinewidth": 0,
             "ticks": ""
            },
            "type": "choropleth"
           }
          ],
          "contour": [
           {
            "colorbar": {
             "outlinewidth": 0,
             "ticks": ""
            },
            "colorscale": [
             [
              0,
              "#0d0887"
             ],
             [
              0.1111111111111111,
              "#46039f"
             ],
             [
              0.2222222222222222,
              "#7201a8"
             ],
             [
              0.3333333333333333,
              "#9c179e"
             ],
             [
              0.4444444444444444,
              "#bd3786"
             ],
             [
              0.5555555555555556,
              "#d8576b"
             ],
             [
              0.6666666666666666,
              "#ed7953"
             ],
             [
              0.7777777777777778,
              "#fb9f3a"
             ],
             [
              0.8888888888888888,
              "#fdca26"
             ],
             [
              1,
              "#f0f921"
             ]
            ],
            "type": "contour"
           }
          ],
          "contourcarpet": [
           {
            "colorbar": {
             "outlinewidth": 0,
             "ticks": ""
            },
            "type": "contourcarpet"
           }
          ],
          "heatmap": [
           {
            "colorbar": {
             "outlinewidth": 0,
             "ticks": ""
            },
            "colorscale": [
             [
              0,
              "#0d0887"
             ],
             [
              0.1111111111111111,
              "#46039f"
             ],
             [
              0.2222222222222222,
              "#7201a8"
             ],
             [
              0.3333333333333333,
              "#9c179e"
             ],
             [
              0.4444444444444444,
              "#bd3786"
             ],
             [
              0.5555555555555556,
              "#d8576b"
             ],
             [
              0.6666666666666666,
              "#ed7953"
             ],
             [
              0.7777777777777778,
              "#fb9f3a"
             ],
             [
              0.8888888888888888,
              "#fdca26"
             ],
             [
              1,
              "#f0f921"
             ]
            ],
            "type": "heatmap"
           }
          ],
          "histogram": [
           {
            "marker": {
             "pattern": {
              "fillmode": "overlay",
              "size": 10,
              "solidity": 0.2
             }
            },
            "type": "histogram"
           }
          ],
          "histogram2d": [
           {
            "colorbar": {
             "outlinewidth": 0,
             "ticks": ""
            },
            "colorscale": [
             [
              0,
              "#0d0887"
             ],
             [
              0.1111111111111111,
              "#46039f"
             ],
             [
              0.2222222222222222,
              "#7201a8"
             ],
             [
              0.3333333333333333,
              "#9c179e"
             ],
             [
              0.4444444444444444,
              "#bd3786"
             ],
             [
              0.5555555555555556,
              "#d8576b"
             ],
             [
              0.6666666666666666,
              "#ed7953"
             ],
             [
              0.7777777777777778,
              "#fb9f3a"
             ],
             [
              0.8888888888888888,
              "#fdca26"
             ],
             [
              1,
              "#f0f921"
             ]
            ],
            "type": "histogram2d"
           }
          ],
          "histogram2dcontour": [
           {
            "colorbar": {
             "outlinewidth": 0,
             "ticks": ""
            },
            "colorscale": [
             [
              0,
              "#0d0887"
             ],
             [
              0.1111111111111111,
              "#46039f"
             ],
             [
              0.2222222222222222,
              "#7201a8"
             ],
             [
              0.3333333333333333,
              "#9c179e"
             ],
             [
              0.4444444444444444,
              "#bd3786"
             ],
             [
              0.5555555555555556,
              "#d8576b"
             ],
             [
              0.6666666666666666,
              "#ed7953"
             ],
             [
              0.7777777777777778,
              "#fb9f3a"
             ],
             [
              0.8888888888888888,
              "#fdca26"
             ],
             [
              1,
              "#f0f921"
             ]
            ],
            "type": "histogram2dcontour"
           }
          ],
          "mesh3d": [
           {
            "colorbar": {
             "outlinewidth": 0,
             "ticks": ""
            },
            "type": "mesh3d"
           }
          ],
          "parcoords": [
           {
            "line": {
             "colorbar": {
              "outlinewidth": 0,
              "ticks": ""
             }
            },
            "type": "parcoords"
           }
          ],
          "pie": [
           {
            "automargin": true,
            "type": "pie"
           }
          ],
          "scatter": [
           {
            "fillpattern": {
             "fillmode": "overlay",
             "size": 10,
             "solidity": 0.2
            },
            "type": "scatter"
           }
          ],
          "scatter3d": [
           {
            "line": {
             "colorbar": {
              "outlinewidth": 0,
              "ticks": ""
             }
            },
            "marker": {
             "colorbar": {
              "outlinewidth": 0,
              "ticks": ""
             }
            },
            "type": "scatter3d"
           }
          ],
          "scattercarpet": [
           {
            "marker": {
             "colorbar": {
              "outlinewidth": 0,
              "ticks": ""
             }
            },
            "type": "scattercarpet"
           }
          ],
          "scattergeo": [
           {
            "marker": {
             "colorbar": {
              "outlinewidth": 0,
              "ticks": ""
             }
            },
            "type": "scattergeo"
           }
          ],
          "scattergl": [
           {
            "marker": {
             "colorbar": {
              "outlinewidth": 0,
              "ticks": ""
             }
            },
            "type": "scattergl"
           }
          ],
          "scattermap": [
           {
            "marker": {
             "colorbar": {
              "outlinewidth": 0,
              "ticks": ""
             }
            },
            "type": "scattermap"
           }
          ],
          "scattermapbox": [
           {
            "marker": {
             "colorbar": {
              "outlinewidth": 0,
              "ticks": ""
             }
            },
            "type": "scattermapbox"
           }
          ],
          "scatterpolar": [
           {
            "marker": {
             "colorbar": {
              "outlinewidth": 0,
              "ticks": ""
             }
            },
            "type": "scatterpolar"
           }
          ],
          "scatterpolargl": [
           {
            "marker": {
             "colorbar": {
              "outlinewidth": 0,
              "ticks": ""
             }
            },
            "type": "scatterpolargl"
           }
          ],
          "scatterternary": [
           {
            "marker": {
             "colorbar": {
              "outlinewidth": 0,
              "ticks": ""
             }
            },
            "type": "scatterternary"
           }
          ],
          "surface": [
           {
            "colorbar": {
             "outlinewidth": 0,
             "ticks": ""
            },
            "colorscale": [
             [
              0,
              "#0d0887"
             ],
             [
              0.1111111111111111,
              "#46039f"
             ],
             [
              0.2222222222222222,
              "#7201a8"
             ],
             [
              0.3333333333333333,
              "#9c179e"
             ],
             [
              0.4444444444444444,
              "#bd3786"
             ],
             [
              0.5555555555555556,
              "#d8576b"
             ],
             [
              0.6666666666666666,
              "#ed7953"
             ],
             [
              0.7777777777777778,
              "#fb9f3a"
             ],
             [
              0.8888888888888888,
              "#fdca26"
             ],
             [
              1,
              "#f0f921"
             ]
            ],
            "type": "surface"
           }
          ],
          "table": [
           {
            "cells": {
             "fill": {
              "color": "#EBF0F8"
             },
             "line": {
              "color": "white"
             }
            },
            "header": {
             "fill": {
              "color": "#C8D4E3"
             },
             "line": {
              "color": "white"
             }
            },
            "type": "table"
           }
          ]
         },
         "layout": {
          "annotationdefaults": {
           "arrowcolor": "#2a3f5f",
           "arrowhead": 0,
           "arrowwidth": 1
          },
          "autotypenumbers": "strict",
          "coloraxis": {
           "colorbar": {
            "outlinewidth": 0,
            "ticks": ""
           }
          },
          "colorscale": {
           "diverging": [
            [
             0,
             "#8e0152"
            ],
            [
             0.1,
             "#c51b7d"
            ],
            [
             0.2,
             "#de77ae"
            ],
            [
             0.3,
             "#f1b6da"
            ],
            [
             0.4,
             "#fde0ef"
            ],
            [
             0.5,
             "#f7f7f7"
            ],
            [
             0.6,
             "#e6f5d0"
            ],
            [
             0.7,
             "#b8e186"
            ],
            [
             0.8,
             "#7fbc41"
            ],
            [
             0.9,
             "#4d9221"
            ],
            [
             1,
             "#276419"
            ]
           ],
           "sequential": [
            [
             0,
             "#0d0887"
            ],
            [
             0.1111111111111111,
             "#46039f"
            ],
            [
             0.2222222222222222,
             "#7201a8"
            ],
            [
             0.3333333333333333,
             "#9c179e"
            ],
            [
             0.4444444444444444,
             "#bd3786"
            ],
            [
             0.5555555555555556,
             "#d8576b"
            ],
            [
             0.6666666666666666,
             "#ed7953"
            ],
            [
             0.7777777777777778,
             "#fb9f3a"
            ],
            [
             0.8888888888888888,
             "#fdca26"
            ],
            [
             1,
             "#f0f921"
            ]
           ],
           "sequentialminus": [
            [
             0,
             "#0d0887"
            ],
            [
             0.1111111111111111,
             "#46039f"
            ],
            [
             0.2222222222222222,
             "#7201a8"
            ],
            [
             0.3333333333333333,
             "#9c179e"
            ],
            [
             0.4444444444444444,
             "#bd3786"
            ],
            [
             0.5555555555555556,
             "#d8576b"
            ],
            [
             0.6666666666666666,
             "#ed7953"
            ],
            [
             0.7777777777777778,
             "#fb9f3a"
            ],
            [
             0.8888888888888888,
             "#fdca26"
            ],
            [
             1,
             "#f0f921"
            ]
           ]
          },
          "colorway": [
           "#636efa",
           "#EF553B",
           "#00cc96",
           "#ab63fa",
           "#FFA15A",
           "#19d3f3",
           "#FF6692",
           "#B6E880",
           "#FF97FF",
           "#FECB52"
          ],
          "font": {
           "color": "#2a3f5f"
          },
          "geo": {
           "bgcolor": "white",
           "lakecolor": "white",
           "landcolor": "#E5ECF6",
           "showlakes": true,
           "showland": true,
           "subunitcolor": "white"
          },
          "hoverlabel": {
           "align": "left"
          },
          "hovermode": "closest",
          "mapbox": {
           "style": "light"
          },
          "paper_bgcolor": "white",
          "plot_bgcolor": "#E5ECF6",
          "polar": {
           "angularaxis": {
            "gridcolor": "white",
            "linecolor": "white",
            "ticks": ""
           },
           "bgcolor": "#E5ECF6",
           "radialaxis": {
            "gridcolor": "white",
            "linecolor": "white",
            "ticks": ""
           }
          },
          "scene": {
           "xaxis": {
            "backgroundcolor": "#E5ECF6",
            "gridcolor": "white",
            "gridwidth": 2,
            "linecolor": "white",
            "showbackground": true,
            "ticks": "",
            "zerolinecolor": "white"
           },
           "yaxis": {
            "backgroundcolor": "#E5ECF6",
            "gridcolor": "white",
            "gridwidth": 2,
            "linecolor": "white",
            "showbackground": true,
            "ticks": "",
            "zerolinecolor": "white"
           },
           "zaxis": {
            "backgroundcolor": "#E5ECF6",
            "gridcolor": "white",
            "gridwidth": 2,
            "linecolor": "white",
            "showbackground": true,
            "ticks": "",
            "zerolinecolor": "white"
           }
          },
          "shapedefaults": {
           "line": {
            "color": "#2a3f5f"
           }
          },
          "ternary": {
           "aaxis": {
            "gridcolor": "white",
            "linecolor": "white",
            "ticks": ""
           },
           "baxis": {
            "gridcolor": "white",
            "linecolor": "white",
            "ticks": ""
           },
           "bgcolor": "#E5ECF6",
           "caxis": {
            "gridcolor": "white",
            "linecolor": "white",
            "ticks": ""
           }
          },
          "title": {
           "x": 0.05
          },
          "xaxis": {
           "automargin": true,
           "gridcolor": "white",
           "linecolor": "white",
           "ticks": "",
           "title": {
            "standoff": 15
           },
           "zerolinecolor": "white",
           "zerolinewidth": 2
          },
          "yaxis": {
           "automargin": true,
           "gridcolor": "white",
           "linecolor": "white",
           "ticks": "",
           "title": {
            "standoff": 15
           },
           "zerolinecolor": "white",
           "zerolinewidth": 2
          }
         }
        },
        "title": {
         "text": "ENV=env_buck_9x2<br>MODEL=mlp"
        },
        "xaxis": {
         "title": {
          "text": "Sample index"
         }
        },
        "yaxis": {
         "title": {
          "text": "Output"
         }
        }
       }
      }
     },
     "metadata": {},
     "output_type": "display_data"
    },
    {
     "name": "stdout",
     "output_type": "stream",
     "text": [
      "  NNOUT1: MAE=0.000001, MSE=0.000000\n",
      "  NNOUT2: MAE=0.000000, MSE=0.000000\n"
     ]
    }
   ],
   "source": [
    "ENV_NAME = \"env_buck_9x2\"\n",
    "MODEL_NAME = \"mlp\"\n",
    "PY_FILENAME = ENV_NAME + '_' + MODEL_NAME     # output python file name\n",
    "SP_FILENAME = ENV_NAME + '_' + MODEL_NAME     # output ltspice subcircuit name\n",
    "actor = step1()\n",
    "actions, actions_py = step2(actor)\n",
    "step3(actions, actions_py)"
   ]
  },
  {
   "cell_type": "code",
   "execution_count": 11,
   "id": "c3bac0c2",
   "metadata": {},
   "outputs": [
    {
     "data": {
      "application/vnd.plotly.v1+json": {
       "config": {
        "plotlyServerURL": "https://plot.ly"
       },
       "data": [
        {
         "mode": "markers",
         "name": "NNOUT1(LTspice)",
         "type": "scatter",
         "x": {
          "bdata": "AAABAAIAAwAEAAUABgAHAAgACQAKAAsADAANAA4ADwAQABEAEgATABQAFQAWABcAGAAZABoAGwAcAB0AHgAfACAAIQAiACMAJAAlACYAJwAoACkAKgArACwALQAuAC8AMAAxADIAMwA0ADUANgA3ADgAOQA6ADsAPAA9AD4APwBAAEEAQgBDAEQARQBGAEcASABJAEoASwBMAE0ATgBPAFAAUQBSAFMAVABVAFYAVwBYAFkAWgBbAFwAXQBeAF8AYABhAGIAYwBkAGUAZgBnAGgAaQBqAGsAbABtAG4AbwBwAHEAcgBzAHQAdQB2AHcAeAB5AHoAewB8AH0AfgB/AIAAgQCCAIMAhACFAIYAhwCIAIkAigCLAIwAjQCOAI8AkACRAJIAkwCUAJUAlgCXAJgAmQCaAJsAnACdAJ4AnwCgAKEAogCjAKQApQCmAKcAqACpAKoAqwCsAK0ArgCvALAAsQCyALMAtAC1ALYAtwC4ALkAugC7ALwAvQC+AL8AwADBAMIAwwDEAMUAxgDHAA==",
          "dtype": "i2"
         },
         "y": {
          "bdata": "yEMLvmnsIr5wJiC+GmYkvlfrIL7/QRy+q1YcvrNKG74q8Rq+18savjXbGr662xq+y98avjXdGr4q3Bq+TNsavvHZGr4G2Bq+BdcavgzWGr7t1Bq+ytMavrbSGr6X0Rq+edAavl3PGr5Azhq+I80avgfMGr7qyhq+zckavrDIGr6Sxxq+dcYavljFGr46xBq+HMMavv7BGr7gwBq+wr8avqO+Gr6FvRq+Zrwavke7Gr4ouhq+CLkavum3Gr7Jthq+qrUavoq0Gr5qsxq+SbIavimxGr4IsBq+564avsatGr6lrBq+hKsavmKqGr5BqRq+H6gavv2mGr7apRq+uKQavpWjGr5yohq+T6EaviygGr4Inxq+5Z0avsGcGr6dmxq+eZoavlSZGr4wmBq+C5cavuaVGr7AlBq+m5MavnWSGr5PkRq+KZAavgKPGr7cjRq+tYwavo6LGr5nihq+P4kavheIGr7vhhq+x4Uavp+EGr52gxq+TYIaviSBGr77fxq+0X4avqd9Gr59fBq+U3savih6Gr7+eBq+03cavqd2Gr58dRq+UHQaviRzGr73cRq+y3Aavp5vGr5xbhq+Q20avhZsGr7oahq+umkavotoGr5dZxq+LmYavv5kGr7PYxq+n2Iavm9hGr4/YBq+Dl8avt1dGr6sXBq+e1savklaGr4XWRq+5VcavrJWGr5/VRq+TFQavhlTGr7lURq+sVAavnxPGr5IThq+E00avt1LGr6oShq+ckkavjxIGr4FRxq+z0UavphEGr5gQxq+KEIavvBAGr64Pxq+fz4avkY9Gr4NPBq+1Doavpo5Gr5fOBq+JTcavuo1Gr6vNBq+czMavjcyGr77MBq+vi8avoEuGr5ELRq+BywavskqGr6LKRq+TCgavg0nGr7OJRq+jiQavk4jGr4OIhq+zSAavowfGr5LHhq+CR0avscbGr6EGhq+Qhkavv8XGr67Fhq+dxUavjMUGr7uEhq+qREavmQQGr4eDxq+2A0avpIMGr5LCxq+BAoavrwIGr50Bxq+LAYavuMEGr6aAxq+UQIavgcBGr4=",
          "dtype": "f4"
         }
        },
        {
         "mode": "markers",
         "name": "NNOUT1(PyTorch)",
         "type": "scatter",
         "x": {
          "bdata": "AAABAAIAAwAEAAUABgAHAAgACQAKAAsADAANAA4ADwAQABEAEgATABQAFQAWABcAGAAZABoAGwAcAB0AHgAfACAAIQAiACMAJAAlACYAJwAoACkAKgArACwALQAuAC8AMAAxADIAMwA0ADUANgA3ADgAOQA6ADsAPAA9AD4APwBAAEEAQgBDAEQARQBGAEcASABJAEoASwBMAE0ATgBPAFAAUQBSAFMAVABVAFYAVwBYAFkAWgBbAFwAXQBeAF8AYABhAGIAYwBkAGUAZgBnAGgAaQBqAGsAbABtAG4AbwBwAHEAcgBzAHQAdQB2AHcAeAB5AHoAewB8AH0AfgB/AIAAgQCCAIMAhACFAIYAhwCIAIkAigCLAIwAjQCOAI8AkACRAJIAkwCUAJUAlgCXAJgAmQCaAJsAnACdAJ4AnwCgAKEAogCjAKQApQCmAKcAqACpAKoAqwCsAK0ArgCvALAAsQCyALMAtAC1ALYAtwC4ALkAugC7ALwAvQC+AL8AwADBAMIAwwDEAMUAxgDHAA==",
          "dtype": "i2"
         },
         "y": {
          "bdata": "gkMLvhnsIr4rJiC+1mUkvhbrIL6/QRy+bFYcvnNKG77q8Bq+l8savvXaGr582xq+i98avvPcGr7q2xq+DtsavrHZGr7G1xq+xtYavs3VGr6u1Bq+itMavnfSGr5Y0Rq+ONAavh/PGr4Bzhq+5MwavsjLGr6syhq+jskavnLIGr5Uxxq+NsYavhjFGr77wxq+3cIavsHBGr6jwBq+g78avmS+Gr5GvRq+J7wavgi7Gr7quRq+yrgavqq3Gr6Lthq+bLUavky0Gr4qsxq+C7IavuywGr7Lrxq+qq4avomtGr5nrBq+RqsaviWqGr4CqRq+46cavsCmGr6cpRq+fKQavlmjGr41ohq+EqEavu6fGr7Knhq+qZ0avoWcGr5fmxq+PJoavheZGr7ylxq+z5YavqmVGr6ClBq+XZMavjiSGr4UkRq+7Y8avseOGr6gjRq+d4wavlKLGr4rihq+A4kavtqHGr6zhhq+jIUavmOEGr47gxq+EIIavuiAGr69fxq+l34avmt9Gr5BfBq+GHsavux5Gr7DeBq+lncavm12Gr5AdRq+FHQavulyGr68cRq+kHAavmNvGr41bhq+CG0avttrGr6tahq+f2kavlBoGr4hZxq+8mUavsNkGr6UYxq+ZGIavjVhGr4EYBq+1F4avqNdGr5zXBq+QFsavg9aGr7dWBq+rFcavnlWGr5EVRq+ElQavt5SGr6qURq+d1AavkJPGr4NThq+2UwavqNLGr5uShq+OEkavgFIGr7LRhq+lUUavl5EGr4mQxq+7kEavrhAGr5+Pxq+Rj4avg09Gr7UOxq+mjoavmE5Gr4mOBq+6zYavrI1Gr51NBq+OjMavv8xGr7CMBq+hi8avkkuGr4LLRq+zisavpAqGr5TKRq+EygavtQmGr6XJRq+ViQavhcjGr7VIRq+lSAavlQfGr4THhq+0Rwavo4bGr5NGhq+ChkavscXGr6CFhq+QBUavvsTGr62Ehq+cREavi0QGr7mDhq+og0avloMGr4TCxq+zQkavoUIGr4+Bxq+9AUavqwEGr5iAxq+GwIavtAAGr4=",
          "dtype": "f4"
         }
        },
        {
         "mode": "markers",
         "name": "NNOUT2(LTspice)",
         "type": "scatter",
         "x": {
          "bdata": "AAABAAIAAwAEAAUABgAHAAgACQAKAAsADAANAA4ADwAQABEAEgATABQAFQAWABcAGAAZABoAGwAcAB0AHgAfACAAIQAiACMAJAAlACYAJwAoACkAKgArACwALQAuAC8AMAAxADIAMwA0ADUANgA3ADgAOQA6ADsAPAA9AD4APwBAAEEAQgBDAEQARQBGAEcASABJAEoASwBMAE0ATgBPAFAAUQBSAFMAVABVAFYAVwBYAFkAWgBbAFwAXQBeAF8AYABhAGIAYwBkAGUAZgBnAGgAaQBqAGsAbABtAG4AbwBwAHEAcgBzAHQAdQB2AHcAeAB5AHoAewB8AH0AfgB/AIAAgQCCAIMAhACFAIYAhwCIAIkAigCLAIwAjQCOAI8AkACRAJIAkwCUAJUAlgCXAJgAmQCaAJsAnACdAJ4AnwCgAKEAogCjAKQApQCmAKcAqACpAKoAqwCsAK0ArgCvALAAsQCyALMAtAC1ALYAtwC4ALkAugC7ALwAvQC+AL8AwADBAMIAwwDEAMUAxgDHAA==",
          "dtype": "i2"
         },
         "y": {
          "bdata": "LfPRvbF8ZLt9tgQ9WVr2POz9Bz3FVwU92bMCPdElBT3iGQU9/zAFPTkiBT1ykwU9dMEFPSYVBj3TXwY9ga4GPbv3Bj2QRQc9g5AHPWHcBz0xKAg9M3QIPdS/CD2nCwk9X1cJPQ6jCT2z7gk9VDoKPeiFCj110Qo9+RwLPXRoCz3msws9T/8LPa9KDD0Hlgw9VeEMPZssDT3Xdw09C8MNPTYODj1XWQ49cKQOPYDvDj2HOg89hIUPPXnQDz1kGxA9R2YQPSCxED3w+xA9t0YRPXWRET0q3BE91iYSPXhxEj0RvBI9oQYTPShREz2mmxM9GuYTPYUwFD3nehQ9P8UUPY4PFT3UWRU9EKQVPUPuFT1tOBY9jYIWPaTMFj2yFhc9tmAXPbGqFz2i9Bc9ij4YPWiIGD090hg9CBwZPcplGT2Crxk9MPkZPdVCGj1xjBo9A9YaPYsfGz0KaRs9f7IbPer7Gz1MRRw9pI4cPfPXHD03IR09cmodPaOzHT3L/B096UUePf2OHj0H2B49ByEfPf5pHz3rsh89zvsfPadEID12jSA9O9YgPfceIT2oZyE9ULAhPe74IT2BQSI9C4oiPYvSIj0BGyM9bWMjPc+rIz0n9CM9dDwkPbiEJD3yzCQ9IRUlPUddJT1ipSU9dO0lPXs1Jj14fSY9a8UmPVQNJz0yVSc9B50nPdHkJz2RLCg9R3QoPfK7KD2UAyk9K0spPbeSKT062ik9siEqPSBpKj2DsCo93PcqPSs/Kz1whis9qs0rPdkULD3/Wyw9GaMsPSrqLD0wMS09K3gtPRy/LT0DBi4930wuPbGTLj142i49NCEvPeZnLz2Ori89K/UvPb07MD1FgjA9wsgwPTQPMT2cVTE9+psxPUziMT2UKDI90m4yPQS1Mj0s+zI9SUEzPVyHMz1jzTM9YRM0PVNZND06nzQ9F+U0PekqNT2wcDU9bLY1PR78NT3EQTY9YIc2PfHMNj13Ejc98lc3PWOdNz3I4jc9Iyg4PXJtOD23sjg98Pc4PR89OT1Dgjk9W8c5PWkMOj1sUTo9Y5Y6PVDbOj0=",
          "dtype": "f4"
         }
        },
        {
         "mode": "markers",
         "name": "NNOUT2(PyTorch)",
         "type": "scatter",
         "x": {
          "bdata": "AAABAAIAAwAEAAUABgAHAAgACQAKAAsADAANAA4ADwAQABEAEgATABQAFQAWABcAGAAZABoAGwAcAB0AHgAfACAAIQAiACMAJAAlACYAJwAoACkAKgArACwALQAuAC8AMAAxADIAMwA0ADUANgA3ADgAOQA6ADsAPAA9AD4APwBAAEEAQgBDAEQARQBGAEcASABJAEoASwBMAE0ATgBPAFAAUQBSAFMAVABVAFYAVwBYAFkAWgBbAFwAXQBeAF8AYABhAGIAYwBkAGUAZgBnAGgAaQBqAGsAbABtAG4AbwBwAHEAcgBzAHQAdQB2AHcAeAB5AHoAewB8AH0AfgB/AIAAgQCCAIMAhACFAIYAhwCIAIkAigCLAIwAjQCOAI8AkACRAJIAkwCUAJUAlgCXAJgAmQCaAJsAnACdAJ4AnwCgAKEAogCjAKQApQCmAKcAqACpAKoAqwCsAK0ArgCvALAAsQCyALMAtAC1ALYAtwC4ALkAugC7ALwAvQC+AL8AwADBAMIAwwDEAMUAxgDHAA==",
          "dtype": "i2"
         },
         "y": {
          "bdata": "0/LRveN2ZLuhtgQ9Xlr2PN/9Bz2xVwU9wbMCPb0lBT3IGQU96zAFPSUiBT1XkwU9XMEFPRcVBj3BXwY9a64GPaf3Bj15RQc9aJAHPUncBz0fKAg9JHQIPcC/CD2SCwk9TVcJPfmiCT2d7gk9PzoKPdWFCj1k0Qo95hwLPWBoCz3Tsws9Qf8LPZxKDD33lQw9ReEMPYosDT3Fdw09+sINPSUODj1EWQ49YKQOPW3vDj1xOg89doUPPWbQDz1QGxA9L2YQPQ2xED3j+xA9pUYRPWORET0S3BE9yCYSPWRxEj0BvBI9jwYTPRJREz2TmxM9BuYTPXUwFD3UehQ9McUUPXwPFT3DWRU9AaQVPTTuFT1fOBY9f4IWPZXMFj2fFhc9qGAXPaKqFz2S9Bc9ez4YPVOIGD0p0hg99xsZPbxlGT14rxk9HfkZPcpCGj1njBo99NUaPXsfGz36aBs9b7IbPd77Gz0/RRw9lY4cPeDXHD0sIR09ZGodPZWzHT27/B093UUePe2OHj371x49+SAfPfRpHz3ash89wfsfPZ1EID1ojSA9LNYgPeceIT2eZyE9QbAhPeD4IT1zQSI9BYoiPXzSIj31GiM9X2MjPcSrIz0c9CM9aDwkPayEJD3gzCQ9DhUlPTpdJT1YpSU9ZO0lPWs1Jj1pfSY9XcUmPUoNJz0lVSc9/JwnPcXkJz2BLCg9P3QoPea7KD2HAyk9IEspPaySKT0p2ik9qSEqPRJpKj16sCo92PcqPR4/Kz1mhis9ms0rPdAULD3yWyw9EaMsPSPqLD0qMS09IHgtPQ+/LT30BS491kwuPaeTLj1s2i49LCEvPd9nLz2Gri89IfUvPa87MD08gjA9uMgwPS4PMT2YVTE98ZsxPT/iMT2NKDI9ym4yPfq0Mj0o+zI9QkEzPVmHMz1azTM9UhM0PU1ZND0unzQ9DeU0PeIqNT2pcDU9aLY1PRf8NT28QTY9Voc2Pe3MNj1pEjc97lc3PWSdNz3A4jc9Gig4PWZtOD2usjg96Pc4PRg9OT09gjk9U8c5PWQMOj1oUTo9WZY6PUzbOj0=",
          "dtype": "f4"
         }
        }
       ],
       "layout": {
        "template": {
         "data": {
          "bar": [
           {
            "error_x": {
             "color": "#2a3f5f"
            },
            "error_y": {
             "color": "#2a3f5f"
            },
            "marker": {
             "line": {
              "color": "#E5ECF6",
              "width": 0.5
             },
             "pattern": {
              "fillmode": "overlay",
              "size": 10,
              "solidity": 0.2
             }
            },
            "type": "bar"
           }
          ],
          "barpolar": [
           {
            "marker": {
             "line": {
              "color": "#E5ECF6",
              "width": 0.5
             },
             "pattern": {
              "fillmode": "overlay",
              "size": 10,
              "solidity": 0.2
             }
            },
            "type": "barpolar"
           }
          ],
          "carpet": [
           {
            "aaxis": {
             "endlinecolor": "#2a3f5f",
             "gridcolor": "white",
             "linecolor": "white",
             "minorgridcolor": "white",
             "startlinecolor": "#2a3f5f"
            },
            "baxis": {
             "endlinecolor": "#2a3f5f",
             "gridcolor": "white",
             "linecolor": "white",
             "minorgridcolor": "white",
             "startlinecolor": "#2a3f5f"
            },
            "type": "carpet"
           }
          ],
          "choropleth": [
           {
            "colorbar": {
             "outlinewidth": 0,
             "ticks": ""
            },
            "type": "choropleth"
           }
          ],
          "contour": [
           {
            "colorbar": {
             "outlinewidth": 0,
             "ticks": ""
            },
            "colorscale": [
             [
              0,
              "#0d0887"
             ],
             [
              0.1111111111111111,
              "#46039f"
             ],
             [
              0.2222222222222222,
              "#7201a8"
             ],
             [
              0.3333333333333333,
              "#9c179e"
             ],
             [
              0.4444444444444444,
              "#bd3786"
             ],
             [
              0.5555555555555556,
              "#d8576b"
             ],
             [
              0.6666666666666666,
              "#ed7953"
             ],
             [
              0.7777777777777778,
              "#fb9f3a"
             ],
             [
              0.8888888888888888,
              "#fdca26"
             ],
             [
              1,
              "#f0f921"
             ]
            ],
            "type": "contour"
           }
          ],
          "contourcarpet": [
           {
            "colorbar": {
             "outlinewidth": 0,
             "ticks": ""
            },
            "type": "contourcarpet"
           }
          ],
          "heatmap": [
           {
            "colorbar": {
             "outlinewidth": 0,
             "ticks": ""
            },
            "colorscale": [
             [
              0,
              "#0d0887"
             ],
             [
              0.1111111111111111,
              "#46039f"
             ],
             [
              0.2222222222222222,
              "#7201a8"
             ],
             [
              0.3333333333333333,
              "#9c179e"
             ],
             [
              0.4444444444444444,
              "#bd3786"
             ],
             [
              0.5555555555555556,
              "#d8576b"
             ],
             [
              0.6666666666666666,
              "#ed7953"
             ],
             [
              0.7777777777777778,
              "#fb9f3a"
             ],
             [
              0.8888888888888888,
              "#fdca26"
             ],
             [
              1,
              "#f0f921"
             ]
            ],
            "type": "heatmap"
           }
          ],
          "histogram": [
           {
            "marker": {
             "pattern": {
              "fillmode": "overlay",
              "size": 10,
              "solidity": 0.2
             }
            },
            "type": "histogram"
           }
          ],
          "histogram2d": [
           {
            "colorbar": {
             "outlinewidth": 0,
             "ticks": ""
            },
            "colorscale": [
             [
              0,
              "#0d0887"
             ],
             [
              0.1111111111111111,
              "#46039f"
             ],
             [
              0.2222222222222222,
              "#7201a8"
             ],
             [
              0.3333333333333333,
              "#9c179e"
             ],
             [
              0.4444444444444444,
              "#bd3786"
             ],
             [
              0.5555555555555556,
              "#d8576b"
             ],
             [
              0.6666666666666666,
              "#ed7953"
             ],
             [
              0.7777777777777778,
              "#fb9f3a"
             ],
             [
              0.8888888888888888,
              "#fdca26"
             ],
             [
              1,
              "#f0f921"
             ]
            ],
            "type": "histogram2d"
           }
          ],
          "histogram2dcontour": [
           {
            "colorbar": {
             "outlinewidth": 0,
             "ticks": ""
            },
            "colorscale": [
             [
              0,
              "#0d0887"
             ],
             [
              0.1111111111111111,
              "#46039f"
             ],
             [
              0.2222222222222222,
              "#7201a8"
             ],
             [
              0.3333333333333333,
              "#9c179e"
             ],
             [
              0.4444444444444444,
              "#bd3786"
             ],
             [
              0.5555555555555556,
              "#d8576b"
             ],
             [
              0.6666666666666666,
              "#ed7953"
             ],
             [
              0.7777777777777778,
              "#fb9f3a"
             ],
             [
              0.8888888888888888,
              "#fdca26"
             ],
             [
              1,
              "#f0f921"
             ]
            ],
            "type": "histogram2dcontour"
           }
          ],
          "mesh3d": [
           {
            "colorbar": {
             "outlinewidth": 0,
             "ticks": ""
            },
            "type": "mesh3d"
           }
          ],
          "parcoords": [
           {
            "line": {
             "colorbar": {
              "outlinewidth": 0,
              "ticks": ""
             }
            },
            "type": "parcoords"
           }
          ],
          "pie": [
           {
            "automargin": true,
            "type": "pie"
           }
          ],
          "scatter": [
           {
            "fillpattern": {
             "fillmode": "overlay",
             "size": 10,
             "solidity": 0.2
            },
            "type": "scatter"
           }
          ],
          "scatter3d": [
           {
            "line": {
             "colorbar": {
              "outlinewidth": 0,
              "ticks": ""
             }
            },
            "marker": {
             "colorbar": {
              "outlinewidth": 0,
              "ticks": ""
             }
            },
            "type": "scatter3d"
           }
          ],
          "scattercarpet": [
           {
            "marker": {
             "colorbar": {
              "outlinewidth": 0,
              "ticks": ""
             }
            },
            "type": "scattercarpet"
           }
          ],
          "scattergeo": [
           {
            "marker": {
             "colorbar": {
              "outlinewidth": 0,
              "ticks": ""
             }
            },
            "type": "scattergeo"
           }
          ],
          "scattergl": [
           {
            "marker": {
             "colorbar": {
              "outlinewidth": 0,
              "ticks": ""
             }
            },
            "type": "scattergl"
           }
          ],
          "scattermap": [
           {
            "marker": {
             "colorbar": {
              "outlinewidth": 0,
              "ticks": ""
             }
            },
            "type": "scattermap"
           }
          ],
          "scattermapbox": [
           {
            "marker": {
             "colorbar": {
              "outlinewidth": 0,
              "ticks": ""
             }
            },
            "type": "scattermapbox"
           }
          ],
          "scatterpolar": [
           {
            "marker": {
             "colorbar": {
              "outlinewidth": 0,
              "ticks": ""
             }
            },
            "type": "scatterpolar"
           }
          ],
          "scatterpolargl": [
           {
            "marker": {
             "colorbar": {
              "outlinewidth": 0,
              "ticks": ""
             }
            },
            "type": "scatterpolargl"
           }
          ],
          "scatterternary": [
           {
            "marker": {
             "colorbar": {
              "outlinewidth": 0,
              "ticks": ""
             }
            },
            "type": "scatterternary"
           }
          ],
          "surface": [
           {
            "colorbar": {
             "outlinewidth": 0,
             "ticks": ""
            },
            "colorscale": [
             [
              0,
              "#0d0887"
             ],
             [
              0.1111111111111111,
              "#46039f"
             ],
             [
              0.2222222222222222,
              "#7201a8"
             ],
             [
              0.3333333333333333,
              "#9c179e"
             ],
             [
              0.4444444444444444,
              "#bd3786"
             ],
             [
              0.5555555555555556,
              "#d8576b"
             ],
             [
              0.6666666666666666,
              "#ed7953"
             ],
             [
              0.7777777777777778,
              "#fb9f3a"
             ],
             [
              0.8888888888888888,
              "#fdca26"
             ],
             [
              1,
              "#f0f921"
             ]
            ],
            "type": "surface"
           }
          ],
          "table": [
           {
            "cells": {
             "fill": {
              "color": "#EBF0F8"
             },
             "line": {
              "color": "white"
             }
            },
            "header": {
             "fill": {
              "color": "#C8D4E3"
             },
             "line": {
              "color": "white"
             }
            },
            "type": "table"
           }
          ]
         },
         "layout": {
          "annotationdefaults": {
           "arrowcolor": "#2a3f5f",
           "arrowhead": 0,
           "arrowwidth": 1
          },
          "autotypenumbers": "strict",
          "coloraxis": {
           "colorbar": {
            "outlinewidth": 0,
            "ticks": ""
           }
          },
          "colorscale": {
           "diverging": [
            [
             0,
             "#8e0152"
            ],
            [
             0.1,
             "#c51b7d"
            ],
            [
             0.2,
             "#de77ae"
            ],
            [
             0.3,
             "#f1b6da"
            ],
            [
             0.4,
             "#fde0ef"
            ],
            [
             0.5,
             "#f7f7f7"
            ],
            [
             0.6,
             "#e6f5d0"
            ],
            [
             0.7,
             "#b8e186"
            ],
            [
             0.8,
             "#7fbc41"
            ],
            [
             0.9,
             "#4d9221"
            ],
            [
             1,
             "#276419"
            ]
           ],
           "sequential": [
            [
             0,
             "#0d0887"
            ],
            [
             0.1111111111111111,
             "#46039f"
            ],
            [
             0.2222222222222222,
             "#7201a8"
            ],
            [
             0.3333333333333333,
             "#9c179e"
            ],
            [
             0.4444444444444444,
             "#bd3786"
            ],
            [
             0.5555555555555556,
             "#d8576b"
            ],
            [
             0.6666666666666666,
             "#ed7953"
            ],
            [
             0.7777777777777778,
             "#fb9f3a"
            ],
            [
             0.8888888888888888,
             "#fdca26"
            ],
            [
             1,
             "#f0f921"
            ]
           ],
           "sequentialminus": [
            [
             0,
             "#0d0887"
            ],
            [
             0.1111111111111111,
             "#46039f"
            ],
            [
             0.2222222222222222,
             "#7201a8"
            ],
            [
             0.3333333333333333,
             "#9c179e"
            ],
            [
             0.4444444444444444,
             "#bd3786"
            ],
            [
             0.5555555555555556,
             "#d8576b"
            ],
            [
             0.6666666666666666,
             "#ed7953"
            ],
            [
             0.7777777777777778,
             "#fb9f3a"
            ],
            [
             0.8888888888888888,
             "#fdca26"
            ],
            [
             1,
             "#f0f921"
            ]
           ]
          },
          "colorway": [
           "#636efa",
           "#EF553B",
           "#00cc96",
           "#ab63fa",
           "#FFA15A",
           "#19d3f3",
           "#FF6692",
           "#B6E880",
           "#FF97FF",
           "#FECB52"
          ],
          "font": {
           "color": "#2a3f5f"
          },
          "geo": {
           "bgcolor": "white",
           "lakecolor": "white",
           "landcolor": "#E5ECF6",
           "showlakes": true,
           "showland": true,
           "subunitcolor": "white"
          },
          "hoverlabel": {
           "align": "left"
          },
          "hovermode": "closest",
          "mapbox": {
           "style": "light"
          },
          "paper_bgcolor": "white",
          "plot_bgcolor": "#E5ECF6",
          "polar": {
           "angularaxis": {
            "gridcolor": "white",
            "linecolor": "white",
            "ticks": ""
           },
           "bgcolor": "#E5ECF6",
           "radialaxis": {
            "gridcolor": "white",
            "linecolor": "white",
            "ticks": ""
           }
          },
          "scene": {
           "xaxis": {
            "backgroundcolor": "#E5ECF6",
            "gridcolor": "white",
            "gridwidth": 2,
            "linecolor": "white",
            "showbackground": true,
            "ticks": "",
            "zerolinecolor": "white"
           },
           "yaxis": {
            "backgroundcolor": "#E5ECF6",
            "gridcolor": "white",
            "gridwidth": 2,
            "linecolor": "white",
            "showbackground": true,
            "ticks": "",
            "zerolinecolor": "white"
           },
           "zaxis": {
            "backgroundcolor": "#E5ECF6",
            "gridcolor": "white",
            "gridwidth": 2,
            "linecolor": "white",
            "showbackground": true,
            "ticks": "",
            "zerolinecolor": "white"
           }
          },
          "shapedefaults": {
           "line": {
            "color": "#2a3f5f"
           }
          },
          "ternary": {
           "aaxis": {
            "gridcolor": "white",
            "linecolor": "white",
            "ticks": ""
           },
           "baxis": {
            "gridcolor": "white",
            "linecolor": "white",
            "ticks": ""
           },
           "bgcolor": "#E5ECF6",
           "caxis": {
            "gridcolor": "white",
            "linecolor": "white",
            "ticks": ""
           }
          },
          "title": {
           "x": 0.05
          },
          "xaxis": {
           "automargin": true,
           "gridcolor": "white",
           "linecolor": "white",
           "ticks": "",
           "title": {
            "standoff": 15
           },
           "zerolinecolor": "white",
           "zerolinewidth": 2
          },
          "yaxis": {
           "automargin": true,
           "gridcolor": "white",
           "linecolor": "white",
           "ticks": "",
           "title": {
            "standoff": 15
           },
           "zerolinecolor": "white",
           "zerolinewidth": 2
          }
         }
        },
        "title": {
         "text": "ENV=env_buck_9x2<br>MODEL=rnn_linear"
        },
        "xaxis": {
         "title": {
          "text": "Sample index"
         }
        },
        "yaxis": {
         "title": {
          "text": "Output"
         }
        }
       }
      }
     },
     "metadata": {},
     "output_type": "display_data"
    },
    {
     "name": "stdout",
     "output_type": "stream",
     "text": [
      "  NNOUT1: MAE=0.000001, MSE=0.000000\n",
      "  NNOUT2: MAE=0.000000, MSE=0.000000\n"
     ]
    }
   ],
   "source": [
    "ENV_NAME = \"env_buck_9x2\"\n",
    "MODEL_NAME = \"rnn_linear\"\n",
    "PY_FILENAME = ENV_NAME + '_' + MODEL_NAME     # output python file name\n",
    "SP_FILENAME = ENV_NAME + '_' + MODEL_NAME     # output ltspice subcircuit name\n",
    "actor = step1()\n",
    "actions, actions_py = step2(actor)\n",
    "step3(actions, actions_py)"
   ]
  },
  {
   "cell_type": "code",
   "execution_count": 12,
   "id": "e1726bfc",
   "metadata": {},
   "outputs": [
    {
     "data": {
      "application/vnd.plotly.v1+json": {
       "config": {
        "plotlyServerURL": "https://plot.ly"
       },
       "data": [
        {
         "mode": "markers",
         "name": "NNOUT1(LTspice)",
         "type": "scatter",
         "x": {
          "bdata": "AAABAAIAAwAEAAUABgAHAAgACQAKAAsADAANAA4ADwAQABEAEgATABQAFQAWABcAGAAZABoAGwAcAB0AHgAfACAAIQAiACMAJAAlACYAJwAoACkAKgArACwALQAuAC8AMAAxADIAMwA0ADUANgA3ADgAOQA6ADsAPAA9AD4APwBAAEEAQgBDAEQARQBGAEcASABJAEoASwBMAE0ATgBPAFAAUQBSAFMAVABVAFYAVwBYAFkAWgBbAFwAXQBeAF8AYABhAGIAYwBkAGUAZgBnAGgAaQBqAGsAbABtAG4AbwBwAHEAcgBzAHQAdQB2AHcAeAB5AHoAewB8AH0AfgB/AIAAgQCCAIMAhACFAIYAhwCIAIkAigCLAIwAjQCOAI8AkACRAJIAkwCUAJUAlgCXAJgAmQCaAJsAnACdAJ4AnwCgAKEAogCjAKQApQCmAKcAqACpAKoAqwCsAK0ArgCvALAAsQCyALMAtAC1ALYAtwC4ALkAugC7ALwAvQC+AL8AwADBAMIAwwDEAMUAxgDHAA==",
          "dtype": "i2"
         },
         "y": {
          "bdata": "lEwsvua3Ob45kkG+MVJGvsI/Sb4HGku+209MvrIgTb4psU2+FhdOviNgTr5IlU6+obxOvnDaTr6z8U6+ggRPvlMUT74lIk++py5Pvk86T75qRU++LFBPvrRaT74YZU++Z29Pvqd5T77fg0++Eo5PvkKYT75wok++nKxPvsi2T77zwE++HstPvknVT75030++nulPvsnzT77z/U++HQhQvkgSUL5yHFC+nCZQvsYwUL7wOlC+GkVQvkRPUL5uWVC+mGNQvsJtUL7sd1C+FYJQvj+MUL5pllC+kqBQvryqUL7ltFC+Dr9QvjjJUL5h01C+it1QvrPnUL7c8VC+BfxQvi4GUb5XEFG+gBpRvqkkUb7SLlG++jhRviNDUb5LTVG+dFdRvpxhUb7Fa1G+7XVRvhWAUb49ilG+ZZRRvo2eUb61qFG+3bJRvgW9Ub4tx1G+VNFRvnzbUb6j5VG+y+9RvvL5Ub4aBFK+QQ5SvmgYUr6PIlK+tixSvt02Ur4EQVK+K0tSvlJVUr54X1K+n2lSvsVzUr7sfVK+EohSvjiSUr5enFK+haZSvquwUr7RulK+9sRSvhzPUr5C2VK+aONSvo3tUr6z91K+2AFTvv0LU74iFlO+RyBTvm0qU76RNFO+tj5TvttIU74AU1O+JF1TvklnU75tcVO+kntTvraFU77aj1O+/plTviKkU75GrlO+arhTvo7CU76xzFO+1dZTvvjgU74b61O+P/VTvmL/U76FCVS+qBNUvssdVL7tJ1S+EDJUvjM8VL5VRlS+d1BUvppaVL68ZFS+3m5UvgB5VL4ig1S+RI1UvmWXVL6HoVS+qKtUvsq1VL7rv1S+DMpUvi3UVL5O3lS+b+hUvo/yVL6w/FS+0QZVvvEQVb4RG1W+MSVVvlIvVb5yOVW+kUNVvrFNVb7RV1W+8GFVvhBsVb4vdlW+ToBVvm2KVb6MlFW+q55VvsqoVb7oslW+B71VviXHVb5E0VW+YttVvoDlVb6e71W+u/lVvtkDVr73DVa+FBhWvjEiVr5PLFa+bDZWvolAVr6lSla+wlRWvt9eVr4=",
          "dtype": "f4"
         }
        },
        {
         "mode": "markers",
         "name": "NNOUT1(PyTorch)",
         "type": "scatter",
         "x": {
          "bdata": "AAABAAIAAwAEAAUABgAHAAgACQAKAAsADAANAA4ADwAQABEAEgATABQAFQAWABcAGAAZABoAGwAcAB0AHgAfACAAIQAiACMAJAAlACYAJwAoACkAKgArACwALQAuAC8AMAAxADIAMwA0ADUANgA3ADgAOQA6ADsAPAA9AD4APwBAAEEAQgBDAEQARQBGAEcASABJAEoASwBMAE0ATgBPAFAAUQBSAFMAVABVAFYAVwBYAFkAWgBbAFwAXQBeAF8AYABhAGIAYwBkAGUAZgBnAGgAaQBqAGsAbABtAG4AbwBwAHEAcgBzAHQAdQB2AHcAeAB5AHoAewB8AH0AfgB/AIAAgQCCAIMAhACFAIYAhwCIAIkAigCLAIwAjQCOAI8AkACRAJIAkwCUAJUAlgCXAJgAmQCaAJsAnACdAJ4AnwCgAKEAogCjAKQApQCmAKcAqACpAKoAqwCsAK0ArgCvALAAsQCyALMAtAC1ALYAtwC4ALkAugC7ALwAvQC+AL8AwADBAMIAwwDEAMUAxgDHAA==",
          "dtype": "i2"
         },
         "y": {
          "bdata": "pkwsvgC4Ob5XkkG+UFJGvuU/Sb4qGku+/U9MvtQgTb5JsU2+OBdOvkVgTr5qlU6+wrxOvpHaTr7U8U6+pARPvnUUT75FIk++yC5PvnA6T76NRU++TFBPvtZaT747ZU++iW9Pvst5T74BhE++NY5PvmWYT76Sok++v6xPvuq2T74VwU++QctPvm3VT76W30++wOlPvuvzT74X/k++QAhQvmoSUL6VHFC+vyZQvuowUL4UO1C+PUVQvmdPUL6SWVC+umNQvuVtUL4OeFC+OIJQvmGMUL6MllC+tqBQvt+qUL4ItVC+Mr9QvlvJUL6E01C+rd1QvtfnUL4A8lC+KPxQvlEGUb56EFG+pBpRvswkUb73LlG+HTlRvkZDUb5vTVG+l1dRvsBhUb7oa1G+EXZRvjmAUb5hilG+iZRRvrKeUb7aqFG+A7NRvim9Ub5Rx1G+edFRvqDbUb7J5VG+7+9Rvhf6Ub49BFK+ZQ5Svo0YUr60IlK+3CxSvgI3Ur4oQVK+T0tSvndVUr6eX1K+xGlSvupzUr4QflK+NohSvl2SUr6DnFK+qaZSvtCwUr72ulK+HcVSvkPPUr5n2VK+jeNSvrPtUr7Z91K+/gFTviMMU75IFlO+bSBTvpEqU764NFO+3T5TvgFJU74mU1O+Sl1Tvm9nU76TcVO+uHtTvt2FU74AkFO+JJpTvkikU75srlO+kbhTvrXCU77YzFO++9ZTvh/hU75B61O+ZvVTvor/U76rCVS+zhNUvvEdVL4TKFS+NzJUvlo8VL59RlS+n1BUvsFaVL7kZFS+BW9Uvil5VL5Kg1S+ao1UvoyXVL6toVS+0KtUvvK1VL4SwFS+M8pUvlXUVL523lS+luhUvrbyVL7Z/FS++QZVvhgRVb46G1W+WiVVvnkvVb6ZOVW+uENVvtpNVb75V1W+GWJVvjhsVb5YdlW+d4BVvpWKVb61lFW+055VvvGoVb4Qs1W+L71Vvk7HVb5s0VW+i9tVvqjlVb7H71W+5PlVvgIEVr4gDla+PhhWvloiVr54LFa+lTZWvrJAVr7OSla+61RWvghfVr4=",
          "dtype": "f4"
         }
        },
        {
         "mode": "markers",
         "name": "NNOUT2(LTspice)",
         "type": "scatter",
         "x": {
          "bdata": "AAABAAIAAwAEAAUABgAHAAgACQAKAAsADAANAA4ADwAQABEAEgATABQAFQAWABcAGAAZABoAGwAcAB0AHgAfACAAIQAiACMAJAAlACYAJwAoACkAKgArACwALQAuAC8AMAAxADIAMwA0ADUANgA3ADgAOQA6ADsAPAA9AD4APwBAAEEAQgBDAEQARQBGAEcASABJAEoASwBMAE0ATgBPAFAAUQBSAFMAVABVAFYAVwBYAFkAWgBbAFwAXQBeAF8AYABhAGIAYwBkAGUAZgBnAGgAaQBqAGsAbABtAG4AbwBwAHEAcgBzAHQAdQB2AHcAeAB5AHoAewB8AH0AfgB/AIAAgQCCAIMAhACFAIYAhwCIAIkAigCLAIwAjQCOAI8AkACRAJIAkwCUAJUAlgCXAJgAmQCaAJsAnACdAJ4AnwCgAKEAogCjAKQApQCmAKcAqACpAKoAqwCsAK0ArgCvALAAsQCyALMAtAC1ALYAtwC4ALkAugC7ALwAvQC+AL8AwADBAMIAwwDEAMUAxgDHAA==",
          "dtype": "i2"
         },
         "y": {
          "bdata": "q8scvtWbJr6GWyy+eUcvvm2oML4GSzG+9pgxvqzCMb5C3DG+au0xvgn5Mb5qADK+aQQyvsYFMr4sBTK+LwMyvkIAMr67/DG+2PgxvsD0Mb6N8DG+TuwxvgvoMb7J4zG+id8xvkzbMb4R1zG+2dIxvqPOMb5uyjG+OcYxvgbCMb7TvTG+obkxvm+1Mb49sTG+C60xvtqoMb6opDG+d6AxvkacMb4VmDG+5ZMxvrSPMb6DizG+U4cxviODMb7yfjG+wnoxvpJ2Mb5jcjG+M24xvgNqMb7UZTG+pWExvnZdMb5GWTG+GFUxvulQMb66TDG+jEgxvl1EMb4vQDG+ATwxvtM3Mb6lMzG+dy8xvkkrMb4cJzG+7iIxvsEeMb6UGjG+ZhYxvjoSMb4NDjG+4AkxvrMFMb6HATG+W/0wvi75ML4C9TC+1vAwvqvsML5/6DC+U+QwvijgML792zC+0dcwvqbTML57zzC+UMswvibHML77wjC+0b4wvqa6ML58tjC+UrIwviiuML7+qTC+1aUwvquhML6CnTC+WJkwvi+VML4GkTC+3YwwvrSIML6LhDC+Y4Awvjp8ML4SeDC+6nMwvsJvML6aazC+cmcwvkpjML4iXzC++1owvtRWML6sUjC+hU4wvl5KML43RjC+EUIwvuo9ML7EOTC+nTUwvncxML5RLTC+KykwvgUlML7fIDC+uhwwvpQYML5vFDC+SRAwviQMML7/BzC+2gMwvrb/L76R+y++bfcvvkjzL74k7y++AOsvvtzmL7644i++lN4vvnHaL75N1i++KtIvvgbOL77jyS++wMUvvp3BL757vS++WLkvvjW1L74TsS++8awvvs+oL76tpC++i6AvvmmcL75HmC++JpQvvgSQL77jiy++wocvvqGDL76Afy++X3svvj93L74ecy++/m4vvt1qL769Zi++nWIvvn1eL75dWi++PlYvvh5SL77/TS++30kvvsBFL76hQS++gj0vvmM5L75FNS++JjEvvggtL77pKC++yyQvvq0gL76PHC++cRgvvlQUL742EC++GQwvvvsHL74=",
          "dtype": "f4"
         }
        },
        {
         "mode": "markers",
         "name": "NNOUT2(PyTorch)",
         "type": "scatter",
         "x": {
          "bdata": "AAABAAIAAwAEAAUABgAHAAgACQAKAAsADAANAA4ADwAQABEAEgATABQAFQAWABcAGAAZABoAGwAcAB0AHgAfACAAIQAiACMAJAAlACYAJwAoACkAKgArACwALQAuAC8AMAAxADIAMwA0ADUANgA3ADgAOQA6ADsAPAA9AD4APwBAAEEAQgBDAEQARQBGAEcASABJAEoASwBMAE0ATgBPAFAAUQBSAFMAVABVAFYAVwBYAFkAWgBbAFwAXQBeAF8AYABhAGIAYwBkAGUAZgBnAGgAaQBqAGsAbABtAG4AbwBwAHEAcgBzAHQAdQB2AHcAeAB5AHoAewB8AH0AfgB/AIAAgQCCAIMAhACFAIYAhwCIAIkAigCLAIwAjQCOAI8AkACRAJIAkwCUAJUAlgCXAJgAmQCaAJsAnACdAJ4AnwCgAKEAogCjAKQApQCmAKcAqACpAKoAqwCsAK0ArgCvALAAsQCyALMAtAC1ALYAtwC4ALkAugC7ALwAvQC+AL8AwADBAMIAwwDEAMUAxgDHAA==",
          "dtype": "i2"
         },
         "y": {
          "bdata": "scscvuSbJr6YWyy+jkcvvoSoML4dSzG+D5kxvsbCMb5c3DG+g+0xviP5Mb6DADK+gwQyvuEFMr5GBTK+SAMyvlsAMr7U/DG+8Pgxvtr0Mb6m8DG+aOwxviboMb7j4zG+o98xvmbbMb4r1zG+89IxvrzOMb6IyjG+VMYxviLCMb7uvTG+vLkxvoq1Mb5WsTG+Jq0xvvSoMb7DpDG+k6AxvmGcMb4wmDG+/5Mxvs+PMb6eizG+bYcxvj2DMb4NfzG+3noxvq52Mb5+cjG+Tm4xvh9qMb7vZTG+wWExvpJdMb5iWTG+NFUxvgVRMb7VTDG+p0gxvnhEMb5KQDG+HDwxvu83Mb7BMzG+ky8xvmYrMb44JzG+CiMxvt4eMb6wGjG+gxYxvlUSMb4pDjG+/QkxvtAFMb6kATG+eP0wvkv5ML4f9TC+8/AwvsfsML6b6DC+cOQwvkTgML4Z3DC+7tcwvsPTML6XzzC+bsswvkPHML4YwzC+7b4wvsO6ML6ZtjC+cLIwvkauML4cqjC+8aUwvsehML6fnTC+dpkwvkyVML4kkTC++4wwvtKIML6qhDC+gIAwvlh8ML4weDC+CHQwvt9vML63azC+kGcwvmdjML5AXzC+GVswvvJWML7KUjC+pE4wvn1KML5XRjC+L0Iwvgg+ML7hOTC+uzUwvpUxML5vLTC+SikwviQlML7+IDC+2RwwvrIYML6NFDC+aBAwvkMMML4fCDC++gMwvtT/L76w+y++jPcvvmfzL75D7y++H+svvvzmL77X4i++tN4vvo/aL75s1i++StIvvibOL74Dyi++4MUvvr3BL76ZvS++d7kvvla1L74zsS++EK0vvu+oL77MpC++q6AvvoicL75nmC++RZQvviSQL74DjC++4YcvvsGDL76ffy++gHsvvl93L74+cy++Hm8vvv5qL77eZi++vmIvvp5eL75+Wi++XlYvvj9SL74fTi++AEovvuFFL77CQS++oz0vvoM5L75mNS++RzEvviktL74LKS++7CQvvs8gL76wHC++khgvvnQUL75XEC++Owwvvh0IL74=",
          "dtype": "f4"
         }
        }
       ],
       "layout": {
        "template": {
         "data": {
          "bar": [
           {
            "error_x": {
             "color": "#2a3f5f"
            },
            "error_y": {
             "color": "#2a3f5f"
            },
            "marker": {
             "line": {
              "color": "#E5ECF6",
              "width": 0.5
             },
             "pattern": {
              "fillmode": "overlay",
              "size": 10,
              "solidity": 0.2
             }
            },
            "type": "bar"
           }
          ],
          "barpolar": [
           {
            "marker": {
             "line": {
              "color": "#E5ECF6",
              "width": 0.5
             },
             "pattern": {
              "fillmode": "overlay",
              "size": 10,
              "solidity": 0.2
             }
            },
            "type": "barpolar"
           }
          ],
          "carpet": [
           {
            "aaxis": {
             "endlinecolor": "#2a3f5f",
             "gridcolor": "white",
             "linecolor": "white",
             "minorgridcolor": "white",
             "startlinecolor": "#2a3f5f"
            },
            "baxis": {
             "endlinecolor": "#2a3f5f",
             "gridcolor": "white",
             "linecolor": "white",
             "minorgridcolor": "white",
             "startlinecolor": "#2a3f5f"
            },
            "type": "carpet"
           }
          ],
          "choropleth": [
           {
            "colorbar": {
             "outlinewidth": 0,
             "ticks": ""
            },
            "type": "choropleth"
           }
          ],
          "contour": [
           {
            "colorbar": {
             "outlinewidth": 0,
             "ticks": ""
            },
            "colorscale": [
             [
              0,
              "#0d0887"
             ],
             [
              0.1111111111111111,
              "#46039f"
             ],
             [
              0.2222222222222222,
              "#7201a8"
             ],
             [
              0.3333333333333333,
              "#9c179e"
             ],
             [
              0.4444444444444444,
              "#bd3786"
             ],
             [
              0.5555555555555556,
              "#d8576b"
             ],
             [
              0.6666666666666666,
              "#ed7953"
             ],
             [
              0.7777777777777778,
              "#fb9f3a"
             ],
             [
              0.8888888888888888,
              "#fdca26"
             ],
             [
              1,
              "#f0f921"
             ]
            ],
            "type": "contour"
           }
          ],
          "contourcarpet": [
           {
            "colorbar": {
             "outlinewidth": 0,
             "ticks": ""
            },
            "type": "contourcarpet"
           }
          ],
          "heatmap": [
           {
            "colorbar": {
             "outlinewidth": 0,
             "ticks": ""
            },
            "colorscale": [
             [
              0,
              "#0d0887"
             ],
             [
              0.1111111111111111,
              "#46039f"
             ],
             [
              0.2222222222222222,
              "#7201a8"
             ],
             [
              0.3333333333333333,
              "#9c179e"
             ],
             [
              0.4444444444444444,
              "#bd3786"
             ],
             [
              0.5555555555555556,
              "#d8576b"
             ],
             [
              0.6666666666666666,
              "#ed7953"
             ],
             [
              0.7777777777777778,
              "#fb9f3a"
             ],
             [
              0.8888888888888888,
              "#fdca26"
             ],
             [
              1,
              "#f0f921"
             ]
            ],
            "type": "heatmap"
           }
          ],
          "histogram": [
           {
            "marker": {
             "pattern": {
              "fillmode": "overlay",
              "size": 10,
              "solidity": 0.2
             }
            },
            "type": "histogram"
           }
          ],
          "histogram2d": [
           {
            "colorbar": {
             "outlinewidth": 0,
             "ticks": ""
            },
            "colorscale": [
             [
              0,
              "#0d0887"
             ],
             [
              0.1111111111111111,
              "#46039f"
             ],
             [
              0.2222222222222222,
              "#7201a8"
             ],
             [
              0.3333333333333333,
              "#9c179e"
             ],
             [
              0.4444444444444444,
              "#bd3786"
             ],
             [
              0.5555555555555556,
              "#d8576b"
             ],
             [
              0.6666666666666666,
              "#ed7953"
             ],
             [
              0.7777777777777778,
              "#fb9f3a"
             ],
             [
              0.8888888888888888,
              "#fdca26"
             ],
             [
              1,
              "#f0f921"
             ]
            ],
            "type": "histogram2d"
           }
          ],
          "histogram2dcontour": [
           {
            "colorbar": {
             "outlinewidth": 0,
             "ticks": ""
            },
            "colorscale": [
             [
              0,
              "#0d0887"
             ],
             [
              0.1111111111111111,
              "#46039f"
             ],
             [
              0.2222222222222222,
              "#7201a8"
             ],
             [
              0.3333333333333333,
              "#9c179e"
             ],
             [
              0.4444444444444444,
              "#bd3786"
             ],
             [
              0.5555555555555556,
              "#d8576b"
             ],
             [
              0.6666666666666666,
              "#ed7953"
             ],
             [
              0.7777777777777778,
              "#fb9f3a"
             ],
             [
              0.8888888888888888,
              "#fdca26"
             ],
             [
              1,
              "#f0f921"
             ]
            ],
            "type": "histogram2dcontour"
           }
          ],
          "mesh3d": [
           {
            "colorbar": {
             "outlinewidth": 0,
             "ticks": ""
            },
            "type": "mesh3d"
           }
          ],
          "parcoords": [
           {
            "line": {
             "colorbar": {
              "outlinewidth": 0,
              "ticks": ""
             }
            },
            "type": "parcoords"
           }
          ],
          "pie": [
           {
            "automargin": true,
            "type": "pie"
           }
          ],
          "scatter": [
           {
            "fillpattern": {
             "fillmode": "overlay",
             "size": 10,
             "solidity": 0.2
            },
            "type": "scatter"
           }
          ],
          "scatter3d": [
           {
            "line": {
             "colorbar": {
              "outlinewidth": 0,
              "ticks": ""
             }
            },
            "marker": {
             "colorbar": {
              "outlinewidth": 0,
              "ticks": ""
             }
            },
            "type": "scatter3d"
           }
          ],
          "scattercarpet": [
           {
            "marker": {
             "colorbar": {
              "outlinewidth": 0,
              "ticks": ""
             }
            },
            "type": "scattercarpet"
           }
          ],
          "scattergeo": [
           {
            "marker": {
             "colorbar": {
              "outlinewidth": 0,
              "ticks": ""
             }
            },
            "type": "scattergeo"
           }
          ],
          "scattergl": [
           {
            "marker": {
             "colorbar": {
              "outlinewidth": 0,
              "ticks": ""
             }
            },
            "type": "scattergl"
           }
          ],
          "scattermap": [
           {
            "marker": {
             "colorbar": {
              "outlinewidth": 0,
              "ticks": ""
             }
            },
            "type": "scattermap"
           }
          ],
          "scattermapbox": [
           {
            "marker": {
             "colorbar": {
              "outlinewidth": 0,
              "ticks": ""
             }
            },
            "type": "scattermapbox"
           }
          ],
          "scatterpolar": [
           {
            "marker": {
             "colorbar": {
              "outlinewidth": 0,
              "ticks": ""
             }
            },
            "type": "scatterpolar"
           }
          ],
          "scatterpolargl": [
           {
            "marker": {
             "colorbar": {
              "outlinewidth": 0,
              "ticks": ""
             }
            },
            "type": "scatterpolargl"
           }
          ],
          "scatterternary": [
           {
            "marker": {
             "colorbar": {
              "outlinewidth": 0,
              "ticks": ""
             }
            },
            "type": "scatterternary"
           }
          ],
          "surface": [
           {
            "colorbar": {
             "outlinewidth": 0,
             "ticks": ""
            },
            "colorscale": [
             [
              0,
              "#0d0887"
             ],
             [
              0.1111111111111111,
              "#46039f"
             ],
             [
              0.2222222222222222,
              "#7201a8"
             ],
             [
              0.3333333333333333,
              "#9c179e"
             ],
             [
              0.4444444444444444,
              "#bd3786"
             ],
             [
              0.5555555555555556,
              "#d8576b"
             ],
             [
              0.6666666666666666,
              "#ed7953"
             ],
             [
              0.7777777777777778,
              "#fb9f3a"
             ],
             [
              0.8888888888888888,
              "#fdca26"
             ],
             [
              1,
              "#f0f921"
             ]
            ],
            "type": "surface"
           }
          ],
          "table": [
           {
            "cells": {
             "fill": {
              "color": "#EBF0F8"
             },
             "line": {
              "color": "white"
             }
            },
            "header": {
             "fill": {
              "color": "#C8D4E3"
             },
             "line": {
              "color": "white"
             }
            },
            "type": "table"
           }
          ]
         },
         "layout": {
          "annotationdefaults": {
           "arrowcolor": "#2a3f5f",
           "arrowhead": 0,
           "arrowwidth": 1
          },
          "autotypenumbers": "strict",
          "coloraxis": {
           "colorbar": {
            "outlinewidth": 0,
            "ticks": ""
           }
          },
          "colorscale": {
           "diverging": [
            [
             0,
             "#8e0152"
            ],
            [
             0.1,
             "#c51b7d"
            ],
            [
             0.2,
             "#de77ae"
            ],
            [
             0.3,
             "#f1b6da"
            ],
            [
             0.4,
             "#fde0ef"
            ],
            [
             0.5,
             "#f7f7f7"
            ],
            [
             0.6,
             "#e6f5d0"
            ],
            [
             0.7,
             "#b8e186"
            ],
            [
             0.8,
             "#7fbc41"
            ],
            [
             0.9,
             "#4d9221"
            ],
            [
             1,
             "#276419"
            ]
           ],
           "sequential": [
            [
             0,
             "#0d0887"
            ],
            [
             0.1111111111111111,
             "#46039f"
            ],
            [
             0.2222222222222222,
             "#7201a8"
            ],
            [
             0.3333333333333333,
             "#9c179e"
            ],
            [
             0.4444444444444444,
             "#bd3786"
            ],
            [
             0.5555555555555556,
             "#d8576b"
            ],
            [
             0.6666666666666666,
             "#ed7953"
            ],
            [
             0.7777777777777778,
             "#fb9f3a"
            ],
            [
             0.8888888888888888,
             "#fdca26"
            ],
            [
             1,
             "#f0f921"
            ]
           ],
           "sequentialminus": [
            [
             0,
             "#0d0887"
            ],
            [
             0.1111111111111111,
             "#46039f"
            ],
            [
             0.2222222222222222,
             "#7201a8"
            ],
            [
             0.3333333333333333,
             "#9c179e"
            ],
            [
             0.4444444444444444,
             "#bd3786"
            ],
            [
             0.5555555555555556,
             "#d8576b"
            ],
            [
             0.6666666666666666,
             "#ed7953"
            ],
            [
             0.7777777777777778,
             "#fb9f3a"
            ],
            [
             0.8888888888888888,
             "#fdca26"
            ],
            [
             1,
             "#f0f921"
            ]
           ]
          },
          "colorway": [
           "#636efa",
           "#EF553B",
           "#00cc96",
           "#ab63fa",
           "#FFA15A",
           "#19d3f3",
           "#FF6692",
           "#B6E880",
           "#FF97FF",
           "#FECB52"
          ],
          "font": {
           "color": "#2a3f5f"
          },
          "geo": {
           "bgcolor": "white",
           "lakecolor": "white",
           "landcolor": "#E5ECF6",
           "showlakes": true,
           "showland": true,
           "subunitcolor": "white"
          },
          "hoverlabel": {
           "align": "left"
          },
          "hovermode": "closest",
          "mapbox": {
           "style": "light"
          },
          "paper_bgcolor": "white",
          "plot_bgcolor": "#E5ECF6",
          "polar": {
           "angularaxis": {
            "gridcolor": "white",
            "linecolor": "white",
            "ticks": ""
           },
           "bgcolor": "#E5ECF6",
           "radialaxis": {
            "gridcolor": "white",
            "linecolor": "white",
            "ticks": ""
           }
          },
          "scene": {
           "xaxis": {
            "backgroundcolor": "#E5ECF6",
            "gridcolor": "white",
            "gridwidth": 2,
            "linecolor": "white",
            "showbackground": true,
            "ticks": "",
            "zerolinecolor": "white"
           },
           "yaxis": {
            "backgroundcolor": "#E5ECF6",
            "gridcolor": "white",
            "gridwidth": 2,
            "linecolor": "white",
            "showbackground": true,
            "ticks": "",
            "zerolinecolor": "white"
           },
           "zaxis": {
            "backgroundcolor": "#E5ECF6",
            "gridcolor": "white",
            "gridwidth": 2,
            "linecolor": "white",
            "showbackground": true,
            "ticks": "",
            "zerolinecolor": "white"
           }
          },
          "shapedefaults": {
           "line": {
            "color": "#2a3f5f"
           }
          },
          "ternary": {
           "aaxis": {
            "gridcolor": "white",
            "linecolor": "white",
            "ticks": ""
           },
           "baxis": {
            "gridcolor": "white",
            "linecolor": "white",
            "ticks": ""
           },
           "bgcolor": "#E5ECF6",
           "caxis": {
            "gridcolor": "white",
            "linecolor": "white",
            "ticks": ""
           }
          },
          "title": {
           "x": 0.05
          },
          "xaxis": {
           "automargin": true,
           "gridcolor": "white",
           "linecolor": "white",
           "ticks": "",
           "title": {
            "standoff": 15
           },
           "zerolinecolor": "white",
           "zerolinewidth": 2
          },
          "yaxis": {
           "automargin": true,
           "gridcolor": "white",
           "linecolor": "white",
           "ticks": "",
           "title": {
            "standoff": 15
           },
           "zerolinecolor": "white",
           "zerolinewidth": 2
          }
         }
        },
        "title": {
         "text": "ENV=env_buck_9x2<br>MODEL=gru_linear"
        },
        "xaxis": {
         "title": {
          "text": "Sample index"
         }
        },
        "yaxis": {
         "title": {
          "text": "Output"
         }
        }
       }
      }
     },
     "metadata": {},
     "output_type": "display_data"
    },
    {
     "name": "stdout",
     "output_type": "stream",
     "text": [
      "  NNOUT1: MAE=0.000001, MSE=0.000000\n",
      "  NNOUT2: MAE=0.000000, MSE=0.000000\n"
     ]
    }
   ],
   "source": [
    "ENV_NAME = \"env_buck_9x2\"\n",
    "MODEL_NAME = \"gru_linear\"\n",
    "PY_FILENAME = ENV_NAME + '_' + MODEL_NAME     # output python file name\n",
    "SP_FILENAME = ENV_NAME + '_' + MODEL_NAME     # output ltspice subcircuit name\n",
    "actor = step1()\n",
    "actions, actions_py = step2(actor)\n",
    "step3(actions, actions_py)"
   ]
  },
  {
   "cell_type": "code",
   "execution_count": 13,
   "id": "445acfd9",
   "metadata": {},
   "outputs": [
    {
     "data": {
      "application/vnd.plotly.v1+json": {
       "config": {
        "plotlyServerURL": "https://plot.ly"
       },
       "data": [
        {
         "mode": "markers",
         "name": "NNOUT1(LTspice)",
         "type": "scatter",
         "x": {
          "bdata": "AAABAAIAAwAEAAUABgAHAAgACQAKAAsADAANAA4ADwAQABEAEgATABQAFQAWABcAGAAZABoAGwAcAB0AHgAfACAAIQAiACMAJAAlACYAJwAoACkAKgArACwALQAuAC8AMAAxADIAMwA0ADUANgA3ADgAOQA6ADsAPAA9AD4APwBAAEEAQgBDAEQARQBGAEcASABJAEoASwBMAE0ATgBPAFAAUQBSAFMAVABVAFYAVwBYAFkAWgBbAFwAXQBeAF8AYABhAGIAYwBkAGUAZgBnAGgAaQBqAGsAbABtAG4AbwBwAHEAcgBzAHQAdQB2AHcAeAB5AHoAewB8AH0AfgB/AIAAgQCCAIMAhACFAIYAhwCIAIkAigCLAIwAjQCOAI8AkACRAJIAkwCUAJUAlgCXAJgAmQCaAJsAnACdAJ4AnwCgAKEAogCjAKQApQCmAKcAqACpAKoAqwCsAK0ArgCvALAAsQCyALMAtAC1ALYAtwC4ALkAugC7ALwAvQC+AL8AwADBAMIAwwDEAMUAxgDHAA==",
          "dtype": "i2"
         },
         "y": {
          "bdata": "yWUAvZx2V7yf1tO6tBW0Oz/fITzGvU48z6hrPMJUfzzf3IY8h5KMPCl0kTzF4ZU8nRGaPBIinjzWI6I8sB+mPNIZqjy2E648PA2yPFEFtjxI+rk8H+q9PJ3SwTxnscU8FYTJPDtIzTx1+9A8b5vUPPAl2DzhmNs8T/LePH8w4jzuUeU8YVXoPN856zzC/u08sqPwPLMo8zwdjvU8o9T3PEz9+Tx0Cfw8xvr9PI7T/zxdzAA9Y6YBPQL8AT3nSQE95LD/PAr/+zxFvvc89zDzPH+M7jwq9+k87orlPN1Y4TwMbN08rcvZPG581jxdgdM8eNzQPPCOzjx1mcw8QvzKPD23yTwBysg85zPIPAr0xzxGCcg8OXLIPDYtyTxAOMo8A5HLPLw0zTw6IM88zE/RPD+/0zzUadY8QkrZPLZa3DzflN888fHiPL5q5jzD9+k8RJHtPGIv8Tw+yvQ8DFr4PDnX+zx/Ov88gj4BPTPMAj1tQwQ9lKEFPWLkBj3kCQg9eRAJPdX2CT36uwo9N18LPSHgCz2SPgw9pHoMPamUDD0sjQw97GQMPdwcDD0ftgs9BzILPRGSCj3k1wk9SwUJPTYcCD22Hgc99g4GPT3vBD3jwQM9T4kCPfBHAT05AAA9NGn9PPfO+jxvNvg8KqT1PIsc8zy6o/A8pT3uPPbt6zwPuOk8CJ/nPKul5Tx1zuM8lRviPOiO4DwCKt88Ju7dPE3c3Dwm9ds8GTnbPEao2jyMQto8gwfaPIX22TyqDto81E7aPKK12jyBQds8ofDbPAHB3DxmsN08arzePHXi3zzLH+E8hnHiPKbU4zwQRuU8lsLmPAFH6DwU0Ok8lVrrPFTj7DwyZ+48KePvPE9U8Tzgt/I8RAv0PBBM9TwKePY8NI33PMWJ+DwxbPk8KTP6PJrd+jyzavs82dn7PLQq/DwhXfw8O3H8PFJn/DzwP/w80vv7POWb+zxGIfs8OY36PCzh+TysHvk8aUf4PC1d9zzaYfY8aFf1PNw/9DxKHfM8zvHxPIS/8DyNiO88A0/uPPgU7Txz3Os8a6fqPMZ36Tw=",
          "dtype": "f4"
         }
        },
        {
         "mode": "markers",
         "name": "NNOUT1(PyTorch)",
         "type": "scatter",
         "x": {
          "bdata": "AAABAAIAAwAEAAUABgAHAAgACQAKAAsADAANAA4ADwAQABEAEgATABQAFQAWABcAGAAZABoAGwAcAB0AHgAfACAAIQAiACMAJAAlACYAJwAoACkAKgArACwALQAuAC8AMAAxADIAMwA0ADUANgA3ADgAOQA6ADsAPAA9AD4APwBAAEEAQgBDAEQARQBGAEcASABJAEoASwBMAE0ATgBPAFAAUQBSAFMAVABVAFYAVwBYAFkAWgBbAFwAXQBeAF8AYABhAGIAYwBkAGUAZgBnAGgAaQBqAGsAbABtAG4AbwBwAHEAcgBzAHQAdQB2AHcAeAB5AHoAewB8AH0AfgB/AIAAgQCCAIMAhACFAIYAhwCIAIkAigCLAIwAjQCOAI8AkACRAJIAkwCUAJUAlgCXAJgAmQCaAJsAnACdAJ4AnwCgAKEAogCjAKQApQCmAKcAqACpAKoAqwCsAK0ArgCvALAAsQCyALMAtAC1ALYAtwC4ALkAugC7ALwAvQC+AL8AwADBAMIAwwDEAMUAxgDHAA==",
          "dtype": "i2"
         },
         "y": {
          "bdata": "LmYAveZ3V7yU39O6qRO0Oz/eITzZvE4816drPL1Tfzxl3IY8FJKMPLZzkTxM4ZU8IRGaPKUhnjxgI6I8Px+mPGIZqjxKE6480gyyPOAEtjzh+bk8tum9PEnSwTwMscU8w4PJPOdHzTwo+9A8HpvUPKcl2DybmNs8A/LePDcw4jyxUeU8MFXoPKk56zyG/u08jqPwPJIo8zz+jfU8htT3PCz9+TxlCfw8tPr9PHvT/zxazAA9Z6YBPQf8AT3sSQE997D/PCD/+zxjvvc8IDHzPKuM7jxh9+k8KYvlPBFZ4TxRbN088MvZPLt81jyvgdM8wdzQPDqPzjy7mcw8kPzKPIu3yTxMysg8NzTIPGH0xzyRCcg8iXLIPIEtyTyPOMo8UZHLPAY1zTx6IM88FlDRPHi/0zwaatY8g0rZPOxa3DwQld88HfLiPOxq5jz59+k8bZHtPIsv8TxnyvQ8I1r4PFbX+zyVOv88jT4BPT/MAj1vQwQ9maEFPWrkBj3mCQg9fRAJPdT2CT33uwo9N18LPSDgCz2WPgw9pnoMPaqUDD0ujQw97mQMPeAcDD0htgs9CjILPROSCj3p1wk9TgUJPTkcCD26Hgc9+w4GPUHvBD3uwQM9XIkCPflHAT1IAAA9WGn9PBXP+jyHNvg8UaT1PLgc8zzqo/A81D3uPC/u6zw+uOk8PZ/nPNyl5TyqzuM8zxviPCSP4DxAKt88aO7dPI/c3Dxm9ds8WTnbPIeo2jzGQto8yQfaPMz22TzzDto8FE/aPOG12jy/Qds84/DbPD3B3DycsN08obzePLni3zwEIOE8w3HiPN3U4zxHRuU8xsLmPD9H6DxN0Ok8wlrrPH/j7DxbZ+48WOPvPHZU8TwDuPI8bgv0PDFM9TwsePY8U433POSJ+DxObPk8RzP6PMLd+jzMavs8/dn7PNUq/DxBXfw8XHH8PHtn/DwQQPw89fv7PACc+zxuIfs8YY36PE7h+TzQHvk8j0f4PFpd9zwFYvY8klf1PAJA9Dx4HfM8+/HxPKe/8Dy8iO88OE/uPCQV7Tyn3Os8pKfqPAN46Tw=",
          "dtype": "f4"
         }
        },
        {
         "mode": "markers",
         "name": "NNOUT2(LTspice)",
         "type": "scatter",
         "x": {
          "bdata": "AAABAAIAAwAEAAUABgAHAAgACQAKAAsADAANAA4ADwAQABEAEgATABQAFQAWABcAGAAZABoAGwAcAB0AHgAfACAAIQAiACMAJAAlACYAJwAoACkAKgArACwALQAuAC8AMAAxADIAMwA0ADUANgA3ADgAOQA6ADsAPAA9AD4APwBAAEEAQgBDAEQARQBGAEcASABJAEoASwBMAE0ATgBPAFAAUQBSAFMAVABVAFYAVwBYAFkAWgBbAFwAXQBeAF8AYABhAGIAYwBkAGUAZgBnAGgAaQBqAGsAbABtAG4AbwBwAHEAcgBzAHQAdQB2AHcAeAB5AHoAewB8AH0AfgB/AIAAgQCCAIMAhACFAIYAhwCIAIkAigCLAIwAjQCOAI8AkACRAJIAkwCUAJUAlgCXAJgAmQCaAJsAnACdAJ4AnwCgAKEAogCjAKQApQCmAKcAqACpAKoAqwCsAK0ArgCvALAAsQCyALMAtAC1ALYAtwC4ALkAugC7ALwAvQC+AL8AwADBAMIAwwDEAMUAxgDHAA==",
          "dtype": "i2"
         },
         "y": {
          "bdata": "aQXAPeXC1z0R2+c9Q17yPcQj+T1iYf09X/D/PXCzAD7PFAE+gj0BPi5DAT7QMwE+bhgBPtj2AD7X0gA+6a4APryMAD54bQA+8FEAPr06AD5SKAA+BRsAPhQTAD6rEAA+4RMAPrwcAD4yKwA+Iz8APmNYAD6tdgA+rJkAPvPAAD4H7AA+WRoBPkZLAT4bfgE+FbIBPmTmAT4uGgI+j0wCPp98Aj5yqQI+INICPnz1Aj7fEAM+jSUDPrc/Az4ThwM+ewYEPkafBD5/PwU+U9wFPp5vBj4i9gY+bW4HPiXYBz6aMwg+hoEIPt/CCD6z+Ag+GSQJPiRGCT7QXwk+BHIJPoZ9CT4Dgwk+AoMJPu59CT4TdAk+nmUJPqtSCT48Owk+Qx8JPqf+CD5H2Qg+/K4IPqR/CD4iSwg+ZhEIPm7SBz5Ojgc+MkUHPmL3Bj5CpQY+V08GPkL2BT7EmgU+uj0FPhrgBD7wggQ+VCcEPm7OAz5meQM+ZCkDPonfAj7knAI+c2ICPhwxAj6kCQI+r+wBPrvaAT4i1AE+ENkBPpHpAT6ABQI+kCwCPlBeAj4smgI+b98CPkYtAz7KggM+/d4DPtNABD44pwQ+ExEFPkx9BT7T6gU+n1gGPrrFBj48MQc+V5oHPlAACD6GYgg+dMAIPqoZCT7UbQk+tbwJPiIGCj4JSgo+ZYgKPkLBCj639Ao+5yILPvtLCz4icAs+j48LPnaqCz4LwQs+g9MLPhLiCz7l7As+LPQLPhH4Cz6++As+VPYLPvjwCz7O6As+990LPpXQCz7LwAs+va4LPpSaCz57hAs+n2wLPjVTCz51OAs+mxwLPun/Cj6o4go+I8UKPqunCj6Sigo+L24KPttSCj7uOAo+wCAKPqYKCj7z9gk+9eUJPvXXCT4yzQk+58UJPkPCCT5rwgk+e8YJPoTOCT6K2gk+iOoJPmr+CT4UFgo+XjEKPhdQCj4Hcgo+7ZYKPoG+Cj536Ao+fRQLPkBCCz5scQs+qqELPqbSCz4NBAw+jjUMPt9mDD62lww+0ccMPvT2DD7nJA0+eVENPn98DT4=",
          "dtype": "f4"
         }
        },
        {
         "mode": "markers",
         "name": "NNOUT2(PyTorch)",
         "type": "scatter",
         "x": {
          "bdata": "AAABAAIAAwAEAAUABgAHAAgACQAKAAsADAANAA4ADwAQABEAEgATABQAFQAWABcAGAAZABoAGwAcAB0AHgAfACAAIQAiACMAJAAlACYAJwAoACkAKgArACwALQAuAC8AMAAxADIAMwA0ADUANgA3ADgAOQA6ADsAPAA9AD4APwBAAEEAQgBDAEQARQBGAEcASABJAEoASwBMAE0ATgBPAFAAUQBSAFMAVABVAFYAVwBYAFkAWgBbAFwAXQBeAF8AYABhAGIAYwBkAGUAZgBnAGgAaQBqAGsAbABtAG4AbwBwAHEAcgBzAHQAdQB2AHcAeAB5AHoAewB8AH0AfgB/AIAAgQCCAIMAhACFAIYAhwCIAIkAigCLAIwAjQCOAI8AkACRAJIAkwCUAJUAlgCXAJgAmQCaAJsAnACdAJ4AnwCgAKEAogCjAKQApQCmAKcAqACpAKoAqwCsAK0ArgCvALAAsQCyALMAtAC1ALYAtwC4ALkAugC7ALwAvQC+AL8AwADBAMIAwwDEAMUAxgDHAA==",
          "dtype": "i2"
         },
         "y": {
          "bdata": "UQXAPc3C1z322uc9JV7yPaMj+T1AYf09OvD/PV6zAD69FAE+bj0BPhtDAT6+MwE+WxgBPsX2AD7E0gA+164APqqMAD5mbQA+3VEAPqo6AD4+KAA+8xoAPgETAD6YEAA+zhMAPqocAD4gKwA+ED8APlFYAD6ZdgA+mZkAPuHAAD716wA+RhoBPjNLAT4HfgE+ArIBPlHmAT4bGgI+fUwCPot8Aj5fqQI+C9ICPmn1Aj7MEAM+eCUDPqI/Az4AhwM+ZwYEPjGfBD5qPwU+P9wFPolvBj4M9gY+WG4HPhDYBz6EMwg+b4EIPsjCCD6c+Ag+BCQJPg1GCT65Xwk+7HEJPm19CT7rggk+6oIJPth9CT77cwk+hmUJPpNSCT4lOwk+Lh8JPpL+CD4x2Qg+5a4IPo9/CD4NSwg+TxEIPlnSBz44jgc+HUUHPk73Bj4tpQY+Qk8GPi32BT6vmgU+pj0FPgfgBD7cggQ+QicEPlrOAz5SeQM+USkDPnXfAj7PnAI+X2ICPgkxAj6RCQI+newBPqjaAT4O1AE+/dgBPn7pAT5uBQI+fSwCPj1eAj4YmgI+XN8CPjMtAz62ggM+694DPr9ABD4lpwQ+ABEFPjl9BT7A6gU+i1gGPqfFBj4oMQc+QpoHPjwACD5zYgg+YMAIPpcZCT7BbQk+orwJPgwGCj7zSQo+UogKPi7BCj6j9Ao+0yILPuZLCz4NcAs+eo8LPmGqCz74wAs+b9MLPv7hCz7Q7As+FvQLPv33Cz6p+As+P/YLPuPwCz656As+5N0LPoHQCz62wAs+qa4LPoGaCz5mhAs+i2wLPiFTCz5gOAs+iBwLPtb/Cj6U4go+EcUKPpinCj5+igo+HW4KPshSCj7aOAo+rSAKPpIKCj7g9gk+4+UJPuLXCT4gzQk+08UJPi/CCT5Xwgk+Z8YJPnHOCT542gk+deoJPlf+CT4AFgo+SjEKPgRQCj71cQo+25YKPm2+Cj5k6Ao+axQLPi9CCz5ZcQs+maELPpPSCz76Aww+fDUMPsxmDD6jlww+vccMPuH2DD7UJA0+ZVENPmx8DT4=",
          "dtype": "f4"
         }
        }
       ],
       "layout": {
        "template": {
         "data": {
          "bar": [
           {
            "error_x": {
             "color": "#2a3f5f"
            },
            "error_y": {
             "color": "#2a3f5f"
            },
            "marker": {
             "line": {
              "color": "#E5ECF6",
              "width": 0.5
             },
             "pattern": {
              "fillmode": "overlay",
              "size": 10,
              "solidity": 0.2
             }
            },
            "type": "bar"
           }
          ],
          "barpolar": [
           {
            "marker": {
             "line": {
              "color": "#E5ECF6",
              "width": 0.5
             },
             "pattern": {
              "fillmode": "overlay",
              "size": 10,
              "solidity": 0.2
             }
            },
            "type": "barpolar"
           }
          ],
          "carpet": [
           {
            "aaxis": {
             "endlinecolor": "#2a3f5f",
             "gridcolor": "white",
             "linecolor": "white",
             "minorgridcolor": "white",
             "startlinecolor": "#2a3f5f"
            },
            "baxis": {
             "endlinecolor": "#2a3f5f",
             "gridcolor": "white",
             "linecolor": "white",
             "minorgridcolor": "white",
             "startlinecolor": "#2a3f5f"
            },
            "type": "carpet"
           }
          ],
          "choropleth": [
           {
            "colorbar": {
             "outlinewidth": 0,
             "ticks": ""
            },
            "type": "choropleth"
           }
          ],
          "contour": [
           {
            "colorbar": {
             "outlinewidth": 0,
             "ticks": ""
            },
            "colorscale": [
             [
              0,
              "#0d0887"
             ],
             [
              0.1111111111111111,
              "#46039f"
             ],
             [
              0.2222222222222222,
              "#7201a8"
             ],
             [
              0.3333333333333333,
              "#9c179e"
             ],
             [
              0.4444444444444444,
              "#bd3786"
             ],
             [
              0.5555555555555556,
              "#d8576b"
             ],
             [
              0.6666666666666666,
              "#ed7953"
             ],
             [
              0.7777777777777778,
              "#fb9f3a"
             ],
             [
              0.8888888888888888,
              "#fdca26"
             ],
             [
              1,
              "#f0f921"
             ]
            ],
            "type": "contour"
           }
          ],
          "contourcarpet": [
           {
            "colorbar": {
             "outlinewidth": 0,
             "ticks": ""
            },
            "type": "contourcarpet"
           }
          ],
          "heatmap": [
           {
            "colorbar": {
             "outlinewidth": 0,
             "ticks": ""
            },
            "colorscale": [
             [
              0,
              "#0d0887"
             ],
             [
              0.1111111111111111,
              "#46039f"
             ],
             [
              0.2222222222222222,
              "#7201a8"
             ],
             [
              0.3333333333333333,
              "#9c179e"
             ],
             [
              0.4444444444444444,
              "#bd3786"
             ],
             [
              0.5555555555555556,
              "#d8576b"
             ],
             [
              0.6666666666666666,
              "#ed7953"
             ],
             [
              0.7777777777777778,
              "#fb9f3a"
             ],
             [
              0.8888888888888888,
              "#fdca26"
             ],
             [
              1,
              "#f0f921"
             ]
            ],
            "type": "heatmap"
           }
          ],
          "histogram": [
           {
            "marker": {
             "pattern": {
              "fillmode": "overlay",
              "size": 10,
              "solidity": 0.2
             }
            },
            "type": "histogram"
           }
          ],
          "histogram2d": [
           {
            "colorbar": {
             "outlinewidth": 0,
             "ticks": ""
            },
            "colorscale": [
             [
              0,
              "#0d0887"
             ],
             [
              0.1111111111111111,
              "#46039f"
             ],
             [
              0.2222222222222222,
              "#7201a8"
             ],
             [
              0.3333333333333333,
              "#9c179e"
             ],
             [
              0.4444444444444444,
              "#bd3786"
             ],
             [
              0.5555555555555556,
              "#d8576b"
             ],
             [
              0.6666666666666666,
              "#ed7953"
             ],
             [
              0.7777777777777778,
              "#fb9f3a"
             ],
             [
              0.8888888888888888,
              "#fdca26"
             ],
             [
              1,
              "#f0f921"
             ]
            ],
            "type": "histogram2d"
           }
          ],
          "histogram2dcontour": [
           {
            "colorbar": {
             "outlinewidth": 0,
             "ticks": ""
            },
            "colorscale": [
             [
              0,
              "#0d0887"
             ],
             [
              0.1111111111111111,
              "#46039f"
             ],
             [
              0.2222222222222222,
              "#7201a8"
             ],
             [
              0.3333333333333333,
              "#9c179e"
             ],
             [
              0.4444444444444444,
              "#bd3786"
             ],
             [
              0.5555555555555556,
              "#d8576b"
             ],
             [
              0.6666666666666666,
              "#ed7953"
             ],
             [
              0.7777777777777778,
              "#fb9f3a"
             ],
             [
              0.8888888888888888,
              "#fdca26"
             ],
             [
              1,
              "#f0f921"
             ]
            ],
            "type": "histogram2dcontour"
           }
          ],
          "mesh3d": [
           {
            "colorbar": {
             "outlinewidth": 0,
             "ticks": ""
            },
            "type": "mesh3d"
           }
          ],
          "parcoords": [
           {
            "line": {
             "colorbar": {
              "outlinewidth": 0,
              "ticks": ""
             }
            },
            "type": "parcoords"
           }
          ],
          "pie": [
           {
            "automargin": true,
            "type": "pie"
           }
          ],
          "scatter": [
           {
            "fillpattern": {
             "fillmode": "overlay",
             "size": 10,
             "solidity": 0.2
            },
            "type": "scatter"
           }
          ],
          "scatter3d": [
           {
            "line": {
             "colorbar": {
              "outlinewidth": 0,
              "ticks": ""
             }
            },
            "marker": {
             "colorbar": {
              "outlinewidth": 0,
              "ticks": ""
             }
            },
            "type": "scatter3d"
           }
          ],
          "scattercarpet": [
           {
            "marker": {
             "colorbar": {
              "outlinewidth": 0,
              "ticks": ""
             }
            },
            "type": "scattercarpet"
           }
          ],
          "scattergeo": [
           {
            "marker": {
             "colorbar": {
              "outlinewidth": 0,
              "ticks": ""
             }
            },
            "type": "scattergeo"
           }
          ],
          "scattergl": [
           {
            "marker": {
             "colorbar": {
              "outlinewidth": 0,
              "ticks": ""
             }
            },
            "type": "scattergl"
           }
          ],
          "scattermap": [
           {
            "marker": {
             "colorbar": {
              "outlinewidth": 0,
              "ticks": ""
             }
            },
            "type": "scattermap"
           }
          ],
          "scattermapbox": [
           {
            "marker": {
             "colorbar": {
              "outlinewidth": 0,
              "ticks": ""
             }
            },
            "type": "scattermapbox"
           }
          ],
          "scatterpolar": [
           {
            "marker": {
             "colorbar": {
              "outlinewidth": 0,
              "ticks": ""
             }
            },
            "type": "scatterpolar"
           }
          ],
          "scatterpolargl": [
           {
            "marker": {
             "colorbar": {
              "outlinewidth": 0,
              "ticks": ""
             }
            },
            "type": "scatterpolargl"
           }
          ],
          "scatterternary": [
           {
            "marker": {
             "colorbar": {
              "outlinewidth": 0,
              "ticks": ""
             }
            },
            "type": "scatterternary"
           }
          ],
          "surface": [
           {
            "colorbar": {
             "outlinewidth": 0,
             "ticks": ""
            },
            "colorscale": [
             [
              0,
              "#0d0887"
             ],
             [
              0.1111111111111111,
              "#46039f"
             ],
             [
              0.2222222222222222,
              "#7201a8"
             ],
             [
              0.3333333333333333,
              "#9c179e"
             ],
             [
              0.4444444444444444,
              "#bd3786"
             ],
             [
              0.5555555555555556,
              "#d8576b"
             ],
             [
              0.6666666666666666,
              "#ed7953"
             ],
             [
              0.7777777777777778,
              "#fb9f3a"
             ],
             [
              0.8888888888888888,
              "#fdca26"
             ],
             [
              1,
              "#f0f921"
             ]
            ],
            "type": "surface"
           }
          ],
          "table": [
           {
            "cells": {
             "fill": {
              "color": "#EBF0F8"
             },
             "line": {
              "color": "white"
             }
            },
            "header": {
             "fill": {
              "color": "#C8D4E3"
             },
             "line": {
              "color": "white"
             }
            },
            "type": "table"
           }
          ]
         },
         "layout": {
          "annotationdefaults": {
           "arrowcolor": "#2a3f5f",
           "arrowhead": 0,
           "arrowwidth": 1
          },
          "autotypenumbers": "strict",
          "coloraxis": {
           "colorbar": {
            "outlinewidth": 0,
            "ticks": ""
           }
          },
          "colorscale": {
           "diverging": [
            [
             0,
             "#8e0152"
            ],
            [
             0.1,
             "#c51b7d"
            ],
            [
             0.2,
             "#de77ae"
            ],
            [
             0.3,
             "#f1b6da"
            ],
            [
             0.4,
             "#fde0ef"
            ],
            [
             0.5,
             "#f7f7f7"
            ],
            [
             0.6,
             "#e6f5d0"
            ],
            [
             0.7,
             "#b8e186"
            ],
            [
             0.8,
             "#7fbc41"
            ],
            [
             0.9,
             "#4d9221"
            ],
            [
             1,
             "#276419"
            ]
           ],
           "sequential": [
            [
             0,
             "#0d0887"
            ],
            [
             0.1111111111111111,
             "#46039f"
            ],
            [
             0.2222222222222222,
             "#7201a8"
            ],
            [
             0.3333333333333333,
             "#9c179e"
            ],
            [
             0.4444444444444444,
             "#bd3786"
            ],
            [
             0.5555555555555556,
             "#d8576b"
            ],
            [
             0.6666666666666666,
             "#ed7953"
            ],
            [
             0.7777777777777778,
             "#fb9f3a"
            ],
            [
             0.8888888888888888,
             "#fdca26"
            ],
            [
             1,
             "#f0f921"
            ]
           ],
           "sequentialminus": [
            [
             0,
             "#0d0887"
            ],
            [
             0.1111111111111111,
             "#46039f"
            ],
            [
             0.2222222222222222,
             "#7201a8"
            ],
            [
             0.3333333333333333,
             "#9c179e"
            ],
            [
             0.4444444444444444,
             "#bd3786"
            ],
            [
             0.5555555555555556,
             "#d8576b"
            ],
            [
             0.6666666666666666,
             "#ed7953"
            ],
            [
             0.7777777777777778,
             "#fb9f3a"
            ],
            [
             0.8888888888888888,
             "#fdca26"
            ],
            [
             1,
             "#f0f921"
            ]
           ]
          },
          "colorway": [
           "#636efa",
           "#EF553B",
           "#00cc96",
           "#ab63fa",
           "#FFA15A",
           "#19d3f3",
           "#FF6692",
           "#B6E880",
           "#FF97FF",
           "#FECB52"
          ],
          "font": {
           "color": "#2a3f5f"
          },
          "geo": {
           "bgcolor": "white",
           "lakecolor": "white",
           "landcolor": "#E5ECF6",
           "showlakes": true,
           "showland": true,
           "subunitcolor": "white"
          },
          "hoverlabel": {
           "align": "left"
          },
          "hovermode": "closest",
          "mapbox": {
           "style": "light"
          },
          "paper_bgcolor": "white",
          "plot_bgcolor": "#E5ECF6",
          "polar": {
           "angularaxis": {
            "gridcolor": "white",
            "linecolor": "white",
            "ticks": ""
           },
           "bgcolor": "#E5ECF6",
           "radialaxis": {
            "gridcolor": "white",
            "linecolor": "white",
            "ticks": ""
           }
          },
          "scene": {
           "xaxis": {
            "backgroundcolor": "#E5ECF6",
            "gridcolor": "white",
            "gridwidth": 2,
            "linecolor": "white",
            "showbackground": true,
            "ticks": "",
            "zerolinecolor": "white"
           },
           "yaxis": {
            "backgroundcolor": "#E5ECF6",
            "gridcolor": "white",
            "gridwidth": 2,
            "linecolor": "white",
            "showbackground": true,
            "ticks": "",
            "zerolinecolor": "white"
           },
           "zaxis": {
            "backgroundcolor": "#E5ECF6",
            "gridcolor": "white",
            "gridwidth": 2,
            "linecolor": "white",
            "showbackground": true,
            "ticks": "",
            "zerolinecolor": "white"
           }
          },
          "shapedefaults": {
           "line": {
            "color": "#2a3f5f"
           }
          },
          "ternary": {
           "aaxis": {
            "gridcolor": "white",
            "linecolor": "white",
            "ticks": ""
           },
           "baxis": {
            "gridcolor": "white",
            "linecolor": "white",
            "ticks": ""
           },
           "bgcolor": "#E5ECF6",
           "caxis": {
            "gridcolor": "white",
            "linecolor": "white",
            "ticks": ""
           }
          },
          "title": {
           "x": 0.05
          },
          "xaxis": {
           "automargin": true,
           "gridcolor": "white",
           "linecolor": "white",
           "ticks": "",
           "title": {
            "standoff": 15
           },
           "zerolinecolor": "white",
           "zerolinewidth": 2
          },
          "yaxis": {
           "automargin": true,
           "gridcolor": "white",
           "linecolor": "white",
           "ticks": "",
           "title": {
            "standoff": 15
           },
           "zerolinecolor": "white",
           "zerolinewidth": 2
          }
         }
        },
        "title": {
         "text": "ENV=env_buck_9x2<br>MODEL=linear_lstm_linear"
        },
        "xaxis": {
         "title": {
          "text": "Sample index"
         }
        },
        "yaxis": {
         "title": {
          "text": "Output"
         }
        }
       }
      }
     },
     "metadata": {},
     "output_type": "display_data"
    },
    {
     "name": "stdout",
     "output_type": "stream",
     "text": [
      "  NNOUT1: MAE=0.000000, MSE=0.000000\n",
      "  NNOUT2: MAE=0.000000, MSE=0.000000\n"
     ]
    }
   ],
   "source": [
    "ENV_NAME = \"env_buck_9x2\"\n",
    "MODEL_NAME = \"linear_lstm_linear\"\n",
    "PY_FILENAME = ENV_NAME + '_' + MODEL_NAME     # output python file name\n",
    "SP_FILENAME = ENV_NAME + '_' + MODEL_NAME     # output ltspice subcircuit name\n",
    "actor = step1()\n",
    "actions, actions_py = step2(actor)\n",
    "step3(actions, actions_py)"
   ]
  },
  {
   "cell_type": "code",
   "execution_count": 14,
   "id": "d1777840",
   "metadata": {},
   "outputs": [
    {
     "data": {
      "application/vnd.plotly.v1+json": {
       "config": {
        "plotlyServerURL": "https://plot.ly"
       },
       "data": [
        {
         "mode": "markers",
         "name": "NNOUT1(LTspice)",
         "type": "scatter",
         "x": {
          "bdata": "AAABAAIAAwAEAAUABgAHAAgACQAKAAsADAANAA4ADwAQABEAEgATABQAFQAWABcAGAAZABoAGwAcAB0AHgAfACAAIQAiACMAJAAlACYAJwAoACkAKgArACwALQAuAC8AMAAxADIAMwA0ADUANgA3ADgAOQA6ADsAPAA9AD4APwBAAEEAQgBDAEQARQBGAEcASABJAEoASwBMAE0ATgBPAFAAUQBSAFMAVABVAFYAVwBYAFkAWgBbAFwAXQBeAF8AYABhAGIAYwBkAGUAZgBnAGgAaQBqAGsAbABtAG4AbwBwAHEAcgBzAHQAdQB2AHcAeAB5AHoAewB8AH0AfgB/AIAAgQCCAIMAhACFAIYAhwCIAIkAigCLAIwAjQCOAI8AkACRAJIAkwCUAJUAlgCXAJgAmQCaAJsAnACdAJ4AnwCgAKEAogCjAKQApQCmAKcAqACpAKoAqwCsAK0ArgCvALAAsQCyALMAtAC1ALYAtwC4ALkAugC7ALwAvQC+AL8AwADBAMIAwwDEAMUAxgDHAA==",
          "dtype": "i2"
         },
         "y": {
          "bdata": "DI6nPWqbrD2boa49Da6vPURssD1W5a89uoGtPdoXpz26Gp496XWUPSNWij00lX89K9xoPbvEUz21+kc9gl87PZbwLz3ZFSQ9rvcYPXGiEj11Cgw9mZkCPbnr8jx+Gts8uIzAPCbApjzi3408jyhsPNMFPzyU3BU8+7fsO9LhsjvSB307Br8fOzOPojqnNhs6/I69OfpqFjnMoj25D4vGudIs57kA2MG5bW05uV8XMTgc+hs5dTLLOaj6ijoeZ/w61/lHO5b8jjsghb07vS3vOxfFETzIFS08kVBJPICxbDxmaYg8/6OaPO3lrDxEDb88BPnQPBOB3Tzkyug8w0LwPDw89zzR3f08Rg4CPTL3BD1nSAk9YzUOPcCWEj0mZxY9bqIZPZNFHD2sTh49nLgfPbGBID1ouyA9ImggPU6DHz1wBx49EwMcPcp8GT3dexY9HwgTPRwqDz366go9WMcGPRNcBD07zQE9Wz7+POqv+DzB+fI8iSbtPOlA5zxYueA8gKjYPN6t0Dwm18g8lPu+PEy+szx79Kg8MK+ePCv+lDzJ74s83pCDPG3ZdzyCUmo8T8hgPNOTWDyhvFE8YUdMPEQ2SDz/iEU8jDxEPHJLRDz8rUU8KlpIPN5DTDwpXVE8jZZXPFjeXjx4IWc8WUtwPFFGejzum4I8b36JPLe3kDxyOJg8IvGfPDTSpzwdzK88u+m1PObdujxlYL88kZzCPCLFxTwF1Mg8esPLPBqOzjziLtE8LqHTPNPg1TwU6tc8rrnZPNpM2zxPodw8L7XdPEOH3jy8Ft88VWPfPDht3zwQNd88/bvePJoD3jzkDd08X93bPMd02jxN19g8YQjXPL4L1Txa5dI8aJnQPDoszjxaoss8WADJPOtKxjzAhsM8kbjAPArlvTzKELs8V0C4PBd4tTxHvLI89RCwPPl5rTz4+qo8RZeoPK9FpjyklqM8IBuhPBfWnjwPypw8DvmaPDY1mTxp4Jc8NtqWPLsiljyMuZU8q52VPJDNlTxBR5Y8MAiXPCazlzwoRJg8ZveYPIRWmTzJq5k8ehGaPEucmjw=",
          "dtype": "f4"
         }
        },
        {
         "mode": "markers",
         "name": "NNOUT1(PyTorch)",
         "type": "scatter",
         "x": {
          "bdata": "AAABAAIAAwAEAAUABgAHAAgACQAKAAsADAANAA4ADwAQABEAEgATABQAFQAWABcAGAAZABoAGwAcAB0AHgAfACAAIQAiACMAJAAlACYAJwAoACkAKgArACwALQAuAC8AMAAxADIAMwA0ADUANgA3ADgAOQA6ADsAPAA9AD4APwBAAEEAQgBDAEQARQBGAEcASABJAEoASwBMAE0ATgBPAFAAUQBSAFMAVABVAFYAVwBYAFkAWgBbAFwAXQBeAF8AYABhAGIAYwBkAGUAZgBnAGgAaQBqAGsAbABtAG4AbwBwAHEAcgBzAHQAdQB2AHcAeAB5AHoAewB8AH0AfgB/AIAAgQCCAIMAhACFAIYAhwCIAIkAigCLAIwAjQCOAI8AkACRAJIAkwCUAJUAlgCXAJgAmQCaAJsAnACdAJ4AnwCgAKEAogCjAKQApQCmAKcAqACpAKoAqwCsAK0ArgCvALAAsQCyALMAtAC1ALYAtwC4ALkAugC7ALwAvQC+AL8AwADBAMIAwwDEAMUAxgDHAA==",
          "dtype": "i2"
         },
         "y": {
          "bdata": "942nPVGbrD2Aoa49762vPSBssD0y5a89kIGtPb4Xpz2aGp49yHWUPfxVij3jlH892ttoPWbEUz1i+kc9Nl87PUHwLz2EFSQ9UvcYPRyiEj0UCgw9PpkCPfPq8jzLGds8A4zAPHq/pjw+3408QCdsPIkEPzyO2xU88rXsO/zfsjsOBH0767ofOzuJojr/Lxs6/4S9OQA0FjkA2D25/6nGuf9G57n/8sG5AKY5uQDIMDgA5hs5/yXLOf30ijpsYfw69/VHO4X6jjs2g707uivvOyzEETzSFC08iE9JPEmwbDzGaIg8ZKOaPE3lrDydDL88WPjQPF2A3Twsyug8H0LwPJo79zwr3f089A0CPeH2BD0VSAk9FTUOPW2WEj3UZhY9IKIZPUJFHD1dTh49S7gfPWGBID0WuyA90WcgPf2CHz0fBx49xQIcPXd8GT2PexY90AcTPc0pDz2t6go9BscGPcFbBD3rzAE9tz3+PEOv+Dwo+fI86CXtPERA5zyguOA8zKfYPCmt0Dxy1sg89Pq+PKm9szza86g8m66ePJP9lDww74s8O5CDPEnYdzyJUWo8bMdgPOWSWDy5u1E8ekZMPEM1SDwViEU8oTtEPJBKRDwTrUU8MVlIPPJCTDw9XFE8oZVXPGvdXjx7IGc8Z0pwPFxFejxXm4I82n2JPCW3kDzUN5g8kPCfPJXRpzyDy688GOm1PDvdujzmX788AJzCPI3ExTx608g86cLLPIqNzjxTLtE8maDTPDbg1Tx+6dc8E7nZPD1M2zyzoNw8l7TdPK+G3jwoFt88vmLfPKRs3zx7NN88arvePAAD3jxODd08x9zbPDV02jy41tg8zgfXPC8L1TzB5NI81JjQPKorzjzKocs8zP/IPFFKxjw2hsM8BbjAPILkvTw9ELs8zz+4PI53tTy9u7I8ZxCwPGh5rTxx+qo8vJaoPANFpjz3laM8cxqhPHPVnjxxyZw8ZPiaPL00mTzv35c8vtmWPEoiljwTuZU8Mp2VPBLNlTzHRpY8vgeXPKOylzybQ5g82/aYPCZWmTxbq5k8HRGaPM2bmjw=",
          "dtype": "f4"
         }
        }
       ],
       "layout": {
        "template": {
         "data": {
          "bar": [
           {
            "error_x": {
             "color": "#2a3f5f"
            },
            "error_y": {
             "color": "#2a3f5f"
            },
            "marker": {
             "line": {
              "color": "#E5ECF6",
              "width": 0.5
             },
             "pattern": {
              "fillmode": "overlay",
              "size": 10,
              "solidity": 0.2
             }
            },
            "type": "bar"
           }
          ],
          "barpolar": [
           {
            "marker": {
             "line": {
              "color": "#E5ECF6",
              "width": 0.5
             },
             "pattern": {
              "fillmode": "overlay",
              "size": 10,
              "solidity": 0.2
             }
            },
            "type": "barpolar"
           }
          ],
          "carpet": [
           {
            "aaxis": {
             "endlinecolor": "#2a3f5f",
             "gridcolor": "white",
             "linecolor": "white",
             "minorgridcolor": "white",
             "startlinecolor": "#2a3f5f"
            },
            "baxis": {
             "endlinecolor": "#2a3f5f",
             "gridcolor": "white",
             "linecolor": "white",
             "minorgridcolor": "white",
             "startlinecolor": "#2a3f5f"
            },
            "type": "carpet"
           }
          ],
          "choropleth": [
           {
            "colorbar": {
             "outlinewidth": 0,
             "ticks": ""
            },
            "type": "choropleth"
           }
          ],
          "contour": [
           {
            "colorbar": {
             "outlinewidth": 0,
             "ticks": ""
            },
            "colorscale": [
             [
              0,
              "#0d0887"
             ],
             [
              0.1111111111111111,
              "#46039f"
             ],
             [
              0.2222222222222222,
              "#7201a8"
             ],
             [
              0.3333333333333333,
              "#9c179e"
             ],
             [
              0.4444444444444444,
              "#bd3786"
             ],
             [
              0.5555555555555556,
              "#d8576b"
             ],
             [
              0.6666666666666666,
              "#ed7953"
             ],
             [
              0.7777777777777778,
              "#fb9f3a"
             ],
             [
              0.8888888888888888,
              "#fdca26"
             ],
             [
              1,
              "#f0f921"
             ]
            ],
            "type": "contour"
           }
          ],
          "contourcarpet": [
           {
            "colorbar": {
             "outlinewidth": 0,
             "ticks": ""
            },
            "type": "contourcarpet"
           }
          ],
          "heatmap": [
           {
            "colorbar": {
             "outlinewidth": 0,
             "ticks": ""
            },
            "colorscale": [
             [
              0,
              "#0d0887"
             ],
             [
              0.1111111111111111,
              "#46039f"
             ],
             [
              0.2222222222222222,
              "#7201a8"
             ],
             [
              0.3333333333333333,
              "#9c179e"
             ],
             [
              0.4444444444444444,
              "#bd3786"
             ],
             [
              0.5555555555555556,
              "#d8576b"
             ],
             [
              0.6666666666666666,
              "#ed7953"
             ],
             [
              0.7777777777777778,
              "#fb9f3a"
             ],
             [
              0.8888888888888888,
              "#fdca26"
             ],
             [
              1,
              "#f0f921"
             ]
            ],
            "type": "heatmap"
           }
          ],
          "histogram": [
           {
            "marker": {
             "pattern": {
              "fillmode": "overlay",
              "size": 10,
              "solidity": 0.2
             }
            },
            "type": "histogram"
           }
          ],
          "histogram2d": [
           {
            "colorbar": {
             "outlinewidth": 0,
             "ticks": ""
            },
            "colorscale": [
             [
              0,
              "#0d0887"
             ],
             [
              0.1111111111111111,
              "#46039f"
             ],
             [
              0.2222222222222222,
              "#7201a8"
             ],
             [
              0.3333333333333333,
              "#9c179e"
             ],
             [
              0.4444444444444444,
              "#bd3786"
             ],
             [
              0.5555555555555556,
              "#d8576b"
             ],
             [
              0.6666666666666666,
              "#ed7953"
             ],
             [
              0.7777777777777778,
              "#fb9f3a"
             ],
             [
              0.8888888888888888,
              "#fdca26"
             ],
             [
              1,
              "#f0f921"
             ]
            ],
            "type": "histogram2d"
           }
          ],
          "histogram2dcontour": [
           {
            "colorbar": {
             "outlinewidth": 0,
             "ticks": ""
            },
            "colorscale": [
             [
              0,
              "#0d0887"
             ],
             [
              0.1111111111111111,
              "#46039f"
             ],
             [
              0.2222222222222222,
              "#7201a8"
             ],
             [
              0.3333333333333333,
              "#9c179e"
             ],
             [
              0.4444444444444444,
              "#bd3786"
             ],
             [
              0.5555555555555556,
              "#d8576b"
             ],
             [
              0.6666666666666666,
              "#ed7953"
             ],
             [
              0.7777777777777778,
              "#fb9f3a"
             ],
             [
              0.8888888888888888,
              "#fdca26"
             ],
             [
              1,
              "#f0f921"
             ]
            ],
            "type": "histogram2dcontour"
           }
          ],
          "mesh3d": [
           {
            "colorbar": {
             "outlinewidth": 0,
             "ticks": ""
            },
            "type": "mesh3d"
           }
          ],
          "parcoords": [
           {
            "line": {
             "colorbar": {
              "outlinewidth": 0,
              "ticks": ""
             }
            },
            "type": "parcoords"
           }
          ],
          "pie": [
           {
            "automargin": true,
            "type": "pie"
           }
          ],
          "scatter": [
           {
            "fillpattern": {
             "fillmode": "overlay",
             "size": 10,
             "solidity": 0.2
            },
            "type": "scatter"
           }
          ],
          "scatter3d": [
           {
            "line": {
             "colorbar": {
              "outlinewidth": 0,
              "ticks": ""
             }
            },
            "marker": {
             "colorbar": {
              "outlinewidth": 0,
              "ticks": ""
             }
            },
            "type": "scatter3d"
           }
          ],
          "scattercarpet": [
           {
            "marker": {
             "colorbar": {
              "outlinewidth": 0,
              "ticks": ""
             }
            },
            "type": "scattercarpet"
           }
          ],
          "scattergeo": [
           {
            "marker": {
             "colorbar": {
              "outlinewidth": 0,
              "ticks": ""
             }
            },
            "type": "scattergeo"
           }
          ],
          "scattergl": [
           {
            "marker": {
             "colorbar": {
              "outlinewidth": 0,
              "ticks": ""
             }
            },
            "type": "scattergl"
           }
          ],
          "scattermap": [
           {
            "marker": {
             "colorbar": {
              "outlinewidth": 0,
              "ticks": ""
             }
            },
            "type": "scattermap"
           }
          ],
          "scattermapbox": [
           {
            "marker": {
             "colorbar": {
              "outlinewidth": 0,
              "ticks": ""
             }
            },
            "type": "scattermapbox"
           }
          ],
          "scatterpolar": [
           {
            "marker": {
             "colorbar": {
              "outlinewidth": 0,
              "ticks": ""
             }
            },
            "type": "scatterpolar"
           }
          ],
          "scatterpolargl": [
           {
            "marker": {
             "colorbar": {
              "outlinewidth": 0,
              "ticks": ""
             }
            },
            "type": "scatterpolargl"
           }
          ],
          "scatterternary": [
           {
            "marker": {
             "colorbar": {
              "outlinewidth": 0,
              "ticks": ""
             }
            },
            "type": "scatterternary"
           }
          ],
          "surface": [
           {
            "colorbar": {
             "outlinewidth": 0,
             "ticks": ""
            },
            "colorscale": [
             [
              0,
              "#0d0887"
             ],
             [
              0.1111111111111111,
              "#46039f"
             ],
             [
              0.2222222222222222,
              "#7201a8"
             ],
             [
              0.3333333333333333,
              "#9c179e"
             ],
             [
              0.4444444444444444,
              "#bd3786"
             ],
             [
              0.5555555555555556,
              "#d8576b"
             ],
             [
              0.6666666666666666,
              "#ed7953"
             ],
             [
              0.7777777777777778,
              "#fb9f3a"
             ],
             [
              0.8888888888888888,
              "#fdca26"
             ],
             [
              1,
              "#f0f921"
             ]
            ],
            "type": "surface"
           }
          ],
          "table": [
           {
            "cells": {
             "fill": {
              "color": "#EBF0F8"
             },
             "line": {
              "color": "white"
             }
            },
            "header": {
             "fill": {
              "color": "#C8D4E3"
             },
             "line": {
              "color": "white"
             }
            },
            "type": "table"
           }
          ]
         },
         "layout": {
          "annotationdefaults": {
           "arrowcolor": "#2a3f5f",
           "arrowhead": 0,
           "arrowwidth": 1
          },
          "autotypenumbers": "strict",
          "coloraxis": {
           "colorbar": {
            "outlinewidth": 0,
            "ticks": ""
           }
          },
          "colorscale": {
           "diverging": [
            [
             0,
             "#8e0152"
            ],
            [
             0.1,
             "#c51b7d"
            ],
            [
             0.2,
             "#de77ae"
            ],
            [
             0.3,
             "#f1b6da"
            ],
            [
             0.4,
             "#fde0ef"
            ],
            [
             0.5,
             "#f7f7f7"
            ],
            [
             0.6,
             "#e6f5d0"
            ],
            [
             0.7,
             "#b8e186"
            ],
            [
             0.8,
             "#7fbc41"
            ],
            [
             0.9,
             "#4d9221"
            ],
            [
             1,
             "#276419"
            ]
           ],
           "sequential": [
            [
             0,
             "#0d0887"
            ],
            [
             0.1111111111111111,
             "#46039f"
            ],
            [
             0.2222222222222222,
             "#7201a8"
            ],
            [
             0.3333333333333333,
             "#9c179e"
            ],
            [
             0.4444444444444444,
             "#bd3786"
            ],
            [
             0.5555555555555556,
             "#d8576b"
            ],
            [
             0.6666666666666666,
             "#ed7953"
            ],
            [
             0.7777777777777778,
             "#fb9f3a"
            ],
            [
             0.8888888888888888,
             "#fdca26"
            ],
            [
             1,
             "#f0f921"
            ]
           ],
           "sequentialminus": [
            [
             0,
             "#0d0887"
            ],
            [
             0.1111111111111111,
             "#46039f"
            ],
            [
             0.2222222222222222,
             "#7201a8"
            ],
            [
             0.3333333333333333,
             "#9c179e"
            ],
            [
             0.4444444444444444,
             "#bd3786"
            ],
            [
             0.5555555555555556,
             "#d8576b"
            ],
            [
             0.6666666666666666,
             "#ed7953"
            ],
            [
             0.7777777777777778,
             "#fb9f3a"
            ],
            [
             0.8888888888888888,
             "#fdca26"
            ],
            [
             1,
             "#f0f921"
            ]
           ]
          },
          "colorway": [
           "#636efa",
           "#EF553B",
           "#00cc96",
           "#ab63fa",
           "#FFA15A",
           "#19d3f3",
           "#FF6692",
           "#B6E880",
           "#FF97FF",
           "#FECB52"
          ],
          "font": {
           "color": "#2a3f5f"
          },
          "geo": {
           "bgcolor": "white",
           "lakecolor": "white",
           "landcolor": "#E5ECF6",
           "showlakes": true,
           "showland": true,
           "subunitcolor": "white"
          },
          "hoverlabel": {
           "align": "left"
          },
          "hovermode": "closest",
          "mapbox": {
           "style": "light"
          },
          "paper_bgcolor": "white",
          "plot_bgcolor": "#E5ECF6",
          "polar": {
           "angularaxis": {
            "gridcolor": "white",
            "linecolor": "white",
            "ticks": ""
           },
           "bgcolor": "#E5ECF6",
           "radialaxis": {
            "gridcolor": "white",
            "linecolor": "white",
            "ticks": ""
           }
          },
          "scene": {
           "xaxis": {
            "backgroundcolor": "#E5ECF6",
            "gridcolor": "white",
            "gridwidth": 2,
            "linecolor": "white",
            "showbackground": true,
            "ticks": "",
            "zerolinecolor": "white"
           },
           "yaxis": {
            "backgroundcolor": "#E5ECF6",
            "gridcolor": "white",
            "gridwidth": 2,
            "linecolor": "white",
            "showbackground": true,
            "ticks": "",
            "zerolinecolor": "white"
           },
           "zaxis": {
            "backgroundcolor": "#E5ECF6",
            "gridcolor": "white",
            "gridwidth": 2,
            "linecolor": "white",
            "showbackground": true,
            "ticks": "",
            "zerolinecolor": "white"
           }
          },
          "shapedefaults": {
           "line": {
            "color": "#2a3f5f"
           }
          },
          "ternary": {
           "aaxis": {
            "gridcolor": "white",
            "linecolor": "white",
            "ticks": ""
           },
           "baxis": {
            "gridcolor": "white",
            "linecolor": "white",
            "ticks": ""
           },
           "bgcolor": "#E5ECF6",
           "caxis": {
            "gridcolor": "white",
            "linecolor": "white",
            "ticks": ""
           }
          },
          "title": {
           "x": 0.05
          },
          "xaxis": {
           "automargin": true,
           "gridcolor": "white",
           "linecolor": "white",
           "ticks": "",
           "title": {
            "standoff": 15
           },
           "zerolinecolor": "white",
           "zerolinewidth": 2
          },
          "yaxis": {
           "automargin": true,
           "gridcolor": "white",
           "linecolor": "white",
           "ticks": "",
           "title": {
            "standoff": 15
           },
           "zerolinecolor": "white",
           "zerolinewidth": 2
          }
         }
        },
        "title": {
         "text": "ENV=env_buck_9x1<br>MODEL=mlp"
        },
        "xaxis": {
         "title": {
          "text": "Sample index"
         }
        },
        "yaxis": {
         "title": {
          "text": "Output"
         }
        }
       }
      }
     },
     "metadata": {},
     "output_type": "display_data"
    },
    {
     "name": "stdout",
     "output_type": "stream",
     "text": [
      "  NNOUT1: MAE=0.000000, MSE=0.000000\n"
     ]
    }
   ],
   "source": [
    "ENV_NAME = \"env_buck_9x1\"\n",
    "MODEL_NAME = \"mlp\"\n",
    "PY_FILENAME = ENV_NAME + '_' + MODEL_NAME     # output python file name\n",
    "SP_FILENAME = ENV_NAME + '_' + MODEL_NAME     # output ltspice subcircuit name\n",
    "actor = step1()\n",
    "actions, actions_py = step2(actor)\n",
    "step3(actions, actions_py)"
   ]
  },
  {
   "cell_type": "code",
   "execution_count": 15,
   "id": "f9e4859f",
   "metadata": {},
   "outputs": [
    {
     "data": {
      "application/vnd.plotly.v1+json": {
       "config": {
        "plotlyServerURL": "https://plot.ly"
       },
       "data": [
        {
         "mode": "markers",
         "name": "NNOUT1(LTspice)",
         "type": "scatter",
         "x": {
          "bdata": "AAABAAIAAwAEAAUABgAHAAgACQAKAAsADAANAA4ADwAQABEAEgATABQAFQAWABcAGAAZABoAGwAcAB0AHgAfACAAIQAiACMAJAAlACYAJwAoACkAKgArACwALQAuAC8AMAAxADIAMwA0ADUANgA3ADgAOQA6ADsAPAA9AD4APwBAAEEAQgBDAEQARQBGAEcASABJAEoASwBMAE0ATgBPAFAAUQBSAFMAVABVAFYAVwBYAFkAWgBbAFwAXQBeAF8AYABhAGIAYwBkAGUAZgBnAGgAaQBqAGsAbABtAG4AbwBwAHEAcgBzAHQAdQB2AHcAeAB5AHoAewB8AH0AfgB/AIAAgQCCAIMAhACFAIYAhwCIAIkAigCLAIwAjQCOAI8AkACRAJIAkwCUAJUAlgCXAJgAmQCaAJsAnACdAJ4AnwCgAKEAogCjAKQApQCmAKcAqACpAKoAqwCsAK0ArgCvALAAsQCyALMAtAC1ALYAtwC4ALkAugC7ALwAvQC+AL8AwADBAMIAwwDEAMUAxgDHAA==",
          "dtype": "i2"
         },
         "y": {
          "bdata": "hK2CPd+d2j0z/P49YmX/PWj6DD453BA+ODsYPhT4HD77WSM+I1MnPt0TKj64QC8+KyU2PiAmPT64ekQ+fulLPrOOUz7cRls+ZPhiPuiLaj4t+XE+YzF5PtkUgD7UaoM+55WGPpSRiT57Wow+qO2OPuJIkT50apM+MVGVPmL8lj63a5g+Pp+ZPk2Xmj58VJs+mtebPqshnD7uM5w+rg+cPmW2mz65KZs+WmuaPg59mT7JYJg+qxiXPvqmlT4pDpQ+2lCSPtpxkD4odI4+9lqMPqkpij7Y44c+Ro2FPuYpgz7PvYA+c5p8Puy4dz7I33I+0hduPsVpaT443mQ+hX1gPrFPXD5QXFg+cqpUPo9AUT5uJE4+IFtLPuvoSD5F0UY+wxZFPii7Qz5Tv0I+NiNCPvXlQT7jBUI+f4BCPoNSQz7bd0Q+1utFPlOpRz6gqkk+melLPsdfTj5fBlE+Y9ZTPrHIVj4c1lk+dfdcPqYlYD69WWM+/oxmPvG4aT5s12w+n+JvPhzVcj7gqXU+U1x4PlDoej4kSn0+i35/Pl3BgD4qqoE+sniCPjIsgz4XxIM+AUCEPsCfhD5S44Q+3gqFPqwWhT44B4U+Gt2EPhCZhD75O4Q+yMaDPo06gz5/mII+7uGBPkAYgT76PIA+YqN+PiewfD7Do3o+14F4PiFOdj51DHQ+uMBxPthubz7KGm0+fMhqPtV7aD6oOGY+rwJkPoTdYT6WzF8+J9NdPkH0Wz6yMlo+BZFYPoARVz4atlU+foBUPgJyUz6li1I+Ec5RPpg5UT5AzlA+tItQPkdxUD4MflA+vbBQPsAHUT5IgVE+TRtSPozTUj6bp1M+4pRUPqyYVT4osFY+bNhXPogOWT6CT1o+YphbPjfmXD4XNl4+MIVfPsDQYD4nFmI+4FJjPoqEZD7tqGU++L1mPsvBZz6psmg+CY9pPpdVaj4pBWs+ypxrPrIbbD5JgWw+K81sPh3/bD4XF20+ORVtPsn5bD5AxWw+P3hsPoITbD70l2s+mgZrPotgaj4Hp2k+attoPif/Zz7HE2c+5xpmPjUWZT4=",
          "dtype": "f4"
         }
        },
        {
         "mode": "markers",
         "name": "NNOUT1(PyTorch)",
         "type": "scatter",
         "x": {
          "bdata": "AAABAAIAAwAEAAUABgAHAAgACQAKAAsADAANAA4ADwAQABEAEgATABQAFQAWABcAGAAZABoAGwAcAB0AHgAfACAAIQAiACMAJAAlACYAJwAoACkAKgArACwALQAuAC8AMAAxADIAMwA0ADUANgA3ADgAOQA6ADsAPAA9AD4APwBAAEEAQgBDAEQARQBGAEcASABJAEoASwBMAE0ATgBPAFAAUQBSAFMAVABVAFYAVwBYAFkAWgBbAFwAXQBeAF8AYABhAGIAYwBkAGUAZgBnAGgAaQBqAGsAbABtAG4AbwBwAHEAcgBzAHQAdQB2AHcAeAB5AHoAewB8AH0AfgB/AIAAgQCCAIMAhACFAIYAhwCIAIkAigCLAIwAjQCOAI8AkACRAJIAkwCUAJUAlgCXAJgAmQCaAJsAnACdAJ4AnwCgAKEAogCjAKQApQCmAKcAqACpAKoAqwCsAK0ArgCvALAAsQCyALMAtAC1ALYAtwC4ALkAugC7ALwAvQC+AL8AwADBAMIAwwDEAMUAxgDHAA==",
          "dtype": "i2"
         },
         "y": {
          "bdata": "Y62CPeWd2j1J/P49a2X/PW/6DD493BA+PDsYPhv4HD4DWiM+MFMnPuoTKj7EQC8+OCU2Pi4mPT7FekQ+jOlLPsKOUz7rRls+cPhiPvaLaj45+XE+cDF5PuAUgD7ZaoM+7JWGPpmRiT6AWow+ru2OPuhIkT55apM+N1GVPmb8lj68a5g+RJ+ZPlOXmj6AVJs+ndebPq8hnD7zM5w+sw+cPmq2mz6+KZs+YWuaPhN9mT7OYJg+sBiXPgCnlT4vDpQ+4VCSPt9xkD4udI4+/FqMPq8pij7e44c+TY2FPu0pgz7UvYA+f5p8Pvq4dz7U33I+4BduPtFpaT5F3mQ+k31gPr5PXD5dXFg+gapUPpxAUT58JE4+LltLPvnoSD5U0UY+0BZFPjW7Qz5hv0I+RSNCPgPmQT7zBUI+jYBCPpJSQz7od0Q+5etFPmCpRz6tqkk+p+lLPtVfTj5tBlE+b9ZTPr/IVj4r1lk+g/dcPrMlYD7LWWM+DI1mPv+4aT5512w+reJvPirVcj7tqXU+X1x4Pl3oej4wSn0+mH5/PmPBgD4vqoE+uHiCPjgsgz4cxIM+BkCEPsafhD5Y44Q+5QqFPrIWhT4/B4U+H92EPhaZhD7+O4Q+zsaDPpQ6gz6GmII+8+GBPkcYgT7/PIA+cKN+PjOwfD7Po3o+44F4Pi5Odj6ADHQ+w8BxPuRubz7YGm0+ishqPuN7aD6zOGY+uwJkPpPdYT6lzF8+NNNdPlD0Wz6/Mlo+EpFYPo4RVz4ntlU+jYBUPhByUz60i1I+IM5RPqY5UT5NzlA+wYtQPlVxUD4ZflA+y7BQPs8HUT5VgVE+XBtSPpjTUj6rp1M+75RUPrmYVT42sFY+d9hXPpUOWT6QT1o+cZhbPkPmXD4lNl4+P4VfPs7QYD40FmI+7lJjPpmEZD77qGU+Bb5mPtnBZz61smg+Fo9pPqRVaj41BWs+1pxrPsAbbD5WgWw+Ns1sPin/bD4kF20+RxVtPtb5bD5NxWw+TXhsPo8TbD4AmGs+qQZrPpdgaj4Up2k+d9toPjT/Zz7VE2c+9BpmPkEWZT4=",
          "dtype": "f4"
         }
        }
       ],
       "layout": {
        "template": {
         "data": {
          "bar": [
           {
            "error_x": {
             "color": "#2a3f5f"
            },
            "error_y": {
             "color": "#2a3f5f"
            },
            "marker": {
             "line": {
              "color": "#E5ECF6",
              "width": 0.5
             },
             "pattern": {
              "fillmode": "overlay",
              "size": 10,
              "solidity": 0.2
             }
            },
            "type": "bar"
           }
          ],
          "barpolar": [
           {
            "marker": {
             "line": {
              "color": "#E5ECF6",
              "width": 0.5
             },
             "pattern": {
              "fillmode": "overlay",
              "size": 10,
              "solidity": 0.2
             }
            },
            "type": "barpolar"
           }
          ],
          "carpet": [
           {
            "aaxis": {
             "endlinecolor": "#2a3f5f",
             "gridcolor": "white",
             "linecolor": "white",
             "minorgridcolor": "white",
             "startlinecolor": "#2a3f5f"
            },
            "baxis": {
             "endlinecolor": "#2a3f5f",
             "gridcolor": "white",
             "linecolor": "white",
             "minorgridcolor": "white",
             "startlinecolor": "#2a3f5f"
            },
            "type": "carpet"
           }
          ],
          "choropleth": [
           {
            "colorbar": {
             "outlinewidth": 0,
             "ticks": ""
            },
            "type": "choropleth"
           }
          ],
          "contour": [
           {
            "colorbar": {
             "outlinewidth": 0,
             "ticks": ""
            },
            "colorscale": [
             [
              0,
              "#0d0887"
             ],
             [
              0.1111111111111111,
              "#46039f"
             ],
             [
              0.2222222222222222,
              "#7201a8"
             ],
             [
              0.3333333333333333,
              "#9c179e"
             ],
             [
              0.4444444444444444,
              "#bd3786"
             ],
             [
              0.5555555555555556,
              "#d8576b"
             ],
             [
              0.6666666666666666,
              "#ed7953"
             ],
             [
              0.7777777777777778,
              "#fb9f3a"
             ],
             [
              0.8888888888888888,
              "#fdca26"
             ],
             [
              1,
              "#f0f921"
             ]
            ],
            "type": "contour"
           }
          ],
          "contourcarpet": [
           {
            "colorbar": {
             "outlinewidth": 0,
             "ticks": ""
            },
            "type": "contourcarpet"
           }
          ],
          "heatmap": [
           {
            "colorbar": {
             "outlinewidth": 0,
             "ticks": ""
            },
            "colorscale": [
             [
              0,
              "#0d0887"
             ],
             [
              0.1111111111111111,
              "#46039f"
             ],
             [
              0.2222222222222222,
              "#7201a8"
             ],
             [
              0.3333333333333333,
              "#9c179e"
             ],
             [
              0.4444444444444444,
              "#bd3786"
             ],
             [
              0.5555555555555556,
              "#d8576b"
             ],
             [
              0.6666666666666666,
              "#ed7953"
             ],
             [
              0.7777777777777778,
              "#fb9f3a"
             ],
             [
              0.8888888888888888,
              "#fdca26"
             ],
             [
              1,
              "#f0f921"
             ]
            ],
            "type": "heatmap"
           }
          ],
          "histogram": [
           {
            "marker": {
             "pattern": {
              "fillmode": "overlay",
              "size": 10,
              "solidity": 0.2
             }
            },
            "type": "histogram"
           }
          ],
          "histogram2d": [
           {
            "colorbar": {
             "outlinewidth": 0,
             "ticks": ""
            },
            "colorscale": [
             [
              0,
              "#0d0887"
             ],
             [
              0.1111111111111111,
              "#46039f"
             ],
             [
              0.2222222222222222,
              "#7201a8"
             ],
             [
              0.3333333333333333,
              "#9c179e"
             ],
             [
              0.4444444444444444,
              "#bd3786"
             ],
             [
              0.5555555555555556,
              "#d8576b"
             ],
             [
              0.6666666666666666,
              "#ed7953"
             ],
             [
              0.7777777777777778,
              "#fb9f3a"
             ],
             [
              0.8888888888888888,
              "#fdca26"
             ],
             [
              1,
              "#f0f921"
             ]
            ],
            "type": "histogram2d"
           }
          ],
          "histogram2dcontour": [
           {
            "colorbar": {
             "outlinewidth": 0,
             "ticks": ""
            },
            "colorscale": [
             [
              0,
              "#0d0887"
             ],
             [
              0.1111111111111111,
              "#46039f"
             ],
             [
              0.2222222222222222,
              "#7201a8"
             ],
             [
              0.3333333333333333,
              "#9c179e"
             ],
             [
              0.4444444444444444,
              "#bd3786"
             ],
             [
              0.5555555555555556,
              "#d8576b"
             ],
             [
              0.6666666666666666,
              "#ed7953"
             ],
             [
              0.7777777777777778,
              "#fb9f3a"
             ],
             [
              0.8888888888888888,
              "#fdca26"
             ],
             [
              1,
              "#f0f921"
             ]
            ],
            "type": "histogram2dcontour"
           }
          ],
          "mesh3d": [
           {
            "colorbar": {
             "outlinewidth": 0,
             "ticks": ""
            },
            "type": "mesh3d"
           }
          ],
          "parcoords": [
           {
            "line": {
             "colorbar": {
              "outlinewidth": 0,
              "ticks": ""
             }
            },
            "type": "parcoords"
           }
          ],
          "pie": [
           {
            "automargin": true,
            "type": "pie"
           }
          ],
          "scatter": [
           {
            "fillpattern": {
             "fillmode": "overlay",
             "size": 10,
             "solidity": 0.2
            },
            "type": "scatter"
           }
          ],
          "scatter3d": [
           {
            "line": {
             "colorbar": {
              "outlinewidth": 0,
              "ticks": ""
             }
            },
            "marker": {
             "colorbar": {
              "outlinewidth": 0,
              "ticks": ""
             }
            },
            "type": "scatter3d"
           }
          ],
          "scattercarpet": [
           {
            "marker": {
             "colorbar": {
              "outlinewidth": 0,
              "ticks": ""
             }
            },
            "type": "scattercarpet"
           }
          ],
          "scattergeo": [
           {
            "marker": {
             "colorbar": {
              "outlinewidth": 0,
              "ticks": ""
             }
            },
            "type": "scattergeo"
           }
          ],
          "scattergl": [
           {
            "marker": {
             "colorbar": {
              "outlinewidth": 0,
              "ticks": ""
             }
            },
            "type": "scattergl"
           }
          ],
          "scattermap": [
           {
            "marker": {
             "colorbar": {
              "outlinewidth": 0,
              "ticks": ""
             }
            },
            "type": "scattermap"
           }
          ],
          "scattermapbox": [
           {
            "marker": {
             "colorbar": {
              "outlinewidth": 0,
              "ticks": ""
             }
            },
            "type": "scattermapbox"
           }
          ],
          "scatterpolar": [
           {
            "marker": {
             "colorbar": {
              "outlinewidth": 0,
              "ticks": ""
             }
            },
            "type": "scatterpolar"
           }
          ],
          "scatterpolargl": [
           {
            "marker": {
             "colorbar": {
              "outlinewidth": 0,
              "ticks": ""
             }
            },
            "type": "scatterpolargl"
           }
          ],
          "scatterternary": [
           {
            "marker": {
             "colorbar": {
              "outlinewidth": 0,
              "ticks": ""
             }
            },
            "type": "scatterternary"
           }
          ],
          "surface": [
           {
            "colorbar": {
             "outlinewidth": 0,
             "ticks": ""
            },
            "colorscale": [
             [
              0,
              "#0d0887"
             ],
             [
              0.1111111111111111,
              "#46039f"
             ],
             [
              0.2222222222222222,
              "#7201a8"
             ],
             [
              0.3333333333333333,
              "#9c179e"
             ],
             [
              0.4444444444444444,
              "#bd3786"
             ],
             [
              0.5555555555555556,
              "#d8576b"
             ],
             [
              0.6666666666666666,
              "#ed7953"
             ],
             [
              0.7777777777777778,
              "#fb9f3a"
             ],
             [
              0.8888888888888888,
              "#fdca26"
             ],
             [
              1,
              "#f0f921"
             ]
            ],
            "type": "surface"
           }
          ],
          "table": [
           {
            "cells": {
             "fill": {
              "color": "#EBF0F8"
             },
             "line": {
              "color": "white"
             }
            },
            "header": {
             "fill": {
              "color": "#C8D4E3"
             },
             "line": {
              "color": "white"
             }
            },
            "type": "table"
           }
          ]
         },
         "layout": {
          "annotationdefaults": {
           "arrowcolor": "#2a3f5f",
           "arrowhead": 0,
           "arrowwidth": 1
          },
          "autotypenumbers": "strict",
          "coloraxis": {
           "colorbar": {
            "outlinewidth": 0,
            "ticks": ""
           }
          },
          "colorscale": {
           "diverging": [
            [
             0,
             "#8e0152"
            ],
            [
             0.1,
             "#c51b7d"
            ],
            [
             0.2,
             "#de77ae"
            ],
            [
             0.3,
             "#f1b6da"
            ],
            [
             0.4,
             "#fde0ef"
            ],
            [
             0.5,
             "#f7f7f7"
            ],
            [
             0.6,
             "#e6f5d0"
            ],
            [
             0.7,
             "#b8e186"
            ],
            [
             0.8,
             "#7fbc41"
            ],
            [
             0.9,
             "#4d9221"
            ],
            [
             1,
             "#276419"
            ]
           ],
           "sequential": [
            [
             0,
             "#0d0887"
            ],
            [
             0.1111111111111111,
             "#46039f"
            ],
            [
             0.2222222222222222,
             "#7201a8"
            ],
            [
             0.3333333333333333,
             "#9c179e"
            ],
            [
             0.4444444444444444,
             "#bd3786"
            ],
            [
             0.5555555555555556,
             "#d8576b"
            ],
            [
             0.6666666666666666,
             "#ed7953"
            ],
            [
             0.7777777777777778,
             "#fb9f3a"
            ],
            [
             0.8888888888888888,
             "#fdca26"
            ],
            [
             1,
             "#f0f921"
            ]
           ],
           "sequentialminus": [
            [
             0,
             "#0d0887"
            ],
            [
             0.1111111111111111,
             "#46039f"
            ],
            [
             0.2222222222222222,
             "#7201a8"
            ],
            [
             0.3333333333333333,
             "#9c179e"
            ],
            [
             0.4444444444444444,
             "#bd3786"
            ],
            [
             0.5555555555555556,
             "#d8576b"
            ],
            [
             0.6666666666666666,
             "#ed7953"
            ],
            [
             0.7777777777777778,
             "#fb9f3a"
            ],
            [
             0.8888888888888888,
             "#fdca26"
            ],
            [
             1,
             "#f0f921"
            ]
           ]
          },
          "colorway": [
           "#636efa",
           "#EF553B",
           "#00cc96",
           "#ab63fa",
           "#FFA15A",
           "#19d3f3",
           "#FF6692",
           "#B6E880",
           "#FF97FF",
           "#FECB52"
          ],
          "font": {
           "color": "#2a3f5f"
          },
          "geo": {
           "bgcolor": "white",
           "lakecolor": "white",
           "landcolor": "#E5ECF6",
           "showlakes": true,
           "showland": true,
           "subunitcolor": "white"
          },
          "hoverlabel": {
           "align": "left"
          },
          "hovermode": "closest",
          "mapbox": {
           "style": "light"
          },
          "paper_bgcolor": "white",
          "plot_bgcolor": "#E5ECF6",
          "polar": {
           "angularaxis": {
            "gridcolor": "white",
            "linecolor": "white",
            "ticks": ""
           },
           "bgcolor": "#E5ECF6",
           "radialaxis": {
            "gridcolor": "white",
            "linecolor": "white",
            "ticks": ""
           }
          },
          "scene": {
           "xaxis": {
            "backgroundcolor": "#E5ECF6",
            "gridcolor": "white",
            "gridwidth": 2,
            "linecolor": "white",
            "showbackground": true,
            "ticks": "",
            "zerolinecolor": "white"
           },
           "yaxis": {
            "backgroundcolor": "#E5ECF6",
            "gridcolor": "white",
            "gridwidth": 2,
            "linecolor": "white",
            "showbackground": true,
            "ticks": "",
            "zerolinecolor": "white"
           },
           "zaxis": {
            "backgroundcolor": "#E5ECF6",
            "gridcolor": "white",
            "gridwidth": 2,
            "linecolor": "white",
            "showbackground": true,
            "ticks": "",
            "zerolinecolor": "white"
           }
          },
          "shapedefaults": {
           "line": {
            "color": "#2a3f5f"
           }
          },
          "ternary": {
           "aaxis": {
            "gridcolor": "white",
            "linecolor": "white",
            "ticks": ""
           },
           "baxis": {
            "gridcolor": "white",
            "linecolor": "white",
            "ticks": ""
           },
           "bgcolor": "#E5ECF6",
           "caxis": {
            "gridcolor": "white",
            "linecolor": "white",
            "ticks": ""
           }
          },
          "title": {
           "x": 0.05
          },
          "xaxis": {
           "automargin": true,
           "gridcolor": "white",
           "linecolor": "white",
           "ticks": "",
           "title": {
            "standoff": 15
           },
           "zerolinecolor": "white",
           "zerolinewidth": 2
          },
          "yaxis": {
           "automargin": true,
           "gridcolor": "white",
           "linecolor": "white",
           "ticks": "",
           "title": {
            "standoff": 15
           },
           "zerolinecolor": "white",
           "zerolinewidth": 2
          }
         }
        },
        "title": {
         "text": "ENV=env_buck_9x1<br>MODEL=rnn_linear"
        },
        "xaxis": {
         "title": {
          "text": "Sample index"
         }
        },
        "yaxis": {
         "title": {
          "text": "Output"
         }
        }
       }
      }
     },
     "metadata": {},
     "output_type": "display_data"
    },
    {
     "name": "stdout",
     "output_type": "stream",
     "text": [
      "  NNOUT1: MAE=0.000000, MSE=0.000000\n"
     ]
    }
   ],
   "source": [
    "ENV_NAME = \"env_buck_9x1\"\n",
    "MODEL_NAME = \"rnn_linear\"\n",
    "PY_FILENAME = ENV_NAME + '_' + MODEL_NAME     # output python file name\n",
    "SP_FILENAME = ENV_NAME + '_' + MODEL_NAME     # output ltspice subcircuit name\n",
    "actor = step1()\n",
    "actions, actions_py = step2(actor)\n",
    "step3(actions, actions_py)"
   ]
  },
  {
   "cell_type": "code",
   "execution_count": null,
   "id": "dc7d99e9",
   "metadata": {},
   "outputs": [],
   "source": [
    "ENV_NAME = \"env_buck_9x1\"\n",
    "MODEL_NAME = \"gru_linear\"\n",
    "PY_FILENAME = ENV_NAME + '_' + MODEL_NAME     # output python file name\n",
    "SP_FILENAME = ENV_NAME + '_' + MODEL_NAME     # output ltspice subcircuit name\n",
    "actor = step1()\n",
    "actions, actions_py = step2(actor)\n",
    "step3(actions, actions_py)"
   ]
  },
  {
   "cell_type": "code",
   "execution_count": null,
   "id": "5c90d642",
   "metadata": {},
   "outputs": [],
   "source": [
    "ENV_NAME = \"env_buck_9x1\"\n",
    "MODEL_NAME = \"linear_lstm_linear\"\n",
    "PY_FILENAME = ENV_NAME + '_' + MODEL_NAME     # output python file name\n",
    "SP_FILENAME = ENV_NAME + '_' + MODEL_NAME     # output ltspice subcircuit name\n",
    "actor = step1()\n",
    "actions, actions_py = step2(actor)\n",
    "step3(actions, actions_py)"
   ]
  },
  {
   "cell_type": "code",
   "execution_count": null,
   "id": "f6be7f99",
   "metadata": {},
   "outputs": [],
   "source": []
  }
 ],
 "metadata": {
  "kernelspec": {
   "display_name": "Python 3",
   "language": "python",
   "name": "python3"
  },
  "language_info": {
   "codemirror_mode": {
    "name": "ipython",
    "version": 3
   },
   "file_extension": ".py",
   "mimetype": "text/x-python",
   "name": "python",
   "nbconvert_exporter": "python",
   "pygments_lexer": "ipython3",
   "version": "3.13.4"
  }
 },
 "nbformat": 4,
 "nbformat_minor": 5
}
